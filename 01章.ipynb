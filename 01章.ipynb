{
  "cells": [
    {
      "cell_type": "code",
      "execution_count": null,
      "metadata": {
        "colab": {
          "base_uri": "https://localhost:8080/"
        },
        "id": "SLDbM6CEn0N4",
        "outputId": "dedad9a7-2f4b-4904-f4d9-f3fd0d6257be"
      },
      "outputs": [
        {
          "name": "stdout",
          "output_type": "stream",
          "text": [
            "こんにちは世界\n"
          ]
        }
      ],
      "source": [
        "print(\"こんにちは世界\")"
      ]
    },
    {
      "cell_type": "markdown",
      "metadata": {
        "id": "rAy7sDg_oQF2"
      },
      "source": [
        "■ 四則演算："
      ]
    },
    {
      "cell_type": "code",
      "execution_count": null,
      "metadata": {
        "colab": {
          "base_uri": "https://localhost:8080/"
        },
        "id": "auicxHNCn4GK",
        "outputId": "18fdaff9-1450-4a00-e86b-51cf83c25859"
      },
      "outputs": [
        {
          "name": "stdout",
          "output_type": "stream",
          "text": [
            "和= 13\n",
            "積= 30\n",
            "商= 3.3333333333333335\n",
            "商（整数）= 3\n",
            "余り= 1\n"
          ]
        }
      ],
      "source": [
        "# a と b を自由に書き換えて何度か実行してみよう！\n",
        "a = 10\n",
        "b = 3\n",
        "print(\"和= \"+str(a+b))\n",
        "print(\"積= \"+str(a*b))\n",
        "\n",
        "print(\"商= \"+str(a/b))\n",
        "print(\"商（整数）= \"+str(a//b))\n",
        "print(\"余り= \"+str(a%b))"
      ]
    },
    {
      "cell_type": "markdown",
      "metadata": {
        "id": "QasiDpo8o8ZF"
      },
      "source": [
        "■ 繰り返しと条件分岐："
      ]
    },
    {
      "cell_type": "code",
      "execution_count": null,
      "metadata": {
        "colab": {
          "base_uri": "https://localhost:8080/"
        },
        "id": "0q5isd8Ro8qR",
        "outputId": "173c21a5-b5e8-4329-80d5-3a22cc7afa18"
      },
      "outputs": [
        {
          "name": "stdout",
          "output_type": "stream",
          "text": [
            "0\n",
            "3\n",
            "6\n",
            "9\n"
          ]
        }
      ],
      "source": [
        "# 繰り返しと条件分岐\n",
        "# xが0～11まで変化しながら繰り返し\n",
        "for x in range(0,12):\n",
        "  if x % 3 == 0:\n",
        "    print(x)"
      ]
    },
    {
      "cell_type": "markdown",
      "metadata": {
        "id": "2FkNvi7Co8y6"
      },
      "source": [
        "■ フィボナッチ数列の出力："
      ]
    },
    {
      "cell_type": "code",
      "execution_count": null,
      "metadata": {
        "colab": {
          "base_uri": "https://localhost:8080/"
        },
        "id": "kNcY8gmNo87q",
        "outputId": "2fe140db-de7a-4d9a-fc5d-419bc69fdbb5"
      },
      "outputs": [
        {
          "name": "stdout",
          "output_type": "stream",
          "text": [
            "0\n",
            "1\n",
            "1\n",
            "2\n",
            "3\n",
            "5\n",
            "8\n",
            "13\n",
            "21\n",
            "34\n",
            "55\n",
            "89\n",
            "144\n"
          ]
        }
      ],
      "source": [
        "# 「関数」を使ってフィボナッチ数列を出力してみよう！\n",
        "def fib(k):\n",
        "  if k == 0:\n",
        "    return 0\n",
        "  elif k == 1:\n",
        "    return 1\n",
        "  else:\n",
        "    return fib(k-1) + fib(k-2)\n",
        "\n",
        "for t in range(0,13):\n",
        "  print(fib(t))"
      ]
    },
    {
      "cell_type": "markdown",
      "metadata": {
        "id": "Yp01v9Ypo9Dg"
      },
      "source": [
        "■ 愛を出力するコード："
      ]
    },
    {
      "cell_type": "code",
      "execution_count": null,
      "metadata": {
        "colab": {
          "base_uri": "https://localhost:8080/"
        },
        "id": "UU5itcfFo9LG",
        "outputId": "6c930d0e-74a9-444f-c436-cbfd62a5bbf4"
      },
      "outputs": [
        {
          "name": "stdout",
          "output_type": "stream",
          "text": [
            "                                                            \n",
            "                                                            \n",
            "                                                            \n",
            "                veLoveLov           veLoveLov               \n",
            "            eLoveLoveLoveLove   eLoveLoveLoveLove           \n",
            "          veLoveLoveLoveLoveLoveLoveLoveLoveLoveLov         \n",
            "         veLoveLoveLoveLoveLoveLoveLoveLoveLoveLoveL        \n",
            "        veLoveLoveLoveLoveLoveLoveLoveLoveLoveLoveLov       \n",
            "        eLoveLoveLoveLoveLoveLoveLoveLoveLoveLoveLove       \n",
            "        LoveLoveLoveLoveLoveLoveLoveLoveLoveLoveLoveL       \n",
            "        oveLoveLoveLoveLoveLoveLoveLoveLoveLoveLoveLo       \n",
            "        veLoveLoveLoveLoveLoveLoveLoveLoveLoveLoveLov       \n",
            "        eLoveLoveLoveLoveLoveLoveLoveLoveLoveLoveLove       \n",
            "         oveLoveLoveLoveLoveLoveLoveLoveLoveLoveLove        \n",
            "          eLoveLoveLoveLoveLoveLoveLoveLoveLoveLove         \n",
            "          LoveLoveLoveLoveLoveLoveLoveLoveLoveLoveL         \n",
            "            eLoveLoveLoveLoveLoveLoveLoveLoveLove           \n",
            "             oveLoveLoveLoveLoveLoveLoveLoveLove            \n",
            "              eLoveLoveLoveLoveLoveLoveLoveLove             \n",
            "                veLoveLoveLoveLoveLoveLoveLov               \n",
            "                  oveLoveLoveLoveLoveLoveLo                 \n",
            "                    LoveLoveLoveLoveLoveL                   \n",
            "                       LoveLoveLoveLov                      \n",
            "                          LoveLoveL                         \n",
            "                             Lov                            \n",
            "                              v                             \n",
            "                                                            \n",
            "                                                            \n",
            "                                                            \n",
            "                                                            \n"
          ]
        }
      ],
      "source": [
        "print('\\n'.join([''.join([('Love'[(x-y) % len('Love')] if ((x*0.05)**2+(y*0.1)**2-1)**3-(x*0.05)**2*(y*0.1)**3 <= 0else' ') for x in  range(-30, 30)]) for y in  range(15, -15, -1)]))"
      ]
    },
    {
      "cell_type": "markdown",
      "metadata": {
        "id": "hEajtzI8o9TP"
      },
      "source": [
        "■ 30回実行するように変更した例："
      ]
    },
    {
      "cell_type": "code",
      "execution_count": null,
      "metadata": {
        "id": "o_TCBvBqo9a0"
      },
      "outputs": [],
      "source": [
        "for t in range(0,30):\n",
        "  print(fib(t))"
      ]
    },
    {
      "cell_type": "markdown",
      "metadata": {
        "id": "eTrAiFr5pjHv"
      },
      "source": [
        "■  GoogleDriveのマウントコマンド："
      ]
    },
    {
      "cell_type": "code",
      "execution_count": null,
      "metadata": {
        "id": "xFRolkkPpe20"
      },
      "outputs": [],
      "source": [
        "from google.colab import drive\n",
        "drive.mount('/content/drive')"
      ]
    },
    {
      "cell_type": "markdown",
      "metadata": {
        "id": "CQHDmWJvph_-"
      },
      "source": [
        "■  GoogleDriveにテキストを保存するコード："
      ]
    },
    {
      "cell_type": "code",
      "execution_count": null,
      "metadata": {
        "id": "d-VtOOSapmq1"
      },
      "outputs": [],
      "source": [
        "output_str = \"サンプルテキスト\\nファイル保存サンプルです。\"\n",
        "with open(\"/content/drive/MyDrive/sample.txt\", mode=\"w\") as f:\n",
        "  f.write(output_str)"
      ]
    },
    {
      "cell_type": "markdown",
      "metadata": {
        "id": "XstqC0ngpm6D"
      },
      "source": [
        "■ 現在のカレントディレクトリのパスを表示："
      ]
    },
    {
      "cell_type": "code",
      "execution_count": null,
      "metadata": {
        "colab": {
          "base_uri": "https://localhost:8080/"
        },
        "id": "Ch4s-9UBpnBf",
        "outputId": "70951d0b-bc08-4297-d23c-c60d13f882bb"
      },
      "outputs": [
        {
          "name": "stdout",
          "output_type": "stream",
          "text": [
            "/content\n"
          ]
        }
      ],
      "source": [
        "!pwd"
      ]
    },
    {
      "cell_type": "markdown",
      "metadata": {
        "id": "BZ6lBiVZpnI8"
      },
      "source": [
        "■ カレントディレクトリ内のファイルを表示："
      ]
    },
    {
      "cell_type": "code",
      "execution_count": null,
      "metadata": {
        "colab": {
          "base_uri": "https://localhost:8080/"
        },
        "id": "eI232uJbpnQa",
        "outputId": "8c1ce774-5cd2-448e-c1c4-14a60908a065"
      },
      "outputs": [
        {
          "name": "stdout",
          "output_type": "stream",
          "text": [
            "total 4\n",
            "drwxr-xr-x 1 root root 4096 Dec 21 17:29 sample_data\n"
          ]
        }
      ],
      "source": [
        "!ls -l"
      ]
    },
    {
      "cell_type": "markdown",
      "metadata": {
        "id": "wiLpIgHlpnXG"
      },
      "source": [
        "■ 日付情報を表示："
      ]
    },
    {
      "cell_type": "code",
      "execution_count": null,
      "metadata": {
        "colab": {
          "base_uri": "https://localhost:8080/"
        },
        "id": "BhX5yLEnp4rh",
        "outputId": "e241ca76-5852-4e65-8d16-a7e575690958"
      },
      "outputs": [
        {
          "name": "stdout",
          "output_type": "stream",
          "text": [
            "Sat Jan  2 15:17:02 UTC 2021\n"
          ]
        }
      ],
      "source": [
        "!date"
      ]
    },
    {
      "cell_type": "markdown",
      "metadata": {
        "id": "LaZQjPGOp46F"
      },
      "source": [
        "■ Pythonのバージョンを表示："
      ]
    },
    {
      "cell_type": "code",
      "execution_count": null,
      "metadata": {
        "colab": {
          "base_uri": "https://localhost:8080/"
        },
        "id": "Oqcx2zRRp5BW",
        "outputId": "69d908fc-321a-4c40-9154-5974e0dc9fa0"
      },
      "outputs": [
        {
          "name": "stdout",
          "output_type": "stream",
          "text": [
            "Python 3.6.9\n"
          ]
        }
      ],
      "source": [
        "!python -V"
      ]
    },
    {
      "cell_type": "markdown",
      "metadata": {
        "id": "YsgbgfAQp5Iq"
      },
      "source": [
        "■ Pythonのjanomeモジュールインストール："
      ]
    },
    {
      "cell_type": "code",
      "execution_count": null,
      "metadata": {
        "colab": {
          "base_uri": "https://localhost:8080/"
        },
        "id": "dFXRaPR6p5QA",
        "outputId": "0c648cb3-e42e-4c03-a0ce-f7bfb8e2e44b"
      },
      "outputs": [
        {
          "name": "stdout",
          "output_type": "stream",
          "text": [
            "Collecting janome\n",
            "\u001b[?25l  Downloading https://files.pythonhosted.org/packages/a8/63/98858cbead27df7536c7e300c169da0999e9704d02220dc6700b804eeff0/Janome-0.4.1-py2.py3-none-any.whl (19.7MB)\n",
            "\u001b[K     |████████████████████████████████| 19.7MB 1.3MB/s \n",
            "\u001b[?25hInstalling collected packages: janome\n",
            "Successfully installed janome-0.4.1\n"
          ]
        }
      ],
      "source": [
        "!pip install janome"
      ]
    },
    {
      "cell_type": "markdown",
      "metadata": {
        "id": "gXjafEb8p5W9"
      },
      "source": [
        "■ Pythonのrequestsモジュールのバージョンを表示："
      ]
    },
    {
      "cell_type": "code",
      "execution_count": null,
      "metadata": {
        "colab": {
          "base_uri": "https://localhost:8080/"
        },
        "id": "QCrw44Zsp5ex",
        "outputId": "d972741b-16d0-446e-f4bb-ab1f87908d4e"
      },
      "outputs": [
        {
          "name": "stdout",
          "output_type": "stream",
          "text": [
            "Name: requests\n",
            "Version: 2.23.0\n",
            "Summary: Python HTTP for Humans.\n",
            "Home-page: https://requests.readthedocs.io\n",
            "Author: Kenneth Reitz\n",
            "Author-email: me@kennethreitz.org\n",
            "License: Apache 2.0\n",
            "Location: /usr/local/lib/python3.6/dist-packages\n",
            "Requires: chardet, idna, urllib3, certifi\n",
            "Required-by: tweepy, torchtext, tensorflow-datasets, tensorboard, Sphinx, spacy, requests-oauthlib, pymystem3, pandas-datareader, kaggle, gspread, google-colab, google-api-core, gdown, folium, fix-yahoo-finance, fastai, coveralls, community, CacheControl\n"
          ]
        }
      ],
      "source": [
        "!pip show requests"
      ]
    },
    {
      "cell_type": "markdown",
      "metadata": {
        "id": "3rWDhWrjp5l5"
      },
      "source": [
        "■ 掛け算九九表："
      ]
    },
    {
      "cell_type": "code",
      "execution_count": null,
      "metadata": {
        "colab": {
          "base_uri": "https://localhost:8080/"
        },
        "id": "7lb5dvAAp5tk",
        "outputId": "587f26dc-59ce-415d-d80a-ce79ce11b18c"
      },
      "outputs": [
        {
          "name": "stdout",
          "output_type": "stream",
          "text": [
            " 1  2  3  4  5  6  7  8  9 \n",
            " 2  4  6  8 10 12 14 16 18 \n",
            " 3  6  9 12 15 18 21 24 27 \n",
            " 4  8 12 16 20 24 28 32 36 \n",
            " 5 10 15 20 25 30 35 40 45 \n",
            " 6 12 18 24 30 36 42 48 54 \n",
            " 7 14 21 28 35 42 49 56 63 \n",
            " 8 16 24 32 40 48 56 64 72 \n",
            " 9 18 27 36 45 54 63 72 81 \n"
          ]
        }
      ],
      "source": [
        "# 掛け算九九表\n",
        "for x in range(0,9):\n",
        "  for y in range(0,9):\n",
        "    print('{0}'.format('%2d ' % ((x+1) * (y+1))), end=\"\")\n",
        "  print('')"
      ]
    },
    {
      "cell_type": "markdown",
      "metadata": {
        "id": "AdN3tmeIp50M"
      },
      "source": [
        "■ 正規表現による文字列の置換："
      ]
    },
    {
      "cell_type": "code",
      "execution_count": null,
      "metadata": {
        "colab": {
          "base_uri": "https://localhost:8080/"
        },
        "id": "WKzXZLCDp57k",
        "outputId": "fad067fb-4c0e-4936-c8a4-e665189032d4"
      },
      "outputs": [
        {
          "name": "stdout",
          "output_type": "stream",
          "text": [
            "PPAP PPAPeapple apple PPAP\n"
          ]
        }
      ],
      "source": [
        "# 正規表現による文字列の置換\n",
        "import re\n",
        "input_str= 'pen pineapple apple pen'\n",
        "result_str = re.sub(r'p[a-z]n+', 'PPAP', input_str)\n",
        "#pen, とpin がPPAP に置換される\n",
        "print(result_str )"
      ]
    },
    {
      "cell_type": "markdown",
      "metadata": {
        "id": "IMLcH5sSp6CW"
      },
      "source": [
        "■ 現在時刻をN回表示する簡易時計："
      ]
    },
    {
      "cell_type": "code",
      "execution_count": null,
      "metadata": {
        "colab": {
          "base_uri": "https://localhost:8080/"
        },
        "id": "kJKEgpGfqxq6",
        "outputId": "f0cbed2a-3c68-4ab6-b867-afa62a37453f"
      },
      "outputs": [
        {
          "name": "stdout",
          "output_type": "stream",
          "text": [
            "2021/01/02 15:18:00\n",
            "2021/01/02 15:18:01\n",
            "2021/01/02 15:18:02\n",
            "2021/01/02 15:18:03\n",
            "2021/01/02 15:18:04\n"
          ]
        }
      ],
      "source": [
        "# 時間関連のモジュールを使う準備\n",
        "import datetime, time\n",
        "\n",
        "# 現在時刻をN回表示するコード例。「def」で関数定義する\n",
        "def do_main_function(kurikaesi_kaisuu):\n",
        "  for count in range(0, kurikaesi_kaisuu):\n",
        "    print_current_time()\n",
        "    time.sleep(1)\n",
        "\n",
        "# 現在時刻をprintする(日本時間ではなくUTC=協定世界時)\n",
        "def print_current_time():\n",
        "  print( datetime.datetime.now().strftime('%Y/%m/%d %H:%M:%S') )\n",
        "\n",
        "# 関数定義（def)は定義のみ。以下で実行する\n",
        "do_main_function(5)\n"
      ]
    },
    {
      "cell_type": "markdown",
      "metadata": {
        "id": "CtzedCC8qx7x"
      },
      "source": [
        "■ 1行のコードで素数を数えて落ち着く："
      ]
    },
    {
      "cell_type": "code",
      "execution_count": null,
      "metadata": {
        "colab": {
          "base_uri": "https://localhost:8080/"
        },
        "id": "ybBzoFLwqyCw",
        "outputId": "28e25c47-ce49-4fdd-e934-ab7c797b5ee5"
      },
      "outputs": [
        {
          "name": "stdout",
          "output_type": "stream",
          "text": [
            "2 3 5 7 11 13 17 19 23 29 31 37 41 43 47 53 59 61 67 71 73 79 83 89 97\n"
          ]
        }
      ],
      "source": [
        "print(' '.join([str(item) for item in  filter(lambda x: all(map(lambda p: x % p!= 0, range(2, x))), range(2, 101))]))"
      ]
    },
    {
      "cell_type": "code",
      "execution_count": null,
      "metadata": {
        "id": "HsfZSUegrXgo"
      },
      "outputs": [],
      "source": []
    }
  ],
  "metadata": {
    "colab": {
      "include_colab_link": true,
      "provenance": []
    },
    "kernelspec": {
      "display_name": "Python 3",
      "name": "python3"
    }
  },
  "nbformat": 4,
  "nbformat_minor": 0
}
