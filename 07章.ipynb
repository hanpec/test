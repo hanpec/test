{
  "cells": [
    {
      "cell_type": "markdown",
      "metadata": {
        "id": "K-j9_2_3n40Q"
      },
      "source": [
        "■ Janomeのインストール："
      ]
    },
    {
      "cell_type": "code",
      "execution_count": null,
      "metadata": {
        "colab": {
          "base_uri": "https://localhost:8080/"
        },
        "id": "SLDbM6CEn0N4",
        "outputId": "b272887d-6fa6-46d2-d433-f4ed5c521a02"
      },
      "outputs": [
        {
          "name": "stdout",
          "output_type": "stream",
          "text": [
            "Collecting janome\n",
            "  Downloading Janome-0.4.1-py2.py3-none-any.whl (19.7 MB)\n",
            "\u001b[K     |████████████████████████████████| 19.7 MB 6.6 MB/s \n",
            "\u001b[?25hInstalling collected packages: janome\n",
            "Successfully installed janome-0.4.1\n"
          ]
        }
      ],
      "source": [
        "!pip install janome"
      ]
    },
    {
      "cell_type": "markdown",
      "metadata": {
        "id": "rAy7sDg_oQF2"
      },
      "source": [
        "■ 三国志の文章から名詞と動詞と形容詞を抽出：\n"
      ]
    },
    {
      "cell_type": "code",
      "execution_count": null,
      "metadata": {
        "colab": {
          "base_uri": "https://localhost:8080/"
        },
        "id": "auicxHNCn4GK",
        "outputId": "cd9b4fb9-b4e2-4ab5-d047-ba24a3c3fd0b"
      },
      "outputs": [
        {
          "name": "stdout",
          "output_type": "stream",
          "text": [
            "['劉', '備', '関', '羽', '張', '飛', '三', '人', '桃園', '義兄弟', '契り', '結ぶ']\n"
          ]
        }
      ],
      "source": [
        "# Janomeのロード\n",
        "from janome.tokenizer import Tokenizer\n",
        "\n",
        "# Tokenizerインスタンスの生成\n",
        "tokenizer = Tokenizer()\n",
        "\n",
        "# 名詞、動詞原形、形容詞を配列で抽出する関数\n",
        "def extract_words(text):\n",
        "  tokens = tokenizer.tokenize(text)\n",
        "  return [token.base_form for token in tokens\n",
        "          if token.part_of_speech.split(',')[0] in['名詞', '動詞', '形容詞']]\n",
        "\n",
        "# 例文で結果を確かめてみる\n",
        "sampletext = u\"劉備と関羽と張飛の三人は桃園で義兄弟の契りを結んだ\"\n",
        "print(extract_words(sampletext))\n"
      ]
    },
    {
      "cell_type": "markdown",
      "metadata": {
        "id": "QasiDpo8o8ZF"
      },
      "source": [
        "■  GoogleDriveのマウントコマンド："
      ]
    },
    {
      "cell_type": "code",
      "execution_count": null,
      "metadata": {
        "colab": {
          "base_uri": "https://localhost:8080/"
        },
        "id": "0q5isd8Ro8qR",
        "outputId": "916a03bc-4f79-4e8e-bcd9-22603a746b4d"
      },
      "outputs": [
        {
          "name": "stdout",
          "output_type": "stream",
          "text": [
            "Mounted at /content/drive\n"
          ]
        }
      ],
      "source": [
        "from google.colab import drive\n",
        "drive.mount('/content/drive')\n"
      ]
    },
    {
      "cell_type": "markdown",
      "metadata": {
        "id": "2FkNvi7Co8y6"
      },
      "source": [
        "■ 武将名簿のダウンロード："
      ]
    },
    {
      "cell_type": "code",
      "execution_count": null,
      "metadata": {
        "colab": {
          "base_uri": "https://localhost:8080/"
        },
        "id": "kNcY8gmNo87q",
        "outputId": "254c974d-9e55-48e5-ec14-c797fc2c253d"
      },
      "outputs": [
        {
          "name": "stdout",
          "output_type": "stream",
          "text": [
            "  % Total    % Received % Xferd  Average Speed   Time    Time     Time  Current\n",
            "                                 Dload  Upload   Total   Spent    Left  Speed\n",
            "100 27008  100 27008    0     0  59098      0 --:--:-- --:--:-- --:--:-- 58969\n",
            "阿会喃\n",
            "阿貴\n",
            "阿羅槃\n",
            "阿騖\n",
            "逢紀\n",
            "伊夷模\n",
            "伊健妓妾\n",
            "伊声耆\n",
            "伊籍\n",
            "位宮\n"
          ]
        }
      ],
      "source": [
        "# KITERETU フォルダをマウントしたGoogleDriveフォルダ(MyDrive)内に作成する\n",
        "!mkdir -p /content/drive/MyDrive/KITERETU\n",
        "\n",
        "# 武将名簿ファイルのダウンロード：\n",
        "!curl -o /content/drive/MyDrive/KITERETU/sangokusi_jinbutu_list.csv https://storage.googleapis.com/nlp_youwht/san/sangokusi_jinbutu_list.csv\n",
        "\n",
        "# 名簿の冒頭部分を眺めてみる\n",
        "!head \"/content/drive/MyDrive/KITERETU/sangokusi_jinbutu_list.csv\"\n"
      ]
    },
    {
      "cell_type": "markdown",
      "metadata": {
        "id": "Yp01v9Ypo9Dg"
      },
      "source": [
        " 武将名簿をユーザ辞書に変換して保存："
      ]
    },
    {
      "cell_type": "code",
      "execution_count": null,
      "metadata": {
        "id": "UU5itcfFo9LG"
      },
      "outputs": [],
      "source": [
        "#人物の名前が列挙してあるテキストをリスト形式で読み込む\n",
        "import codecs\n",
        "def getKeyWordList(input_file_path):\n",
        "  input_file = codecs.open(input_file_path, 'r', 'utf-8')\n",
        "  # ファイルの読み込み。各行ごとが格納されたリストになる\n",
        "  line_list = input_file.readlines()\n",
        "  # 改行コードを消去するstrip()をそれぞれにほどこす\n",
        "  return [line.strip() for line in line_list]\n",
        "\n",
        "keyword_list = getKeyWordList('/content/drive/MyDrive/KITERETU/sangokusi_jinbutu_list.csv')\n",
        "\n",
        "userdict_str = \"\"\n",
        "# コストや品詞の設定などを行い、ユーザ辞書形式にする\n",
        "for keyword in keyword_list:\n",
        "  userdict_one_str = keyword + \",-1,-1,-5000,名詞,一般,*,*,*,*,\" + keyword + \",*,*\"\n",
        "  userdict_str += userdict_one_str+\"\\n\"\n",
        "\n",
        "#作成したユーザ辞書形式をcsvで保存しておく\n",
        "with open(\"/content/drive/MyDrive/KITERETU/sangokusi_userdic.csv\", \"w\", encoding=\"utf8\") as f:\n",
        "  f.write(userdict_str)\n"
      ]
    },
    {
      "cell_type": "markdown",
      "metadata": {
        "id": "hEajtzI8o9TP"
      },
      "source": [
        "■ 用意したユーザ辞書を使って形態素解析：\n"
      ]
    },
    {
      "cell_type": "code",
      "execution_count": null,
      "metadata": {
        "colab": {
          "base_uri": "https://localhost:8080/"
        },
        "id": "o_TCBvBqo9a0",
        "outputId": "383b190f-a0b5-435a-ece1-849863f45201"
      },
      "outputs": [
        {
          "name": "stdout",
          "output_type": "stream",
          "text": [
            "['劉備', '関羽', '張飛', 'の', '三', '人', '桃園', '義兄弟', '契り', '結ぶ']\n"
          ]
        }
      ],
      "source": [
        "# Janomeのロード\n",
        "from janome.tokenizer import Tokenizer\n",
        "\n",
        "# Tokenizerインスタンスの生成\n",
        "tokenizer = Tokenizer(\"/content/drive/MyDrive/KITERETU/sangokusi_userdic.csv\", udic_enc='utf8')\n",
        "# 変更前は以下であった。\n",
        "# tokenizer = Tokenizer()\n",
        "\n",
        "# 名詞・動詞原形のみを配列で抽出する関数\n",
        "def extract_words(text):\n",
        "  tokens = tokenizer.tokenize(text)\n",
        "  return [token.base_form for token in tokens\n",
        "          if token.part_of_speech.split(',')[0] in['名詞', '動詞', '形容詞']]\n",
        "\n",
        "# 例文で結果を確かめてみる\n",
        "sampletext = u\"劉備と関羽と張飛の三人は桃園で義兄弟の契りを結んだ\"\n",
        "print(extract_words(sampletext))\n"
      ]
    },
    {
      "cell_type": "markdown",
      "metadata": {
        "id": "eTrAiFr5pjHv"
      },
      "source": [
        "■ 反董卓連合軍でも試してみる：\n"
      ]
    },
    {
      "cell_type": "code",
      "execution_count": null,
      "metadata": {
        "colab": {
          "base_uri": "https://localhost:8080/"
        },
        "id": "xFRolkkPpe20",
        "outputId": "18460e3a-44b4-430f-e4d1-e004277a12af"
      },
      "outputs": [
        {
          "name": "stdout",
          "output_type": "stream",
          "text": [
            "['一', '鎮', '後', '将軍', '南陽', '太守', '袁術', '字', '公', '路', '筆頭', '二', '鎮', '冀州', '刺史', '韓馥', '三', '鎮', '予州', '刺史', '孔伷', '四', '鎮', '兗州', '刺史', '劉岱', '五', '鎮', '河内', '郡', '太守', '王匡', '六', '鎮', '陳', '留', '太守', '張邈', '七', '鎮', '東', '郡', '太守', '喬瑁']\n"
          ]
        }
      ],
      "source": [
        "sampletext = u\"第一鎮として後将軍南陽の太守袁術、字は公路を筆頭に、\\\n",
        "第二鎮、冀州の刺史韓馥、第三鎮、予州の刺史孔伷、\\\n",
        "第四鎮、兗州の刺史劉岱、第五鎮、河内郡の太守王匡、\\\n",
        "第六鎮、陳留の太守張邈、第七鎮、東郡の太守喬瑁\"\n",
        "print(extract_words(sampletext))\n"
      ]
    },
    {
      "cell_type": "markdown",
      "metadata": {
        "id": "CQHDmWJvph_-"
      },
      "source": [
        "■ 字リストのダウンロード："
      ]
    },
    {
      "cell_type": "code",
      "execution_count": null,
      "metadata": {
        "colab": {
          "base_uri": "https://localhost:8080/"
        },
        "id": "d-VtOOSapmq1",
        "outputId": "aa66f7f8-651d-4d7f-9e48-a4d79d701610"
      },
      "outputs": [
        {
          "name": "stdout",
          "output_type": "stream",
          "text": [
            "  % Total    % Received % Xferd  Average Speed   Time    Time     Time  Current\n",
            "                                 Dload  Upload   Total   Spent    Left  Speed\n",
            "100  3202  100  3202    0     0  15103      0 --:--:-- --:--:-- --:--:-- 15032\n",
            "安国,関興\n",
            "安世,司馬炎\n",
            "威公,楊儀\n",
            "異度,蒯越\n",
            "雲長,関羽\n",
            "益徳,張飛\n",
            "演長,郭攸之\n",
            "漢升,黄忠\n",
            "漢瑜,陳珪\n",
            "機伯,伊籍\n"
          ]
        }
      ],
      "source": [
        "# 字リストのダウンロード\n",
        "!curl -o /content/drive/MyDrive/KITERETU/sangokusi_azana_list.csv https://storage.googleapis.com/nlp_youwht/san/sangokusi_azana_list.csv\n",
        "\n",
        "# 冒頭部の内容確認\n",
        "!head \"/content/drive/MyDrive/KITERETU/sangokusi_azana_list.csv\"\n"
      ]
    },
    {
      "cell_type": "markdown",
      "metadata": {
        "id": "XstqC0ngpm6D"
      },
      "source": [
        "■ 字（あざな）の名寄せ用変換データ作成："
      ]
    },
    {
      "cell_type": "code",
      "execution_count": null,
      "metadata": {
        "colab": {
          "base_uri": "https://localhost:8080/"
        },
        "id": "Ch4s-9UBpnBf",
        "outputId": "50a7e1ea-67a4-4e28-828f-20e1134ff59d"
      },
      "outputs": [
        {
          "name": "stdout",
          "output_type": "stream",
          "text": [
            "[['関興安国', '関興'], ['関安国', '関興'], ['安国', '関興'], ['司馬炎安世', '司馬炎'], ['司馬安世', '司馬炎'], ['安世', '司馬炎'], ['楊儀威公', '楊儀'], ['楊威公', '楊儀'], ['威公', '楊儀']]\n"
          ]
        }
      ],
      "source": [
        "import csv\n",
        "# 字（あざな）の一覧ファイルを読み込む\n",
        "csv_file = open(\"/content/drive/MyDrive/KITERETU/sangokusi_azana_list.csv\", \"r\", encoding=\"utf8\")\n",
        "# CSVファイルをリスト形式で読み出す\n",
        "csv_reader = csv.reader(csv_file, delimiter=\",\")\n",
        "AZANA_LIST = [ e for e in csv_reader ]\n",
        "csv_file.close()\n",
        "\n",
        "# 字(あざな)と本名を入れると、３パターンの呼び⽅＆本名の組を作成する関数\n",
        "def make_yobikata_list(azana, name):\n",
        "  result_list = []\n",
        "\n",
        "  # ①[\"関羽雲長\",\"関羽\"] や、[\"諸葛亮孔明\",\"諸葛亮\"]の形を作る\n",
        "  result_list.append([name + azana, name])\n",
        "\n",
        "  # ②[\"関雲長\",\"関羽\"] や、[\"諸葛孔明\",\"諸葛亮\"]の形を作る\n",
        "  result_list.append([name[:-1] + azana, name])\n",
        "\n",
        "  # ③[\"雲長\",\"関羽\"] や、[\"孔明\",\"諸葛亮\"]の形を作る\n",
        "  result_list.append([azana, name])\n",
        "\n",
        "  # なお、最後の字のみの変換は、①の実行後に行うので③は最後に追加した\n",
        "  return result_list\n",
        "\n",
        "# 全武将の呼び方＋本名の組み合わせを作成する\n",
        "ALL_YOBIKATA_LIST = []\n",
        "for azana_name in AZANA_LIST:\n",
        "  # １武将ずつ、３パターンの呼び方＆本名の組を作成し追加していく\n",
        "  ALL_YOBIKATA_LIST += make_yobikata_list(azana_name[0], azana_name[1])\n",
        "\n",
        "# 結果は２重リスト（リストのリスト）であり、最初の９個の結果を見る\n",
        "print(ALL_YOBIKATA_LIST[0:9])\n"
      ]
    },
    {
      "cell_type": "markdown",
      "metadata": {
        "id": "BZ6lBiVZpnI8"
      },
      "source": [
        "■ 字（あざな）変換用関数の作成と実行："
      ]
    },
    {
      "cell_type": "code",
      "execution_count": null,
      "metadata": {
        "colab": {
          "base_uri": "https://localhost:8080/"
        },
        "id": "eI232uJbpnQa",
        "outputId": "71994439-70ce-4f64-ff07-ce75f2a27110"
      },
      "outputs": [
        {
          "name": "stdout",
          "output_type": "stream",
          "text": [
            "趙雲は、白馬を飛ばして、馬上から一気に彼を槍で突き殺した。\n",
            "趙雲は、なおも進んで敵の文醜、顔良の二軍へぶつかって行った。\n",
            "趙雲も、やがては、戦いつかれ、劉備も進退きわまって、すでに自刃を覚悟した時だった。\n"
          ]
        }
      ],
      "source": [
        "def azana_henkan(input_text):\n",
        "  result_text = input_text\n",
        "  # ループで、全部の変換パターンの置換処理を行う\n",
        "  for yobikata_name in ALL_YOBIKATA_LIST:\n",
        "    # yobikata_name もリストであり、[0]に呼び方、[1]に本名が入っている\n",
        "    result_text = result_text.replace(yobikata_name[0], yobikata_name[1])\n",
        "  return result_text\n",
        "\n",
        "sampletext = u\"趙子龍は、白馬を飛ばして、馬上から一気に彼を槍で突き殺した。\"\n",
        "print(azana_henkan(sampletext))\n",
        "sampletext = u\"子龍は、なおも進んで敵の文醜、顔良の二軍へぶつかって行った。\"\n",
        "print(azana_henkan(sampletext))\n",
        "sampletext = u\"趙雲子龍も、やがては、戦いつかれ、玄徳も進退きわまって、すでに自刃を覚悟した時だった。\"\n",
        "print(azana_henkan(sampletext))\n"
      ]
    },
    {
      "cell_type": "markdown",
      "metadata": {
        "id": "wiLpIgHlpnXG"
      },
      "source": [
        "【※ ここで付録を参照し、記載のコードを実行してください。】  \n",
        "の、付録のコード  \n",
        "■ 青空文庫からのダウンロード＆加工用共通コード：  \n"
      ]
    },
    {
      "cell_type": "code",
      "execution_count": null,
      "metadata": {
        "colab": {
          "base_uri": "https://localhost:8080/"
        },
        "id": "BhX5yLEnp4rh",
        "outputId": "5ec060d3-270f-4bdd-c433-0ff86ad7acf4"
      },
      "outputs": [
        {
          "name": "stdout",
          "output_type": "stream",
          "text": [
            "--2021-10-25 05:35:04--  http://x0213.org/codetable/jisx0213-2004-std.txt\n",
            "Resolving x0213.org (x0213.org)... 59.106.19.103\n",
            "Connecting to x0213.org (x0213.org)|59.106.19.103|:80... connected.\n",
            "HTTP request sent, awaiting response... 200 OK\n",
            "Length: 311997 (305K) [text/plain]\n",
            "Saving to: ‘jisx0213-2004-std.txt’\n",
            "\n",
            "jisx0213-2004-std.t 100%[===================>] 304.68K   394KB/s    in 0.8s    \n",
            "\n",
            "2021-10-25 05:35:05 (394 KB/s) - ‘jisx0213-2004-std.txt’ saved [311997/311997]\n",
            "\n"
          ]
        }
      ],
      "source": [
        "# 青空文庫からのダウンロードzip展開＆テキスト抽出\n",
        "\n",
        "import re\n",
        "import zipfile\n",
        "import urllib.request\n",
        "import os.path,glob\n",
        "# 青空文庫のURLから小説テキストデータを得る関数\n",
        "def get_flat_text_from_aozora(zip_url):\n",
        "  # zipファイル名の取得\n",
        "  zip_file_name = re.split(r'/', zip_url)[-1]\n",
        "  print(zip_file_name)\n",
        "\n",
        "  # 既にダウンロード済みか確認後、URLからファイルを取得\n",
        "  if not os.path.exists(zip_file_name):\n",
        "    print('Download URL = ',zip_url)\n",
        "    data = urllib.request.urlopen(zip_url).read()\n",
        "    with open(zip_file_name, mode=\"wb\") as f:\n",
        "      f.write(data)\n",
        "  else:\n",
        "    print('May be already exists')\n",
        "\n",
        "  # 拡張子を除いた名前で、展開用フォルダを作成\n",
        "  dir, ext = os.path.splitext(zip_file_name)\n",
        "  if not os.path.exists(dir):\n",
        "    os.makedirs(dir)\n",
        "\n",
        "  # zipファイルの中身を全て、展開用フォルダに展開\n",
        "  unzipped_data = zipfile.ZipFile(zip_file_name, 'r')\n",
        "  unzipped_data.extractall(dir)\n",
        "  unzipped_data.close()\n",
        "\n",
        "  # zipファイルの削除\n",
        "  os.remove(zip_file_name)\n",
        "  # 注：展開フォルダの削除は入れていない\n",
        "\n",
        "  # テキストファイル(.txt)の抽出\n",
        "  wild_path = os.path.join(dir,'*.txt')\n",
        "  # テキストファイルは原則1つ同梱。最初の1つを取得\n",
        "  txt_file_path = glob.glob(wild_path)[0]\n",
        "\n",
        "  print(txt_file_path)\n",
        "  # 青空文庫はshift_jisのためデコードしてutf8にする\n",
        "  binary_data = open(txt_file_path, 'rb').read()\n",
        "  main_text = binary_data.decode('shift_jis')\n",
        "\n",
        "  # 取得したutf8のテキストデータを返す\n",
        "  return main_text\n",
        "\n",
        "\n",
        "# 青空文庫のデータを加工して扱いやすくするコード\n",
        "\n",
        "# 外字データ変換のための準備\n",
        "# 外字変換のための対応表（jisx0213対応表）のダウンロード\n",
        "# ※事前にダウンロード済みであれば飛ばしてもよい\n",
        "!wget http://x0213.org/codetable/jisx0213-2004-std.txt\n",
        "\n",
        "import re\n",
        "\n",
        "# 外字変換のための対応表（jisx0213対応表）の読み込み\n",
        "with open('jisx0213-2004-std.txt') as f:\n",
        "  #ms = (re.match(r'(\\d-\\w{4})\\s+U\\+(\\w{4})', l) for l in f if l[0] != '#')\n",
        "  # 追加：jisx0213-2004-std.txtには5桁のUnicodeもあるため対応\n",
        "  ms = (re.match(r'(\\d-\\w{4})\\s+U\\+(\\w{4,5})', l) for l in f if l[0] != '#')\n",
        "  gaiji_table = {m[1]: chr(int(m[2], 16)) for m in ms if m}\n",
        "\n",
        "# 外字データの置き換えのための関数\n",
        "def get_gaiji(s):\n",
        "  # ※［＃「弓＋椁のつくり」、第3水準1-84-22］の形式を変換\n",
        "  m = re.search(r'第(\\d)水準\\d-(\\d{1,2})-(\\d{1,2})', s)\n",
        "  if m:\n",
        "    key = f'{m[1]}-{int(m[2])+32:2X}{int(m[3])+32:2X}'\n",
        "    return gaiji_table.get(key, s)\n",
        "  # ※［＃「身＋單」、U+8EC3、56-1］の形式を変換\n",
        "  m = re.search(r'U\\+(\\w{4})', s)\n",
        "  if m:\n",
        "    return chr(int(m[1], 16))\n",
        "  # ※［＃二の字点、1-2-22］、［＃感嘆符二つ、1-8-75］の形式を変換\n",
        "  m = re.search(r'.*?(\\d)-(\\d{1,2})-(\\d{1,2})', s)\n",
        "  if m:\n",
        "    key = f'{int(m[1])+2}-{int(m[2])+32:2X}{int(m[3])+32:2X}'\n",
        "    return gaiji_table.get(key, s)\n",
        "  # 不明な形式の場合、元の文字列をそのまま返す\n",
        "  return s\n",
        "\n",
        "# 青空文庫の外字データ置き換え＆注釈＆ルビ除去などを行う加工関数\n",
        "def flatten_aozora(text):\n",
        "  # textの外字データ表記を漢字に置き換える処理\n",
        "  text = re.sub(r'※［＃.+?］', lambda m: get_gaiji(m[0]), text)\n",
        "  # 注釈文や、ルビなどの除去\n",
        "  text = re.split(r'\\-{5,}', text)[2]\n",
        "  text = re.split(r'底本：', text)[0]\n",
        "  text = re.sub(r'《.+?》', '', text)\n",
        "  text = re.sub(r'［＃.+?］', '', text)\n",
        "  text = text.strip()\n",
        "  return text\n",
        "\n",
        "\n",
        "# 複数ファイルのダウンロードや加工を一括実行する関数\n",
        "\n",
        "import time\n",
        "# ZIP-URLのリストから全てのデータをダウンロード＆加工する関数\n",
        "def get_all_flat_text_from_zip_list(zip_list):\n",
        "  all_flat_text = \"\"\n",
        "  for zip_url in zip_list:\n",
        "    # ダウンロードや解凍の失敗があり得るためTry文を使う\n",
        "    # 十分なデータ量があるため数件の失敗はスキップでよい\n",
        "    try:\n",
        "      # 青空文庫からダウンロードする関数を実行\n",
        "      aozora_dl_text = get_flat_text_from_aozora(zip_url)\n",
        "      # 青空文庫のテキストを加工する関数を実行\n",
        "      flat_text = flatten_aozora(aozora_dl_text)\n",
        "      # 結果を追記して改行。\n",
        "      all_flat_text += flat_text + (\"\\n\")\n",
        "      print(zip_url+\" : 取得＆加工完了\")\n",
        "    except:\n",
        "      # エラー時の詳細ログが出るおまじない\n",
        "      import traceback\n",
        "      traceback.print_exc()\n",
        "      print(zip_url+\" : 取得or解凍エラーのためスキップ\")\n",
        "\n",
        "    # 青空文庫サーバに負荷をかけすぎないように１秒待ってから次の小説へ\n",
        "    time.sleep(1)\n",
        "\n",
        "  # 全部がつながった大きなテキストデータを返す\n",
        "  return all_flat_text\n"
      ]
    },
    {
      "cell_type": "markdown",
      "metadata": {
        "id": "LaZQjPGOp46F"
      },
      "source": [
        "■ URLを指定してダウンロード＆加工を実行："
      ]
    },
    {
      "cell_type": "code",
      "execution_count": null,
      "metadata": {
        "colab": {
          "base_uri": "https://localhost:8080/"
        },
        "id": "Oqcx2zRRp5BW",
        "outputId": "f4b0cb3f-4361-41c2-96b1-9ec5e07feabf"
      },
      "outputs": [
        {
          "name": "stdout",
          "output_type": "stream",
          "text": [
            "52410_ruby_51060.zip\n",
            "Download URL =  https://www.aozora.gr.jp/cards/001562/files/52410_ruby_51060.zip\n",
            "52410_ruby_51060/02toenno_maki.txt\n",
            "https://www.aozora.gr.jp/cards/001562/files/52410_ruby_51060.zip : 取得＆加工完了\n",
            "52411_ruby_50077.zip\n",
            "Download URL =  https://www.aozora.gr.jp/cards/001562/files/52411_ruby_50077.zip\n",
            "52411_ruby_50077/03gunseino_maki.txt\n",
            "https://www.aozora.gr.jp/cards/001562/files/52411_ruby_50077.zip : 取得＆加工完了\n",
            "52412_ruby_50316.zip\n",
            "Download URL =  https://www.aozora.gr.jp/cards/001562/files/52412_ruby_50316.zip\n",
            "52412_ruby_50316/04somono_maki.txt\n",
            "https://www.aozora.gr.jp/cards/001562/files/52412_ruby_50316.zip : 取得＆加工完了\n",
            "52413_ruby_50406.zip\n",
            "Download URL =  https://www.aozora.gr.jp/cards/001562/files/52413_ruby_50406.zip\n",
            "52413_ruby_50406/05shidono_maki.txt\n",
            "https://www.aozora.gr.jp/cards/001562/files/52413_ruby_50406.zip : 取得＆加工完了\n",
            "52414_ruby_50488.zip\n",
            "Download URL =  https://www.aozora.gr.jp/cards/001562/files/52414_ruby_50488.zip\n",
            "52414_ruby_50488/06komeino_maki.txt\n",
            "https://www.aozora.gr.jp/cards/001562/files/52414_ruby_50488.zip : 取得＆加工完了\n",
            "52415_ruby_50559.zip\n",
            "Download URL =  https://www.aozora.gr.jp/cards/001562/files/52415_ruby_50559.zip\n",
            "52415_ruby_50559/07sekihekino_maki.txt\n",
            "https://www.aozora.gr.jp/cards/001562/files/52415_ruby_50559.zip : 取得＆加工完了\n",
            "52416_ruby_50636.zip\n",
            "Download URL =  https://www.aozora.gr.jp/cards/001562/files/52416_ruby_50636.zip\n",
            "52416_ruby_50636/08boshokuno_maki.txt\n",
            "https://www.aozora.gr.jp/cards/001562/files/52416_ruby_50636.zip : 取得＆加工完了\n",
            "52417_ruby_50818.zip\n",
            "Download URL =  https://www.aozora.gr.jp/cards/001562/files/52417_ruby_50818.zip\n",
            "52417_ruby_50818/09tonanno_maki.txt\n",
            "https://www.aozora.gr.jp/cards/001562/files/52417_ruby_50818.zip : 取得＆加工完了\n",
            "52418_ruby_50895.zip\n",
            "Download URL =  https://www.aozora.gr.jp/cards/001562/files/52418_ruby_50895.zip\n",
            "52418_ruby_50895/10suishino_maki.txt\n",
            "https://www.aozora.gr.jp/cards/001562/files/52418_ruby_50895.zip : 取得＆加工完了\n",
            "52419_ruby_51044.zip\n",
            "Download URL =  https://www.aozora.gr.jp/cards/001562/files/52419_ruby_51044.zip\n",
            "52419_ruby_51044/11gojogenno_maki.txt\n",
            "https://www.aozora.gr.jp/cards/001562/files/52419_ruby_51044.zip : 取得＆加工完了\n",
            "52420_ruby_51054.zip\n",
            "Download URL =  https://www.aozora.gr.jp/cards/001562/files/52420_ruby_51054.zip\n",
            "52420_ruby_51054/12hengaiyoroku.txt\n",
            "https://www.aozora.gr.jp/cards/001562/files/52420_ruby_51054.zip : 取得＆加工完了\n",
            "★三国志ALLファイル出力完了\n"
          ]
        }
      ],
      "source": [
        "import time\n",
        "\n",
        "sangokusi_zip_list = [\n",
        "\"https://www.aozora.gr.jp/cards/001562/files/52410_ruby_51060.zip\",\n",
        "\"https://www.aozora.gr.jp/cards/001562/files/52411_ruby_50077.zip\",\n",
        "\"https://www.aozora.gr.jp/cards/001562/files/52412_ruby_50316.zip\",\n",
        "\"https://www.aozora.gr.jp/cards/001562/files/52413_ruby_50406.zip\",\n",
        "\"https://www.aozora.gr.jp/cards/001562/files/52414_ruby_50488.zip\",\n",
        "\"https://www.aozora.gr.jp/cards/001562/files/52415_ruby_50559.zip\",\n",
        "\"https://www.aozora.gr.jp/cards/001562/files/52416_ruby_50636.zip\",\n",
        "\"https://www.aozora.gr.jp/cards/001562/files/52417_ruby_50818.zip\",\n",
        "\"https://www.aozora.gr.jp/cards/001562/files/52418_ruby_50895.zip\",\n",
        "\"https://www.aozora.gr.jp/cards/001562/files/52419_ruby_51044.zip\",\n",
        "\"https://www.aozora.gr.jp/cards/001562/files/52420_ruby_51054.zip\",\n",
        "]\n",
        "\n",
        "# 三国志の全データを取得する\n",
        "sangokusi_org_text = get_all_flat_text_from_zip_list(sangokusi_zip_list)\n",
        "# 得た結果をファイルに書き込む\n",
        "with open('/content/drive/MyDrive/KITERETU/sangokusi_org_text.txt', 'w') as f:\n",
        "  print(sangokusi_org_text, file=f)\n",
        "  print(\"★三国志ALLファイル出力完了\")\n"
      ]
    },
    {
      "cell_type": "markdown",
      "metadata": {
        "id": "YsgbgfAQp5Iq"
      },
      "source": [
        "■ 字（あざな）の変換を実施："
      ]
    },
    {
      "cell_type": "code",
      "execution_count": null,
      "metadata": {
        "colab": {
          "base_uri": "https://localhost:8080/"
        },
        "id": "dFXRaPR6p5QA",
        "outputId": "dcdc250d-f926-42db-c722-82806bc52291"
      },
      "outputs": [
        {
          "name": "stdout",
          "output_type": "stream",
          "text": [
            "CPU times: user 597 ms, sys: 16.8 ms, total: 614 ms\n",
            "Wall time: 643 ms\n"
          ]
        }
      ],
      "source": [
        "%%time\n",
        "import codecs\n",
        "# 取得してあった原文を開く\n",
        "with codecs.open(\"/content/drive/MyDrive/KITERETU/sangokusi_org_text.txt\", 'r', encoding='utf-8') as f:\n",
        "  org_text = f.read()\n",
        "\n",
        "# 全テキストに字変換処理をほどこして新しいファイルに書き込む\n",
        "with open(\"/content/drive/MyDrive/KITERETU/sangokusi_henkango_text.txt\", \"w\", encoding=\"utf8\") as f:\n",
        "  f.write(azana_henkan(org_text))\n"
      ]
    },
    {
      "cell_type": "markdown",
      "metadata": {
        "id": "gXjafEb8p5W9"
      },
      "source": [
        "■ 全文に対してキーワードの抽出、リスト化："
      ]
    },
    {
      "cell_type": "code",
      "execution_count": null,
      "metadata": {
        "colab": {
          "base_uri": "https://localhost:8080/"
        },
        "id": "QCrw44Zsp5ex",
        "outputId": "f3f39898-4fe1-43c7-faf0-ad79c8405280"
      },
      "outputs": [
        {
          "name": "stdout",
          "output_type": "stream",
          "text": [
            "CPU times: user 3min 13s, sys: 596 ms, total: 3min 14s\n",
            "Wall time: 3min 14s\n"
          ]
        }
      ],
      "source": [
        "%%time\n",
        "\n",
        "# Janomeのロード\n",
        "from janome.tokenizer import Tokenizer\n",
        "\n",
        "# Tokenizerインスタンスの生成\n",
        "#tokenizer = Tokenizer()\n",
        "tokenizer = Tokenizer(\"/content/drive/MyDrive/KITERETU/sangokusi_userdic.csv\", udic_enc='utf8')\n",
        "\n",
        "# テキストを引数として、形態素解析の結果、名詞・動詞原形のみを配列で抽出する関数\n",
        "def extract_words(text):\n",
        "  tokens = tokenizer.tokenize(text)\n",
        "  #どの品詞を採用するかも重要な調整要素\n",
        "  return [token.base_form for token in tokens\n",
        "          if token.part_of_speech.split(',')[0] in['名詞', '動詞', '形容詞']]\n",
        "\n",
        "import codecs\n",
        "# ['趙雲', '白馬', '飛ばす', '馬上', '彼', '槍', '突き', '殺す']\n",
        "# このようなリストのリスト（二次元リスト）を作る関数\n",
        "# Word2Vecでは、分かち書きされた１文ずつのリストを引数として使うため\n",
        "def textfile2wordlist(input_file_path):\n",
        "  input_file  = codecs.open(input_file_path, 'r', 'utf-8')\n",
        "  # ファイルの読み込み。各行ごとが格納されたリストになる\n",
        "  line_list = input_file.readlines()\n",
        "  result_word_list_list = []\n",
        "  for line in line_list:\n",
        "    # 1行ずつ、形態素解析した結果をリストに変換\n",
        "    tmp_word_list = extract_words(line)\n",
        "    result_word_list_list.append(tmp_word_list)\n",
        "  return result_word_list_list\n",
        "\n",
        "# 実行\n",
        "sangokusi_wordlist = textfile2wordlist('/content/drive/MyDrive/KITERETU/sangokusi_henkango_text.txt')\n",
        "\n",
        "# 作成したワードリストは、pickleを使って、GoogleDriveに保存しておく\n",
        "import pickle\n",
        "with open('/content/drive/MyDrive/KITERETU/sangokusi_wordlist.pickle', 'wb') as f:\n",
        "  pickle.dump(sangokusi_wordlist, f)\n"
      ]
    },
    {
      "cell_type": "markdown",
      "metadata": {
        "id": "3rWDhWrjp5l5"
      },
      "source": [
        "■ 作成したキーワードリストの内容確認：\n"
      ]
    },
    {
      "cell_type": "code",
      "execution_count": null,
      "metadata": {
        "colab": {
          "base_uri": "https://localhost:8080/"
        },
        "id": "7lb5dvAAp5tk",
        "outputId": "44b48099-229e-4bee-84be-5a17653a0860"
      },
      "outputs": [
        {
          "name": "stdout",
          "output_type": "stream",
          "text": [
            "41720\n",
            "475171\n",
            "[['黄', '巾', '賊'], [], ['一'], [], ['漢', '建', '寧', '元年', 'ころ'], ['今', '千', '七', '百', '八', '十', '年', '前', 'こと'], ['一', '人', '旅人', 'ある'], ['腰', '一', '剣', '佩く', 'いる', 'ほか', '身なり', '見る', 'す', 'ぼる', '眉', '秀でる', '唇', '紅い', '聡明', 'そう', '眸', '豊か', '頬', 'する', 'いる', 'どこ', '微笑', 'ふくむ', '賤', 'しげ', '容子', 'ない'], ['年', '頃', '二', '十', '四', '五'], ['草むら', '中', '坐る', '膝', 'かかえこむ', 'いる'], ['悠久', '水', '行く'], ['微風', '爽やか', '鬢', 'なでる'], ['涼秋', '八月'], ['そこ', '黄河', '畔', '黄土', '層', '低い', '断り', '岸'], [], ['誰', '河', 'よぶ'], ['そこ', '若い', '者', 'ウ', 'なに', '見る', 'いる', 'ん', 'だい', '待つ', 'いる', 'そこ', '渡し舟', '着く', '所'], ['漁船', '漁夫', 'いう', 'の'], ['青年', '笑', 'くる', 'ぼる', '送る'], ['頭', '下げる'], ['漁船', '下流', '流れる', '去る', '青年', '所', '姿', 'する', 'いる', '膝', 'かかえる', '坐る', 'まま', '遠心', '的', '眼', 'うごかす'], ['旅', '者'], ['こんど', '後ろ', '通る', '人間', '呼びかける', '近村', '百姓', 'ひとり', '鶏', '足', 'つかむ', 'さげる', 'ひとり', '農具', 'かつぐ', 'いる'], ['所', '今朝', 'なに', '待つ', 'いる', 'ん', 'このごろ', '黄', '巾', '賊', '徒', '立つ', '廻る', '役人', '衆', '怪しむ', 'れる'], ['青年', '振り'], [], ['おとなしい', '会釈', 'かえす'], ['腰', '上げる', 'する'], ['幾', '千', '万', '年', '流れる', 'いる', 'の', '思う', 'れる', '黄河', '水', '飽く', '眺める', 'いる'], ['河', '水', '黄色い', 'の'], ['汀', '水', '仔細', '見る', 'それ', '水', '物', '黄色い', 'の', '砥石', '粉', 'くだく', 'よう', '黄色い', '沙', '微粒', '水', '混じる', 'いち', 'めん', 'おどる', 'いる', 'ため', '濁る', '見える', 'の'], ['土'], ['青年', '大地', '土', '一', 'つかみ', '掌', '掬う', '眼', 'はるか', '西北', '空', '放つ'], ['支那', '大地', '作る', 'の', '黄河', '水', '黄色い', 'する', 'の', 'みな', '沙', '微粒', '沙', '中央', '亜細亜', '沙漠', '吹く', 'くる', '物', '人類', '生活', '始まる', '何', '万', '年', '前', '大昔', '不断', '吹く', '送る', 'れる', '積り', '積', 'く', '大地', '広い', '黄土', '黄河', '流れ'], ['わたし', '先祖', '河', '下る'], ['彼', '自分', '体', '今', '脈', 'うつ', 'いる', '血液', 'どこ', 'くる', '遠い', '根元', '想像', 'する', 'いる'], ['支那', '拓く', '漢', '民族', '沙', '来る', '亜細亜', '山岳', '越える', 'くる', '黄河', '流れ', '添う', 'ふえる', '苗', '族', '未開', '人', '農業', '拓く', '産業', '興す', 'ここ', '何', '千', '年', '文化', '植える', 'くる', 'もの'], ['先祖', 'さま', 'みる', 'いる', '下さる', '劉備', '鞭打つ', '下さる', '劉備', '漢', '民', '興す', '漢', '民族', '血', '平和', '守る'], ['天', '向う', '誓う', 'よう', '劉備', '青年', '空', '拝', 'する', 'いる'], ['後ろ', '誰', '立つ', '彼', '頭', 'どなる'], ['うさんい', '奴', 'いう', '汝', '黄', '巾', '賊', '仲間'], [], ['二'], [], ['劉備', 'おどろく', '何者', '振り', 'かえる'], ['咎める', '者'], ['どこ', '来る', 'たつ', '彼', '襟', 'みる', '用捨', 'ない', 'つかむ', 'いる'], [], ['見る', '役人', '胸', '県', '吏章', 'つける', 'いる', '近頃', '物騒', '世の中', '地方', '小役人', 'みな', '武装', 'する', 'いる', '二', '人', 'うち', '一', '名', '鉄', '弓', '持つ', '一', '名', '半月', '槍', 'かかえる', 'いる'], ['涿県', '者']]\n"
          ]
        }
      ],
      "source": [
        "# なお、保存したpickleファイルは、以下のようにすれば復元出来る\n",
        "with open('/content/drive/MyDrive/KITERETU/sangokusi_wordlist.pickle', 'rb') as f:\n",
        "  sangokusi_wordlist = pickle.load(f)\n",
        "\n",
        "# 結果の確認用①行数の表示\n",
        "print(len(sangokusi_wordlist))\n",
        "\n",
        "# ２重のリストをフラット（１重）にする関数\n",
        "# ネストしたリスト内包表記を用いている。コピペでよく、理解する必要はない。\n",
        "def flatten(nested_list):\n",
        "  return [e for inner_list in nested_list for e in inner_list]\n",
        "\n",
        "# 結果の確認用②キーワード数の表示\n",
        "print(len(flatten(sangokusi_wordlist)))\n",
        "\n",
        "# 結果の確認用③最初の５０個の内容確認\n",
        "print(sangokusi_wordlist[0:50])\n"
      ]
    },
    {
      "cell_type": "markdown",
      "metadata": {
        "id": "AdN3tmeIp50M"
      },
      "source": [
        "■ キーワードリストから、機械学習を行いモデルを作る：\n",
        "\n",
        "※2023年06月修正  \n",
        "gensimのライブラリのバージョンがアップされ、  \n",
        "それに伴いパラメータの名称が変更されたようで、  \n",
        "size ⇒ vector_size  \n",
        "iter ⇒ epochs  \n",
        "に変更しました。  \n",
        "また、ログの出方も変更されているようで、\n",
        "出力例に記載のような沢山のログは出ないようです。"
      ]
    },
    {
      "cell_type": "code",
      "execution_count": null,
      "metadata": {
        "colab": {
          "base_uri": "https://localhost:8080/"
        },
        "id": "WKzXZLCDp57k",
        "outputId": "6122a87c-9a10-4713-bafa-70a5bc48a5ee"
      },
      "outputs": [
        {
          "name": "stderr",
          "output_type": "stream",
          "text": [
            "2021-10-25 05:40:35,140 : WARNING : consider setting layer size to a multiple of 4 for greater performance\n",
            "2021-10-25 05:40:35,143 : INFO : collecting all words and their counts\n",
            "2021-10-25 05:40:35,148 : INFO : PROGRESS: at sentence #0, processed 0 words, keeping 0 word types\n",
            "2021-10-25 05:40:35,184 : INFO : PROGRESS: at sentence #10000, processed 98660 words, keeping 12256 word types\n",
            "2021-10-25 05:40:35,231 : INFO : PROGRESS: at sentence #20000, processed 205688 words, keeping 17437 word types\n",
            "2021-10-25 05:40:35,272 : INFO : PROGRESS: at sentence #30000, processed 320532 words, keeping 21175 word types\n",
            "2021-10-25 05:40:35,319 : INFO : PROGRESS: at sentence #40000, processed 451286 words, keeping 24483 word types\n",
            "2021-10-25 05:40:35,331 : INFO : collected 25208 word types from a corpus of 475171 raw words and 41720 sentences\n",
            "2021-10-25 05:40:35,333 : INFO : Loading a fresh vocabulary\n",
            "2021-10-25 05:40:35,372 : INFO : effective_min_count=5 retains 9767 unique words (38% of original 25208, drops 15441)\n",
            "2021-10-25 05:40:35,374 : INFO : effective_min_count=5 leaves 447427 word corpus (94% of original 475171, drops 27744)\n",
            "2021-10-25 05:40:35,424 : INFO : deleting the raw counts dictionary of 25208 items\n",
            "2021-10-25 05:40:35,430 : INFO : sample=0.001 downsamples 40 most-common words\n",
            "2021-10-25 05:40:35,432 : INFO : downsampling leaves estimated 393575 word corpus (88.0% of prior 447427)\n",
            "2021-10-25 05:40:35,485 : INFO : estimated required memory for 9767 words and 50 dimensions: 8790300 bytes\n",
            "2021-10-25 05:40:35,487 : INFO : resetting layer weights\n",
            "2021-10-25 05:40:37,614 : INFO : training model with 3 workers on 9767 vocabulary and 50 features, using sg=0 hs=0 sample=0.001 negative=5 window=6\n",
            "2021-10-25 05:40:38,447 : INFO : worker thread finished; awaiting finish of 2 more threads\n",
            "2021-10-25 05:40:38,478 : INFO : worker thread finished; awaiting finish of 1 more threads\n",
            "2021-10-25 05:40:38,482 : INFO : worker thread finished; awaiting finish of 0 more threads\n",
            "2021-10-25 05:40:38,484 : INFO : EPOCH - 1 : training on 475171 raw words (393663 effective words) took 0.9s, 460416 effective words/s\n",
            "2021-10-25 05:40:39,317 : INFO : worker thread finished; awaiting finish of 2 more threads\n",
            "2021-10-25 05:40:39,335 : INFO : worker thread finished; awaiting finish of 1 more threads\n",
            "2021-10-25 05:40:39,342 : INFO : worker thread finished; awaiting finish of 0 more threads\n",
            "2021-10-25 05:40:39,344 : INFO : EPOCH - 2 : training on 475171 raw words (393593 effective words) took 0.8s, 466145 effective words/s\n",
            "2021-10-25 05:40:40,208 : INFO : worker thread finished; awaiting finish of 2 more threads\n",
            "2021-10-25 05:40:40,213 : INFO : worker thread finished; awaiting finish of 1 more threads\n",
            "2021-10-25 05:40:40,225 : INFO : worker thread finished; awaiting finish of 0 more threads\n",
            "2021-10-25 05:40:40,227 : INFO : EPOCH - 3 : training on 475171 raw words (393656 effective words) took 0.9s, 453946 effective words/s\n",
            "2021-10-25 05:40:41,114 : INFO : worker thread finished; awaiting finish of 2 more threads\n",
            "2021-10-25 05:40:41,118 : INFO : worker thread finished; awaiting finish of 1 more threads\n",
            "2021-10-25 05:40:41,133 : INFO : worker thread finished; awaiting finish of 0 more threads\n",
            "2021-10-25 05:40:41,135 : INFO : EPOCH - 4 : training on 475171 raw words (393662 effective words) took 0.9s, 442448 effective words/s\n",
            "2021-10-25 05:40:42,019 : INFO : worker thread finished; awaiting finish of 2 more threads\n",
            "2021-10-25 05:40:42,040 : INFO : worker thread finished; awaiting finish of 1 more threads\n",
            "2021-10-25 05:40:42,046 : INFO : worker thread finished; awaiting finish of 0 more threads\n",
            "2021-10-25 05:40:42,049 : INFO : EPOCH - 5 : training on 475171 raw words (393458 effective words) took 0.9s, 436719 effective words/s\n",
            "2021-10-25 05:40:43,027 : INFO : worker thread finished; awaiting finish of 2 more threads\n",
            "2021-10-25 05:40:43,038 : INFO : worker thread finished; awaiting finish of 1 more threads\n",
            "2021-10-25 05:40:43,045 : INFO : worker thread finished; awaiting finish of 0 more threads\n",
            "2021-10-25 05:40:43,046 : INFO : EPOCH - 6 : training on 475171 raw words (393648 effective words) took 1.0s, 401808 effective words/s\n",
            "2021-10-25 05:40:43,950 : INFO : worker thread finished; awaiting finish of 2 more threads\n",
            "2021-10-25 05:40:43,965 : INFO : worker thread finished; awaiting finish of 1 more threads\n",
            "2021-10-25 05:40:43,971 : INFO : worker thread finished; awaiting finish of 0 more threads\n",
            "2021-10-25 05:40:43,972 : INFO : EPOCH - 7 : training on 475171 raw words (393640 effective words) took 0.9s, 431473 effective words/s\n",
            "2021-10-25 05:40:44,856 : INFO : worker thread finished; awaiting finish of 2 more threads\n",
            "2021-10-25 05:40:44,864 : INFO : worker thread finished; awaiting finish of 1 more threads\n",
            "2021-10-25 05:40:44,876 : INFO : worker thread finished; awaiting finish of 0 more threads\n",
            "2021-10-25 05:40:44,877 : INFO : EPOCH - 8 : training on 475171 raw words (393500 effective words) took 0.9s, 441548 effective words/s\n",
            "2021-10-25 05:40:45,734 : INFO : worker thread finished; awaiting finish of 2 more threads\n",
            "2021-10-25 05:40:45,755 : INFO : worker thread finished; awaiting finish of 1 more threads\n",
            "2021-10-25 05:40:45,757 : INFO : worker thread finished; awaiting finish of 0 more threads\n",
            "2021-10-25 05:40:45,759 : INFO : EPOCH - 9 : training on 475171 raw words (393862 effective words) took 0.9s, 453441 effective words/s\n",
            "2021-10-25 05:40:46,619 : INFO : worker thread finished; awaiting finish of 2 more threads\n",
            "2021-10-25 05:40:46,640 : INFO : worker thread finished; awaiting finish of 1 more threads\n",
            "2021-10-25 05:40:46,647 : INFO : worker thread finished; awaiting finish of 0 more threads\n",
            "2021-10-25 05:40:46,648 : INFO : EPOCH - 10 : training on 475171 raw words (393550 effective words) took 0.9s, 449304 effective words/s\n",
            "2021-10-25 05:40:47,502 : INFO : worker thread finished; awaiting finish of 2 more threads\n",
            "2021-10-25 05:40:47,508 : INFO : worker thread finished; awaiting finish of 1 more threads\n",
            "2021-10-25 05:40:47,522 : INFO : worker thread finished; awaiting finish of 0 more threads\n",
            "2021-10-25 05:40:47,523 : INFO : EPOCH - 11 : training on 475171 raw words (393635 effective words) took 0.9s, 458095 effective words/s\n",
            "2021-10-25 05:40:48,386 : INFO : worker thread finished; awaiting finish of 2 more threads\n",
            "2021-10-25 05:40:48,396 : INFO : worker thread finished; awaiting finish of 1 more threads\n",
            "2021-10-25 05:40:48,399 : INFO : worker thread finished; awaiting finish of 0 more threads\n",
            "2021-10-25 05:40:48,400 : INFO : EPOCH - 12 : training on 475171 raw words (393556 effective words) took 0.9s, 456424 effective words/s\n",
            "2021-10-25 05:40:49,248 : INFO : worker thread finished; awaiting finish of 2 more threads\n",
            "2021-10-25 05:40:49,269 : INFO : worker thread finished; awaiting finish of 1 more threads\n",
            "2021-10-25 05:40:49,280 : INFO : worker thread finished; awaiting finish of 0 more threads\n",
            "2021-10-25 05:40:49,281 : INFO : EPOCH - 13 : training on 475171 raw words (393752 effective words) took 0.9s, 452329 effective words/s\n",
            "2021-10-25 05:40:50,138 : INFO : worker thread finished; awaiting finish of 2 more threads\n",
            "2021-10-25 05:40:50,146 : INFO : worker thread finished; awaiting finish of 1 more threads\n",
            "2021-10-25 05:40:50,153 : INFO : worker thread finished; awaiting finish of 0 more threads\n",
            "2021-10-25 05:40:50,154 : INFO : EPOCH - 14 : training on 475171 raw words (393598 effective words) took 0.9s, 459633 effective words/s\n",
            "2021-10-25 05:40:51,002 : INFO : worker thread finished; awaiting finish of 2 more threads\n",
            "2021-10-25 05:40:51,009 : INFO : worker thread finished; awaiting finish of 1 more threads\n",
            "2021-10-25 05:40:51,013 : INFO : worker thread finished; awaiting finish of 0 more threads\n",
            "2021-10-25 05:40:51,017 : INFO : EPOCH - 15 : training on 475171 raw words (393619 effective words) took 0.8s, 463604 effective words/s\n",
            "2021-10-25 05:40:51,882 : INFO : worker thread finished; awaiting finish of 2 more threads\n",
            "2021-10-25 05:40:51,895 : INFO : worker thread finished; awaiting finish of 1 more threads\n",
            "2021-10-25 05:40:51,901 : INFO : worker thread finished; awaiting finish of 0 more threads\n",
            "2021-10-25 05:40:51,907 : INFO : EPOCH - 16 : training on 475171 raw words (393561 effective words) took 0.9s, 455041 effective words/s\n",
            "2021-10-25 05:40:52,784 : INFO : worker thread finished; awaiting finish of 2 more threads\n",
            "2021-10-25 05:40:52,787 : INFO : worker thread finished; awaiting finish of 1 more threads\n",
            "2021-10-25 05:40:52,792 : INFO : worker thread finished; awaiting finish of 0 more threads\n",
            "2021-10-25 05:40:52,793 : INFO : EPOCH - 17 : training on 475171 raw words (393591 effective words) took 0.9s, 455193 effective words/s\n",
            "2021-10-25 05:40:53,650 : INFO : worker thread finished; awaiting finish of 2 more threads\n",
            "2021-10-25 05:40:53,651 : INFO : worker thread finished; awaiting finish of 1 more threads\n",
            "2021-10-25 05:40:53,666 : INFO : worker thread finished; awaiting finish of 0 more threads\n",
            "2021-10-25 05:40:53,668 : INFO : EPOCH - 18 : training on 475171 raw words (393562 effective words) took 0.9s, 456150 effective words/s\n",
            "2021-10-25 05:40:54,537 : INFO : worker thread finished; awaiting finish of 2 more threads\n",
            "2021-10-25 05:40:54,542 : INFO : worker thread finished; awaiting finish of 1 more threads\n",
            "2021-10-25 05:40:54,557 : INFO : worker thread finished; awaiting finish of 0 more threads\n",
            "2021-10-25 05:40:54,559 : INFO : EPOCH - 19 : training on 475171 raw words (393613 effective words) took 0.9s, 450300 effective words/s\n",
            "2021-10-25 05:40:55,422 : INFO : worker thread finished; awaiting finish of 2 more threads\n",
            "2021-10-25 05:40:55,440 : INFO : worker thread finished; awaiting finish of 1 more threads\n",
            "2021-10-25 05:40:55,458 : INFO : worker thread finished; awaiting finish of 0 more threads\n",
            "2021-10-25 05:40:55,461 : INFO : EPOCH - 20 : training on 475171 raw words (393632 effective words) took 0.9s, 451290 effective words/s\n",
            "2021-10-25 05:40:56,335 : INFO : worker thread finished; awaiting finish of 2 more threads\n",
            "2021-10-25 05:40:56,351 : INFO : worker thread finished; awaiting finish of 1 more threads\n",
            "2021-10-25 05:40:56,358 : INFO : worker thread finished; awaiting finish of 0 more threads\n",
            "2021-10-25 05:40:56,359 : INFO : EPOCH - 21 : training on 475171 raw words (393761 effective words) took 0.9s, 445788 effective words/s\n",
            "2021-10-25 05:40:57,200 : INFO : worker thread finished; awaiting finish of 2 more threads\n",
            "2021-10-25 05:40:57,204 : INFO : worker thread finished; awaiting finish of 1 more threads\n",
            "2021-10-25 05:40:57,218 : INFO : worker thread finished; awaiting finish of 0 more threads\n",
            "2021-10-25 05:40:57,220 : INFO : EPOCH - 22 : training on 475171 raw words (393589 effective words) took 0.8s, 466925 effective words/s\n",
            "2021-10-25 05:40:58,065 : INFO : worker thread finished; awaiting finish of 2 more threads\n",
            "2021-10-25 05:40:58,084 : INFO : worker thread finished; awaiting finish of 1 more threads\n",
            "2021-10-25 05:40:58,096 : INFO : worker thread finished; awaiting finish of 0 more threads\n",
            "2021-10-25 05:40:58,097 : INFO : EPOCH - 23 : training on 475171 raw words (393682 effective words) took 0.9s, 455166 effective words/s\n",
            "2021-10-25 05:40:58,928 : INFO : worker thread finished; awaiting finish of 2 more threads\n",
            "2021-10-25 05:40:58,938 : INFO : worker thread finished; awaiting finish of 1 more threads\n",
            "2021-10-25 05:40:58,948 : INFO : worker thread finished; awaiting finish of 0 more threads\n",
            "2021-10-25 05:40:58,950 : INFO : EPOCH - 24 : training on 475171 raw words (393667 effective words) took 0.8s, 467922 effective words/s\n",
            "2021-10-25 05:40:59,782 : INFO : worker thread finished; awaiting finish of 2 more threads\n",
            "2021-10-25 05:40:59,793 : INFO : worker thread finished; awaiting finish of 1 more threads\n",
            "2021-10-25 05:40:59,803 : INFO : worker thread finished; awaiting finish of 0 more threads\n",
            "2021-10-25 05:40:59,804 : INFO : EPOCH - 25 : training on 475171 raw words (393500 effective words) took 0.8s, 467974 effective words/s\n",
            "2021-10-25 05:41:00,652 : INFO : worker thread finished; awaiting finish of 2 more threads\n",
            "2021-10-25 05:41:00,656 : INFO : worker thread finished; awaiting finish of 1 more threads\n",
            "2021-10-25 05:41:00,668 : INFO : worker thread finished; awaiting finish of 0 more threads\n",
            "2021-10-25 05:41:00,669 : INFO : EPOCH - 26 : training on 475171 raw words (393612 effective words) took 0.9s, 461693 effective words/s\n",
            "2021-10-25 05:41:01,531 : INFO : worker thread finished; awaiting finish of 2 more threads\n",
            "2021-10-25 05:41:01,545 : INFO : worker thread finished; awaiting finish of 1 more threads\n",
            "2021-10-25 05:41:01,547 : INFO : worker thread finished; awaiting finish of 0 more threads\n",
            "2021-10-25 05:41:01,549 : INFO : EPOCH - 27 : training on 475171 raw words (393392 effective words) took 0.9s, 454774 effective words/s\n",
            "2021-10-25 05:41:02,422 : INFO : worker thread finished; awaiting finish of 2 more threads\n",
            "2021-10-25 05:41:02,435 : INFO : worker thread finished; awaiting finish of 1 more threads\n",
            "2021-10-25 05:41:02,445 : INFO : worker thread finished; awaiting finish of 0 more threads\n",
            "2021-10-25 05:41:02,447 : INFO : EPOCH - 28 : training on 475171 raw words (393827 effective words) took 0.9s, 445894 effective words/s\n",
            "2021-10-25 05:41:03,310 : INFO : worker thread finished; awaiting finish of 2 more threads\n",
            "2021-10-25 05:41:03,324 : INFO : worker thread finished; awaiting finish of 1 more threads\n",
            "2021-10-25 05:41:03,334 : INFO : worker thread finished; awaiting finish of 0 more threads\n",
            "2021-10-25 05:41:03,337 : INFO : EPOCH - 29 : training on 475171 raw words (393529 effective words) took 0.9s, 447538 effective words/s\n",
            "2021-10-25 05:41:04,178 : INFO : worker thread finished; awaiting finish of 2 more threads\n",
            "2021-10-25 05:41:04,199 : INFO : worker thread finished; awaiting finish of 1 more threads\n",
            "2021-10-25 05:41:04,210 : INFO : worker thread finished; awaiting finish of 0 more threads\n",
            "2021-10-25 05:41:04,212 : INFO : EPOCH - 30 : training on 475171 raw words (393643 effective words) took 0.9s, 461949 effective words/s\n",
            "2021-10-25 05:41:05,070 : INFO : worker thread finished; awaiting finish of 2 more threads\n",
            "2021-10-25 05:41:05,091 : INFO : worker thread finished; awaiting finish of 1 more threads\n",
            "2021-10-25 05:41:05,098 : INFO : worker thread finished; awaiting finish of 0 more threads\n",
            "2021-10-25 05:41:05,100 : INFO : EPOCH - 31 : training on 475171 raw words (393541 effective words) took 0.9s, 452418 effective words/s\n",
            "2021-10-25 05:41:05,966 : INFO : worker thread finished; awaiting finish of 2 more threads\n",
            "2021-10-25 05:41:05,991 : INFO : worker thread finished; awaiting finish of 1 more threads\n",
            "2021-10-25 05:41:05,995 : INFO : worker thread finished; awaiting finish of 0 more threads\n",
            "2021-10-25 05:41:05,999 : INFO : EPOCH - 32 : training on 475171 raw words (393624 effective words) took 0.9s, 443128 effective words/s\n",
            "2021-10-25 05:41:06,850 : INFO : worker thread finished; awaiting finish of 2 more threads\n",
            "2021-10-25 05:41:06,858 : INFO : worker thread finished; awaiting finish of 1 more threads\n",
            "2021-10-25 05:41:06,871 : INFO : worker thread finished; awaiting finish of 0 more threads\n",
            "2021-10-25 05:41:06,873 : INFO : EPOCH - 33 : training on 475171 raw words (393551 effective words) took 0.9s, 456916 effective words/s\n",
            "2021-10-25 05:41:07,722 : INFO : worker thread finished; awaiting finish of 2 more threads\n",
            "2021-10-25 05:41:07,730 : INFO : worker thread finished; awaiting finish of 1 more threads\n",
            "2021-10-25 05:41:07,733 : INFO : worker thread finished; awaiting finish of 0 more threads\n",
            "2021-10-25 05:41:07,734 : INFO : EPOCH - 34 : training on 475171 raw words (393847 effective words) took 0.9s, 462751 effective words/s\n",
            "2021-10-25 05:41:08,598 : INFO : worker thread finished; awaiting finish of 2 more threads\n",
            "2021-10-25 05:41:08,613 : INFO : worker thread finished; awaiting finish of 1 more threads\n",
            "2021-10-25 05:41:08,617 : INFO : worker thread finished; awaiting finish of 0 more threads\n",
            "2021-10-25 05:41:08,618 : INFO : EPOCH - 35 : training on 475171 raw words (393563 effective words) took 0.9s, 454387 effective words/s\n",
            "2021-10-25 05:41:09,469 : INFO : worker thread finished; awaiting finish of 2 more threads\n",
            "2021-10-25 05:41:09,481 : INFO : worker thread finished; awaiting finish of 1 more threads\n",
            "2021-10-25 05:41:09,491 : INFO : worker thread finished; awaiting finish of 0 more threads\n",
            "2021-10-25 05:41:09,492 : INFO : EPOCH - 36 : training on 475171 raw words (393677 effective words) took 0.9s, 456476 effective words/s\n",
            "2021-10-25 05:41:10,359 : INFO : worker thread finished; awaiting finish of 2 more threads\n",
            "2021-10-25 05:41:10,361 : INFO : worker thread finished; awaiting finish of 1 more threads\n",
            "2021-10-25 05:41:10,370 : INFO : worker thread finished; awaiting finish of 0 more threads\n",
            "2021-10-25 05:41:10,372 : INFO : EPOCH - 37 : training on 475171 raw words (393708 effective words) took 0.9s, 456016 effective words/s\n",
            "2021-10-25 05:41:11,226 : INFO : worker thread finished; awaiting finish of 2 more threads\n",
            "2021-10-25 05:41:11,239 : INFO : worker thread finished; awaiting finish of 1 more threads\n",
            "2021-10-25 05:41:11,244 : INFO : worker thread finished; awaiting finish of 0 more threads\n",
            "2021-10-25 05:41:11,247 : INFO : EPOCH - 38 : training on 475171 raw words (393404 effective words) took 0.9s, 455581 effective words/s\n",
            "2021-10-25 05:41:12,138 : INFO : worker thread finished; awaiting finish of 2 more threads\n",
            "2021-10-25 05:41:12,142 : INFO : worker thread finished; awaiting finish of 1 more threads\n",
            "2021-10-25 05:41:12,167 : INFO : worker thread finished; awaiting finish of 0 more threads\n",
            "2021-10-25 05:41:12,169 : INFO : EPOCH - 39 : training on 475171 raw words (393516 effective words) took 0.9s, 434309 effective words/s\n",
            "2021-10-25 05:41:13,065 : INFO : worker thread finished; awaiting finish of 2 more threads\n",
            "2021-10-25 05:41:13,076 : INFO : worker thread finished; awaiting finish of 1 more threads\n",
            "2021-10-25 05:41:13,094 : INFO : worker thread finished; awaiting finish of 0 more threads\n",
            "2021-10-25 05:41:13,097 : INFO : EPOCH - 40 : training on 475171 raw words (393703 effective words) took 0.9s, 438862 effective words/s\n",
            "2021-10-25 05:41:13,984 : INFO : worker thread finished; awaiting finish of 2 more threads\n",
            "2021-10-25 05:41:13,999 : INFO : worker thread finished; awaiting finish of 1 more threads\n",
            "2021-10-25 05:41:14,002 : INFO : worker thread finished; awaiting finish of 0 more threads\n",
            "2021-10-25 05:41:14,004 : INFO : EPOCH - 41 : training on 475171 raw words (393390 effective words) took 0.9s, 441769 effective words/s\n",
            "2021-10-25 05:41:14,848 : INFO : worker thread finished; awaiting finish of 2 more threads\n",
            "2021-10-25 05:41:14,864 : INFO : worker thread finished; awaiting finish of 1 more threads\n",
            "2021-10-25 05:41:14,878 : INFO : worker thread finished; awaiting finish of 0 more threads\n",
            "2021-10-25 05:41:14,880 : INFO : EPOCH - 42 : training on 475171 raw words (393454 effective words) took 0.9s, 455748 effective words/s\n",
            "2021-10-25 05:41:15,756 : INFO : worker thread finished; awaiting finish of 2 more threads\n",
            "2021-10-25 05:41:15,772 : INFO : worker thread finished; awaiting finish of 1 more threads\n",
            "2021-10-25 05:41:15,780 : INFO : worker thread finished; awaiting finish of 0 more threads\n",
            "2021-10-25 05:41:15,782 : INFO : EPOCH - 43 : training on 475171 raw words (393577 effective words) took 0.9s, 442854 effective words/s\n",
            "2021-10-25 05:41:16,628 : INFO : worker thread finished; awaiting finish of 2 more threads\n",
            "2021-10-25 05:41:16,633 : INFO : worker thread finished; awaiting finish of 1 more threads\n",
            "2021-10-25 05:41:16,649 : INFO : worker thread finished; awaiting finish of 0 more threads\n",
            "2021-10-25 05:41:16,653 : INFO : EPOCH - 44 : training on 475171 raw words (393343 effective words) took 0.8s, 466952 effective words/s\n",
            "2021-10-25 05:41:17,500 : INFO : worker thread finished; awaiting finish of 2 more threads\n",
            "2021-10-25 05:41:17,511 : INFO : worker thread finished; awaiting finish of 1 more threads\n",
            "2021-10-25 05:41:17,515 : INFO : worker thread finished; awaiting finish of 0 more threads\n",
            "2021-10-25 05:41:17,518 : INFO : EPOCH - 45 : training on 475171 raw words (393677 effective words) took 0.9s, 462077 effective words/s\n",
            "2021-10-25 05:41:18,360 : INFO : worker thread finished; awaiting finish of 2 more threads\n",
            "2021-10-25 05:41:18,371 : INFO : worker thread finished; awaiting finish of 1 more threads\n",
            "2021-10-25 05:41:18,373 : INFO : worker thread finished; awaiting finish of 0 more threads\n",
            "2021-10-25 05:41:18,375 : INFO : EPOCH - 46 : training on 475171 raw words (393393 effective words) took 0.8s, 467474 effective words/s\n",
            "2021-10-25 05:41:19,199 : INFO : worker thread finished; awaiting finish of 2 more threads\n",
            "2021-10-25 05:41:19,211 : INFO : worker thread finished; awaiting finish of 1 more threads\n",
            "2021-10-25 05:41:19,216 : INFO : worker thread finished; awaiting finish of 0 more threads\n",
            "2021-10-25 05:41:19,217 : INFO : EPOCH - 47 : training on 475171 raw words (393858 effective words) took 0.8s, 479400 effective words/s\n",
            "2021-10-25 05:41:20,044 : INFO : worker thread finished; awaiting finish of 2 more threads\n",
            "2021-10-25 05:41:20,051 : INFO : worker thread finished; awaiting finish of 1 more threads\n",
            "2021-10-25 05:41:20,063 : INFO : worker thread finished; awaiting finish of 0 more threads\n",
            "2021-10-25 05:41:20,064 : INFO : EPOCH - 48 : training on 475171 raw words (393549 effective words) took 0.8s, 471732 effective words/s\n",
            "2021-10-25 05:41:20,897 : INFO : worker thread finished; awaiting finish of 2 more threads\n",
            "2021-10-25 05:41:20,921 : INFO : worker thread finished; awaiting finish of 1 more threads\n",
            "2021-10-25 05:41:20,930 : INFO : worker thread finished; awaiting finish of 0 more threads\n",
            "2021-10-25 05:41:20,932 : INFO : EPOCH - 49 : training on 475171 raw words (393623 effective words) took 0.9s, 462363 effective words/s\n",
            "2021-10-25 05:41:21,758 : INFO : worker thread finished; awaiting finish of 2 more threads\n",
            "2021-10-25 05:41:21,775 : INFO : worker thread finished; awaiting finish of 1 more threads\n",
            "2021-10-25 05:41:21,778 : INFO : worker thread finished; awaiting finish of 0 more threads\n",
            "2021-10-25 05:41:21,780 : INFO : EPOCH - 50 : training on 475171 raw words (393768 effective words) took 0.8s, 471118 effective words/s\n",
            "2021-10-25 05:41:22,638 : INFO : worker thread finished; awaiting finish of 2 more threads\n",
            "2021-10-25 05:41:22,654 : INFO : worker thread finished; awaiting finish of 1 more threads\n",
            "2021-10-25 05:41:22,659 : INFO : worker thread finished; awaiting finish of 0 more threads\n",
            "2021-10-25 05:41:22,673 : INFO : EPOCH - 51 : training on 475171 raw words (393704 effective words) took 0.9s, 447991 effective words/s\n",
            "2021-10-25 05:41:23,527 : INFO : worker thread finished; awaiting finish of 2 more threads\n",
            "2021-10-25 05:41:23,541 : INFO : worker thread finished; awaiting finish of 1 more threads\n",
            "2021-10-25 05:41:23,559 : INFO : worker thread finished; awaiting finish of 0 more threads\n",
            "2021-10-25 05:41:23,561 : INFO : EPOCH - 52 : training on 475171 raw words (393570 effective words) took 0.9s, 451583 effective words/s\n",
            "2021-10-25 05:41:24,412 : INFO : worker thread finished; awaiting finish of 2 more threads\n",
            "2021-10-25 05:41:24,420 : INFO : worker thread finished; awaiting finish of 1 more threads\n",
            "2021-10-25 05:41:24,437 : INFO : worker thread finished; awaiting finish of 0 more threads\n",
            "2021-10-25 05:41:24,438 : INFO : EPOCH - 53 : training on 475171 raw words (393422 effective words) took 0.9s, 453371 effective words/s\n",
            "2021-10-25 05:41:25,274 : INFO : worker thread finished; awaiting finish of 2 more threads\n",
            "2021-10-25 05:41:25,295 : INFO : worker thread finished; awaiting finish of 1 more threads\n",
            "2021-10-25 05:41:25,305 : INFO : worker thread finished; awaiting finish of 0 more threads\n",
            "2021-10-25 05:41:25,307 : INFO : EPOCH - 54 : training on 475171 raw words (393529 effective words) took 0.9s, 458685 effective words/s\n",
            "2021-10-25 05:41:26,155 : INFO : worker thread finished; awaiting finish of 2 more threads\n",
            "2021-10-25 05:41:26,165 : INFO : worker thread finished; awaiting finish of 1 more threads\n",
            "2021-10-25 05:41:26,175 : INFO : worker thread finished; awaiting finish of 0 more threads\n",
            "2021-10-25 05:41:26,177 : INFO : EPOCH - 55 : training on 475171 raw words (393650 effective words) took 0.9s, 459543 effective words/s\n",
            "2021-10-25 05:41:27,036 : INFO : worker thread finished; awaiting finish of 2 more threads\n",
            "2021-10-25 05:41:27,054 : INFO : worker thread finished; awaiting finish of 1 more threads\n",
            "2021-10-25 05:41:27,057 : INFO : worker thread finished; awaiting finish of 0 more threads\n",
            "2021-10-25 05:41:27,061 : INFO : EPOCH - 56 : training on 475171 raw words (393432 effective words) took 0.9s, 451123 effective words/s\n",
            "2021-10-25 05:41:27,913 : INFO : worker thread finished; awaiting finish of 2 more threads\n",
            "2021-10-25 05:41:27,924 : INFO : worker thread finished; awaiting finish of 1 more threads\n",
            "2021-10-25 05:41:27,934 : INFO : worker thread finished; awaiting finish of 0 more threads\n",
            "2021-10-25 05:41:27,935 : INFO : EPOCH - 57 : training on 475171 raw words (393462 effective words) took 0.9s, 458202 effective words/s\n",
            "2021-10-25 05:41:28,785 : INFO : worker thread finished; awaiting finish of 2 more threads\n",
            "2021-10-25 05:41:28,801 : INFO : worker thread finished; awaiting finish of 1 more threads\n",
            "2021-10-25 05:41:28,805 : INFO : worker thread finished; awaiting finish of 0 more threads\n",
            "2021-10-25 05:41:28,807 : INFO : EPOCH - 58 : training on 475171 raw words (393460 effective words) took 0.9s, 461045 effective words/s\n",
            "2021-10-25 05:41:29,646 : INFO : worker thread finished; awaiting finish of 2 more threads\n",
            "2021-10-25 05:41:29,655 : INFO : worker thread finished; awaiting finish of 1 more threads\n",
            "2021-10-25 05:41:29,659 : INFO : worker thread finished; awaiting finish of 0 more threads\n",
            "2021-10-25 05:41:29,660 : INFO : EPOCH - 59 : training on 475171 raw words (393509 effective words) took 0.8s, 467055 effective words/s\n",
            "2021-10-25 05:41:30,475 : INFO : worker thread finished; awaiting finish of 2 more threads\n",
            "2021-10-25 05:41:30,499 : INFO : worker thread finished; awaiting finish of 1 more threads\n",
            "2021-10-25 05:41:30,506 : INFO : worker thread finished; awaiting finish of 0 more threads\n",
            "2021-10-25 05:41:30,508 : INFO : EPOCH - 60 : training on 475171 raw words (393643 effective words) took 0.8s, 475011 effective words/s\n",
            "2021-10-25 05:41:31,342 : INFO : worker thread finished; awaiting finish of 2 more threads\n",
            "2021-10-25 05:41:31,358 : INFO : worker thread finished; awaiting finish of 1 more threads\n",
            "2021-10-25 05:41:31,364 : INFO : worker thread finished; awaiting finish of 0 more threads\n",
            "2021-10-25 05:41:31,366 : INFO : EPOCH - 61 : training on 475171 raw words (393446 effective words) took 0.8s, 464298 effective words/s\n",
            "2021-10-25 05:41:32,227 : INFO : worker thread finished; awaiting finish of 2 more threads\n",
            "2021-10-25 05:41:32,229 : INFO : worker thread finished; awaiting finish of 1 more threads\n",
            "2021-10-25 05:41:32,256 : INFO : worker thread finished; awaiting finish of 0 more threads\n",
            "2021-10-25 05:41:32,258 : INFO : EPOCH - 62 : training on 475171 raw words (393627 effective words) took 0.9s, 447860 effective words/s\n",
            "2021-10-25 05:41:33,106 : INFO : worker thread finished; awaiting finish of 2 more threads\n",
            "2021-10-25 05:41:33,118 : INFO : worker thread finished; awaiting finish of 1 more threads\n",
            "2021-10-25 05:41:33,129 : INFO : worker thread finished; awaiting finish of 0 more threads\n",
            "2021-10-25 05:41:33,131 : INFO : EPOCH - 63 : training on 475171 raw words (393315 effective words) took 0.8s, 466220 effective words/s\n",
            "2021-10-25 05:41:33,990 : INFO : worker thread finished; awaiting finish of 2 more threads\n",
            "2021-10-25 05:41:33,999 : INFO : worker thread finished; awaiting finish of 1 more threads\n",
            "2021-10-25 05:41:34,003 : INFO : worker thread finished; awaiting finish of 0 more threads\n",
            "2021-10-25 05:41:34,006 : INFO : EPOCH - 64 : training on 475171 raw words (393420 effective words) took 0.9s, 457551 effective words/s\n",
            "2021-10-25 05:41:34,862 : INFO : worker thread finished; awaiting finish of 2 more threads\n",
            "2021-10-25 05:41:34,870 : INFO : worker thread finished; awaiting finish of 1 more threads\n",
            "2021-10-25 05:41:34,880 : INFO : worker thread finished; awaiting finish of 0 more threads\n",
            "2021-10-25 05:41:34,881 : INFO : EPOCH - 65 : training on 475171 raw words (393434 effective words) took 0.9s, 457832 effective words/s\n",
            "2021-10-25 05:41:35,720 : INFO : worker thread finished; awaiting finish of 2 more threads\n",
            "2021-10-25 05:41:35,732 : INFO : worker thread finished; awaiting finish of 1 more threads\n",
            "2021-10-25 05:41:35,736 : INFO : worker thread finished; awaiting finish of 0 more threads\n",
            "2021-10-25 05:41:35,739 : INFO : EPOCH - 66 : training on 475171 raw words (393579 effective words) took 0.8s, 468267 effective words/s\n",
            "2021-10-25 05:41:36,558 : INFO : worker thread finished; awaiting finish of 2 more threads\n",
            "2021-10-25 05:41:36,575 : INFO : worker thread finished; awaiting finish of 1 more threads\n",
            "2021-10-25 05:41:36,581 : INFO : worker thread finished; awaiting finish of 0 more threads\n",
            "2021-10-25 05:41:36,583 : INFO : EPOCH - 67 : training on 475171 raw words (393610 effective words) took 0.8s, 475649 effective words/s\n",
            "2021-10-25 05:41:37,428 : INFO : worker thread finished; awaiting finish of 2 more threads\n",
            "2021-10-25 05:41:37,437 : INFO : worker thread finished; awaiting finish of 1 more threads\n",
            "2021-10-25 05:41:37,451 : INFO : worker thread finished; awaiting finish of 0 more threads\n",
            "2021-10-25 05:41:37,454 : INFO : EPOCH - 68 : training on 475171 raw words (393694 effective words) took 0.9s, 459571 effective words/s\n",
            "2021-10-25 05:41:38,266 : INFO : worker thread finished; awaiting finish of 2 more threads\n",
            "2021-10-25 05:41:38,284 : INFO : worker thread finished; awaiting finish of 1 more threads\n",
            "2021-10-25 05:41:38,298 : INFO : worker thread finished; awaiting finish of 0 more threads\n",
            "2021-10-25 05:41:38,300 : INFO : EPOCH - 69 : training on 475171 raw words (393479 effective words) took 0.8s, 471802 effective words/s\n",
            "2021-10-25 05:41:39,129 : INFO : worker thread finished; awaiting finish of 2 more threads\n",
            "2021-10-25 05:41:39,137 : INFO : worker thread finished; awaiting finish of 1 more threads\n",
            "2021-10-25 05:41:39,152 : INFO : worker thread finished; awaiting finish of 0 more threads\n",
            "2021-10-25 05:41:39,154 : INFO : EPOCH - 70 : training on 475171 raw words (393649 effective words) took 0.8s, 468954 effective words/s\n",
            "2021-10-25 05:41:39,988 : INFO : worker thread finished; awaiting finish of 2 more threads\n",
            "2021-10-25 05:41:39,997 : INFO : worker thread finished; awaiting finish of 1 more threads\n",
            "2021-10-25 05:41:40,009 : INFO : worker thread finished; awaiting finish of 0 more threads\n",
            "2021-10-25 05:41:40,010 : INFO : EPOCH - 71 : training on 475171 raw words (393526 effective words) took 0.8s, 466389 effective words/s\n",
            "2021-10-25 05:41:40,852 : INFO : worker thread finished; awaiting finish of 2 more threads\n",
            "2021-10-25 05:41:40,861 : INFO : worker thread finished; awaiting finish of 1 more threads\n",
            "2021-10-25 05:41:40,875 : INFO : worker thread finished; awaiting finish of 0 more threads\n",
            "2021-10-25 05:41:40,877 : INFO : EPOCH - 72 : training on 475171 raw words (393492 effective words) took 0.8s, 463854 effective words/s\n",
            "2021-10-25 05:41:41,743 : INFO : worker thread finished; awaiting finish of 2 more threads\n",
            "2021-10-25 05:41:41,753 : INFO : worker thread finished; awaiting finish of 1 more threads\n",
            "2021-10-25 05:41:41,760 : INFO : worker thread finished; awaiting finish of 0 more threads\n",
            "2021-10-25 05:41:41,762 : INFO : EPOCH - 73 : training on 475171 raw words (393662 effective words) took 0.9s, 452737 effective words/s\n",
            "2021-10-25 05:41:42,620 : INFO : worker thread finished; awaiting finish of 2 more threads\n",
            "2021-10-25 05:41:42,631 : INFO : worker thread finished; awaiting finish of 1 more threads\n",
            "2021-10-25 05:41:42,634 : INFO : worker thread finished; awaiting finish of 0 more threads\n",
            "2021-10-25 05:41:42,635 : INFO : EPOCH - 74 : training on 475171 raw words (393473 effective words) took 0.9s, 459618 effective words/s\n",
            "2021-10-25 05:41:43,492 : INFO : worker thread finished; awaiting finish of 2 more threads\n",
            "2021-10-25 05:41:43,510 : INFO : worker thread finished; awaiting finish of 1 more threads\n",
            "2021-10-25 05:41:43,521 : INFO : worker thread finished; awaiting finish of 0 more threads\n",
            "2021-10-25 05:41:43,523 : INFO : EPOCH - 75 : training on 475171 raw words (393304 effective words) took 0.9s, 451602 effective words/s\n",
            "2021-10-25 05:41:44,351 : INFO : worker thread finished; awaiting finish of 2 more threads\n",
            "2021-10-25 05:41:44,360 : INFO : worker thread finished; awaiting finish of 1 more threads\n",
            "2021-10-25 05:41:44,374 : INFO : worker thread finished; awaiting finish of 0 more threads\n",
            "2021-10-25 05:41:44,376 : INFO : EPOCH - 76 : training on 475171 raw words (393794 effective words) took 0.8s, 470083 effective words/s\n",
            "2021-10-25 05:41:45,223 : INFO : worker thread finished; awaiting finish of 2 more threads\n",
            "2021-10-25 05:41:45,226 : INFO : worker thread finished; awaiting finish of 1 more threads\n",
            "2021-10-25 05:41:45,240 : INFO : worker thread finished; awaiting finish of 0 more threads\n",
            "2021-10-25 05:41:45,242 : INFO : EPOCH - 77 : training on 475171 raw words (393384 effective words) took 0.9s, 462296 effective words/s\n",
            "2021-10-25 05:41:46,074 : INFO : worker thread finished; awaiting finish of 2 more threads\n",
            "2021-10-25 05:41:46,091 : INFO : worker thread finished; awaiting finish of 1 more threads\n",
            "2021-10-25 05:41:46,094 : INFO : worker thread finished; awaiting finish of 0 more threads\n",
            "2021-10-25 05:41:46,095 : INFO : EPOCH - 78 : training on 475171 raw words (393346 effective words) took 0.8s, 469312 effective words/s\n",
            "2021-10-25 05:41:46,949 : INFO : worker thread finished; awaiting finish of 2 more threads\n",
            "2021-10-25 05:41:46,971 : INFO : worker thread finished; awaiting finish of 1 more threads\n",
            "2021-10-25 05:41:46,974 : INFO : worker thread finished; awaiting finish of 0 more threads\n",
            "2021-10-25 05:41:46,976 : INFO : EPOCH - 79 : training on 475171 raw words (393274 effective words) took 0.9s, 459312 effective words/s\n",
            "2021-10-25 05:41:47,825 : INFO : worker thread finished; awaiting finish of 2 more threads\n",
            "2021-10-25 05:41:47,835 : INFO : worker thread finished; awaiting finish of 1 more threads\n",
            "2021-10-25 05:41:47,838 : INFO : worker thread finished; awaiting finish of 0 more threads\n",
            "2021-10-25 05:41:47,839 : INFO : EPOCH - 80 : training on 475171 raw words (393613 effective words) took 0.8s, 463580 effective words/s\n",
            "2021-10-25 05:41:48,667 : INFO : worker thread finished; awaiting finish of 2 more threads\n",
            "2021-10-25 05:41:48,679 : INFO : worker thread finished; awaiting finish of 1 more threads\n",
            "2021-10-25 05:41:48,699 : INFO : worker thread finished; awaiting finish of 0 more threads\n",
            "2021-10-25 05:41:48,700 : INFO : EPOCH - 81 : training on 475171 raw words (393421 effective words) took 0.8s, 464226 effective words/s\n",
            "2021-10-25 05:41:49,514 : INFO : worker thread finished; awaiting finish of 2 more threads\n",
            "2021-10-25 05:41:49,536 : INFO : worker thread finished; awaiting finish of 1 more threads\n",
            "2021-10-25 05:41:49,546 : INFO : worker thread finished; awaiting finish of 0 more threads\n",
            "2021-10-25 05:41:49,547 : INFO : EPOCH - 82 : training on 475171 raw words (393524 effective words) took 0.8s, 473715 effective words/s\n",
            "2021-10-25 05:41:50,366 : INFO : worker thread finished; awaiting finish of 2 more threads\n",
            "2021-10-25 05:41:50,374 : INFO : worker thread finished; awaiting finish of 1 more threads\n",
            "2021-10-25 05:41:50,388 : INFO : worker thread finished; awaiting finish of 0 more threads\n",
            "2021-10-25 05:41:50,390 : INFO : EPOCH - 83 : training on 475171 raw words (393584 effective words) took 0.8s, 476541 effective words/s\n",
            "2021-10-25 05:41:51,214 : INFO : worker thread finished; awaiting finish of 2 more threads\n",
            "2021-10-25 05:41:51,232 : INFO : worker thread finished; awaiting finish of 1 more threads\n",
            "2021-10-25 05:41:51,234 : INFO : worker thread finished; awaiting finish of 0 more threads\n",
            "2021-10-25 05:41:51,236 : INFO : EPOCH - 84 : training on 475171 raw words (393432 effective words) took 0.8s, 472895 effective words/s\n",
            "2021-10-25 05:41:52,068 : INFO : worker thread finished; awaiting finish of 2 more threads\n",
            "2021-10-25 05:41:52,088 : INFO : worker thread finished; awaiting finish of 1 more threads\n",
            "2021-10-25 05:41:52,094 : INFO : worker thread finished; awaiting finish of 0 more threads\n",
            "2021-10-25 05:41:52,096 : INFO : EPOCH - 85 : training on 475171 raw words (393772 effective words) took 0.8s, 465836 effective words/s\n",
            "2021-10-25 05:41:52,934 : INFO : worker thread finished; awaiting finish of 2 more threads\n",
            "2021-10-25 05:41:52,936 : INFO : worker thread finished; awaiting finish of 1 more threads\n",
            "2021-10-25 05:41:52,952 : INFO : worker thread finished; awaiting finish of 0 more threads\n",
            "2021-10-25 05:41:52,954 : INFO : EPOCH - 86 : training on 475171 raw words (393469 effective words) took 0.8s, 465723 effective words/s\n",
            "2021-10-25 05:41:53,790 : INFO : worker thread finished; awaiting finish of 2 more threads\n",
            "2021-10-25 05:41:53,804 : INFO : worker thread finished; awaiting finish of 1 more threads\n",
            "2021-10-25 05:41:53,815 : INFO : worker thread finished; awaiting finish of 0 more threads\n",
            "2021-10-25 05:41:53,817 : INFO : EPOCH - 87 : training on 475171 raw words (393572 effective words) took 0.8s, 464422 effective words/s\n",
            "2021-10-25 05:41:54,692 : INFO : worker thread finished; awaiting finish of 2 more threads\n",
            "2021-10-25 05:41:54,696 : INFO : worker thread finished; awaiting finish of 1 more threads\n",
            "2021-10-25 05:41:54,700 : INFO : worker thread finished; awaiting finish of 0 more threads\n",
            "2021-10-25 05:41:54,702 : INFO : EPOCH - 88 : training on 475171 raw words (393582 effective words) took 0.9s, 452881 effective words/s\n",
            "2021-10-25 05:41:55,549 : INFO : worker thread finished; awaiting finish of 2 more threads\n",
            "2021-10-25 05:41:55,567 : INFO : worker thread finished; awaiting finish of 1 more threads\n",
            "2021-10-25 05:41:55,574 : INFO : worker thread finished; awaiting finish of 0 more threads\n",
            "2021-10-25 05:41:55,576 : INFO : EPOCH - 89 : training on 475171 raw words (393621 effective words) took 0.9s, 458491 effective words/s\n",
            "2021-10-25 05:41:56,406 : INFO : worker thread finished; awaiting finish of 2 more threads\n",
            "2021-10-25 05:41:56,413 : INFO : worker thread finished; awaiting finish of 1 more threads\n",
            "2021-10-25 05:41:56,415 : INFO : worker thread finished; awaiting finish of 0 more threads\n",
            "2021-10-25 05:41:56,417 : INFO : EPOCH - 90 : training on 475171 raw words (393255 effective words) took 0.8s, 476354 effective words/s\n",
            "2021-10-25 05:41:57,256 : INFO : worker thread finished; awaiting finish of 2 more threads\n",
            "2021-10-25 05:41:57,266 : INFO : worker thread finished; awaiting finish of 1 more threads\n",
            "2021-10-25 05:41:57,275 : INFO : worker thread finished; awaiting finish of 0 more threads\n",
            "2021-10-25 05:41:57,278 : INFO : EPOCH - 91 : training on 475171 raw words (393609 effective words) took 0.8s, 468642 effective words/s\n",
            "2021-10-25 05:41:58,110 : INFO : worker thread finished; awaiting finish of 2 more threads\n",
            "2021-10-25 05:41:58,128 : INFO : worker thread finished; awaiting finish of 1 more threads\n",
            "2021-10-25 05:41:58,145 : INFO : worker thread finished; awaiting finish of 0 more threads\n",
            "2021-10-25 05:41:58,147 : INFO : EPOCH - 92 : training on 475171 raw words (393768 effective words) took 0.9s, 459547 effective words/s\n",
            "2021-10-25 05:41:58,958 : INFO : worker thread finished; awaiting finish of 2 more threads\n",
            "2021-10-25 05:41:58,973 : INFO : worker thread finished; awaiting finish of 1 more threads\n",
            "2021-10-25 05:41:58,984 : INFO : worker thread finished; awaiting finish of 0 more threads\n",
            "2021-10-25 05:41:58,985 : INFO : EPOCH - 93 : training on 475171 raw words (393671 effective words) took 0.8s, 477404 effective words/s\n",
            "2021-10-25 05:41:59,808 : INFO : worker thread finished; awaiting finish of 2 more threads\n",
            "2021-10-25 05:41:59,826 : INFO : worker thread finished; awaiting finish of 1 more threads\n",
            "2021-10-25 05:41:59,833 : INFO : worker thread finished; awaiting finish of 0 more threads\n",
            "2021-10-25 05:41:59,834 : INFO : EPOCH - 94 : training on 475171 raw words (393559 effective words) took 0.8s, 473187 effective words/s\n",
            "2021-10-25 05:42:00,675 : INFO : worker thread finished; awaiting finish of 2 more threads\n",
            "2021-10-25 05:42:00,684 : INFO : worker thread finished; awaiting finish of 1 more threads\n",
            "2021-10-25 05:42:00,694 : INFO : worker thread finished; awaiting finish of 0 more threads\n",
            "2021-10-25 05:42:00,695 : INFO : EPOCH - 95 : training on 475171 raw words (393718 effective words) took 0.8s, 464191 effective words/s\n",
            "2021-10-25 05:42:01,519 : INFO : worker thread finished; awaiting finish of 2 more threads\n",
            "2021-10-25 05:42:01,533 : INFO : worker thread finished; awaiting finish of 1 more threads\n",
            "2021-10-25 05:42:01,538 : INFO : worker thread finished; awaiting finish of 0 more threads\n",
            "2021-10-25 05:42:01,541 : INFO : EPOCH - 96 : training on 475171 raw words (393445 effective words) took 0.8s, 472425 effective words/s\n",
            "2021-10-25 05:42:02,385 : INFO : worker thread finished; awaiting finish of 2 more threads\n",
            "2021-10-25 05:42:02,388 : INFO : worker thread finished; awaiting finish of 1 more threads\n",
            "2021-10-25 05:42:02,406 : INFO : worker thread finished; awaiting finish of 0 more threads\n",
            "2021-10-25 05:42:02,409 : INFO : EPOCH - 97 : training on 475171 raw words (393255 effective words) took 0.9s, 458331 effective words/s\n",
            "2021-10-25 05:42:03,290 : INFO : worker thread finished; awaiting finish of 2 more threads\n",
            "2021-10-25 05:42:03,302 : INFO : worker thread finished; awaiting finish of 1 more threads\n",
            "2021-10-25 05:42:03,308 : INFO : worker thread finished; awaiting finish of 0 more threads\n",
            "2021-10-25 05:42:03,310 : INFO : EPOCH - 98 : training on 475171 raw words (393860 effective words) took 0.9s, 444008 effective words/s\n",
            "2021-10-25 05:42:04,154 : INFO : worker thread finished; awaiting finish of 2 more threads\n",
            "2021-10-25 05:42:04,166 : INFO : worker thread finished; awaiting finish of 1 more threads\n",
            "2021-10-25 05:42:04,176 : INFO : worker thread finished; awaiting finish of 0 more threads\n",
            "2021-10-25 05:42:04,178 : INFO : EPOCH - 99 : training on 475171 raw words (393390 effective words) took 0.8s, 470206 effective words/s\n",
            "2021-10-25 05:42:05,028 : INFO : worker thread finished; awaiting finish of 2 more threads\n",
            "2021-10-25 05:42:05,037 : INFO : worker thread finished; awaiting finish of 1 more threads\n",
            "2021-10-25 05:42:05,052 : INFO : worker thread finished; awaiting finish of 0 more threads\n",
            "2021-10-25 05:42:05,055 : INFO : EPOCH - 100 : training on 475171 raw words (393817 effective words) took 0.9s, 456202 effective words/s\n",
            "2021-10-25 05:42:05,060 : INFO : training on a 47517100 raw words (39357145 effective words) took 87.4s, 450097 effective words/s\n",
            "2021-10-25 05:42:05,063 : INFO : saving Word2Vec object under /content/drive/MyDrive/KITERETU/w2v_sangokusi.model, separately None\n",
            "2021-10-25 05:42:05,065 : INFO : not storing attribute vectors_norm\n",
            "2021-10-25 05:42:05,067 : INFO : not storing attribute cum_table\n",
            "2021-10-25 05:42:05,151 : INFO : saved /content/drive/MyDrive/KITERETU/w2v_sangokusi.model\n"
          ]
        },
        {
          "name": "stdout",
          "output_type": "stream",
          "text": [
            "CPU times: user 2min 42s, sys: 1.32 s, total: 2min 43s\n",
            "Wall time: 1min 31s\n"
          ]
        }
      ],
      "source": [
        "%%time\n",
        "import logging\n",
        "from gensim.models import word2vec\n",
        "import pickle\n",
        "\n",
        "logging.basicConfig(format='%(asctime)s : %(levelname)s : %(message)s', level=logging.INFO)\n",
        "\n",
        "#ワードリストをpickleから復元\n",
        "with open('/content/drive/MyDrive/KITERETU/sangokusi_wordlist.pickle', 'rb') as f:\n",
        "  word_list = pickle.load(f)\n",
        "\n",
        "# Word2Vecの学習実施\n",
        "model = word2vec.Word2Vec(word_list,\n",
        "                          vector_size = 50,\n",
        "                          min_count = 5,\n",
        "                          window = 6,\n",
        "                          epochs = 100)\n",
        "\n",
        "model.save(\"/content/drive/MyDrive/KITERETU/w2v_sangokusi.model\")\n"
      ]
    },
    {
      "cell_type": "markdown",
      "metadata": {
        "id": "IMLcH5sSp6CW"
      },
      "source": [
        "■ ベクトルにされた魏延を見る："
      ]
    },
    {
      "cell_type": "code",
      "execution_count": null,
      "metadata": {
        "colab": {
          "base_uri": "https://localhost:8080/"
        },
        "id": "kJKEgpGfqxq6",
        "outputId": "3334d6a7-bde0-4577-febf-ec4b8da54837"
      },
      "outputs": [
        {
          "name": "stderr",
          "output_type": "stream",
          "text": [
            "2021-10-25 05:42:17,102 : INFO : loading Word2Vec object from /content/drive/MyDrive/KITERETU/w2v_sangokusi.model\n",
            "2021-10-25 05:42:17,430 : INFO : loading wv recursively from /content/drive/MyDrive/KITERETU/w2v_sangokusi.model.wv.* with mmap=None\n",
            "2021-10-25 05:42:17,433 : INFO : setting ignored attribute vectors_norm to None\n",
            "2021-10-25 05:42:17,440 : INFO : loading vocabulary recursively from /content/drive/MyDrive/KITERETU/w2v_sangokusi.model.vocabulary.* with mmap=None\n",
            "2021-10-25 05:42:17,442 : INFO : loading trainables recursively from /content/drive/MyDrive/KITERETU/w2v_sangokusi.model.trainables.* with mmap=None\n",
            "2021-10-25 05:42:17,448 : INFO : setting ignored attribute cum_table to None\n",
            "2021-10-25 05:42:17,450 : INFO : loaded /content/drive/MyDrive/KITERETU/w2v_sangokusi.model\n"
          ]
        },
        {
          "name": "stdout",
          "output_type": "stream",
          "text": [
            "[ 1.9173474  -1.0230975   0.06126198 -0.8606647  -0.59247524  0.9046677\n",
            "  3.6038902  -1.3582361  -0.1701527  -2.1396217   0.73873496  2.0876312\n",
            " -0.82896316  3.978466    0.28275532 -2.7107244   0.7575259  -2.3788888\n",
            " -2.3934102  -1.3135936  -2.477519   -2.1020873  -1.6193115   0.8280694\n",
            "  4.222766   -1.4305112  -3.337515    2.2531846   0.17241049  3.8921204\n",
            " -1.0577265   1.8311344  -1.9672191   1.2837371  -0.41926852 -4.044712\n",
            " -2.283916   -1.9041662  -2.682838    6.26683     1.856547    1.5368447\n",
            "  1.9137437   0.7854431   0.7145208  -0.3574764   0.37720707  2.2849395\n",
            "  1.8181916   0.28917187]\n"
          ]
        }
      ],
      "source": [
        "from gensim.models import word2vec\n",
        "\n",
        "# 保存したモデルファイルの読み込み\n",
        "model = word2vec.Word2Vec.load(\"/content/drive/MyDrive/KITERETU/w2v_sangokusi.model\")\n",
        "\n",
        "print(model.__dict__['wv']['魏延'])"
      ]
    },
    {
      "cell_type": "markdown",
      "metadata": {
        "id": "CtzedCC8qx7x"
      },
      "source": [
        "■ 「関羽」に近いTop7の表示：\n"
      ]
    },
    {
      "cell_type": "code",
      "execution_count": null,
      "metadata": {
        "colab": {
          "base_uri": "https://localhost:8080/"
        },
        "id": "ybBzoFLwqyCw",
        "outputId": "a5339988-8a51-40c4-d4db-c17d76ce09e5"
      },
      "outputs": [
        {
          "name": "stderr",
          "output_type": "stream",
          "text": [
            "2021-10-25 05:42:34,572 : INFO : precomputing L2-norms of word weight vectors\n"
          ]
        },
        {
          "name": "stdout",
          "output_type": "stream",
          "text": [
            "[('劉備', 0.6847494840621948), ('孫乾', 0.6572052240371704), ('趙雲', 0.656166672706604), ('関平', 0.6153693795204163), ('張飛', 0.5775683522224426), ('糜芳', 0.5612915754318237), ('張苞', 0.5470471382141113)]\n"
          ]
        }
      ],
      "source": [
        "out = model.wv.most_similar(positive=[u'関羽'], topn=7)\n",
        "print(out)"
      ]
    },
    {
      "cell_type": "markdown",
      "metadata": {
        "id": "uGoyCdk6ZMAW"
      },
      "source": [
        "■ 「諸葛亮」に近いTop7の表示：\n"
      ]
    },
    {
      "cell_type": "code",
      "execution_count": null,
      "metadata": {
        "colab": {
          "base_uri": "https://localhost:8080/"
        },
        "id": "HsfZSUegrXgo",
        "outputId": "c1dc4e3c-afa8-411e-abc1-728bbe46a48c"
      },
      "outputs": [
        {
          "name": "stdout",
          "output_type": "stream",
          "text": [
            "[('姜維', 0.6670064330101013), ('司馬懿', 0.6474563479423523), ('陸遜', 0.5527200698852539), ('魯粛', 0.5498932600021362), ('魏延', 0.5379550457000732), ('劉備', 0.5064989924430847), ('楊儀', 0.5034860968589783)]\n"
          ]
        }
      ],
      "source": [
        "out = model.wv.most_similar(positive=[u'諸葛亮'], topn=7)\n",
        "print(out)"
      ]
    },
    {
      "cell_type": "markdown",
      "metadata": {
        "id": "_kVm2Ff5ZOYF"
      },
      "source": [
        "■ 「甘寧」＋「曹操」－「孫権」："
      ]
    },
    {
      "cell_type": "code",
      "execution_count": null,
      "metadata": {
        "colab": {
          "base_uri": "https://localhost:8080/"
        },
        "id": "US9uw_w-ZOpz",
        "outputId": "1fd3b4b4-900a-4ea8-8f5a-a5926b9e8ece"
      },
      "outputs": [
        {
          "name": "stdout",
          "output_type": "stream",
          "text": [
            "[('董卓', 0.6380791068077087), ('于禁', 0.5751194953918457), ('許褚', 0.5576584339141846), ('徐晃', 0.5471183061599731), ('なだれ', 0.5273633003234863)]\n",
            "[('張飛', 0.6829030513763428), ('関羽', 0.5843572020530701), ('ふたり', 0.5489971041679382), ('張遼', 0.5309637188911438), ('張南', 0.5244684219360352)]\n"
          ]
        }
      ],
      "source": [
        "# 「甘寧」＋「曹操」－「孫権」（孫権にとっての甘寧は、曹操にとって誰？）\n",
        "print(model.wv.most_similar(positive=['甘寧','曹操'], negative=['孫権'],topn=5))\n",
        "# 「甘寧」＋「劉備」－「孫権」（孫権にとっての甘寧は、劉備にとって誰？）\n",
        "print(model.wv.most_similar(positive=['甘寧','劉備'], negative=['孫権'],topn=5))"
      ]
    },
    {
      "cell_type": "markdown",
      "metadata": {
        "id": "xPuJ-6mfZSY0"
      },
      "source": [
        "■ 曹操にとっての張遼は誰か？：\n"
      ]
    },
    {
      "cell_type": "code",
      "execution_count": null,
      "metadata": {
        "colab": {
          "base_uri": "https://localhost:8080/"
        },
        "id": "uxWeuq-aZSgp",
        "outputId": "83f240b8-dd72-48ce-bff2-50f3460119ba"
      },
      "outputs": [
        {
          "name": "stdout",
          "output_type": "stream",
          "text": [
            "[('周泰', 0.63219153881073), ('韓当', 0.5516380071640015), ('陸遜', 0.5214964151382446), ('救い出す', 0.5210177898406982), ('張翼', 0.5080519914627075)]\n",
            "[('趙雲', 0.6857954859733582), ('関羽', 0.6301696300506592), ('張飛', 0.6163004040718079), ('張翼', 0.5853250026702881), ('孫乾', 0.5549824237823486)]\n"
          ]
        }
      ],
      "source": [
        "# 「張遼」＋「孫権」－「曹操」（曹操にとっての張遼は、孫権にとって誰？）\n",
        "print(model.wv.most_similar(positive=['張遼','孫権'], negative=['曹操'],topn=5))\n",
        "# 「張遼」＋「劉備」－「曹操」（曹操にとっての張遼は、劉備にとって誰？）\n",
        "print(model.wv.most_similar(positive=['張遼','劉備'], negative=['曹操'],topn=5))\n"
      ]
    },
    {
      "cell_type": "markdown",
      "metadata": {
        "id": "Oudxm4oCZYBy"
      },
      "source": [
        "■ 劉備にとっての諸葛亮は誰か？："
      ]
    },
    {
      "cell_type": "code",
      "execution_count": null,
      "metadata": {
        "colab": {
          "base_uri": "https://localhost:8080/"
        },
        "id": "vCTpofMKZYJC",
        "outputId": "1463951d-8b85-4207-8f90-13fa6d283c76"
      },
      "outputs": [
        {
          "name": "stdout",
          "output_type": "stream",
          "text": [
            "[('曹真', 0.6516969799995422), ('司馬懿', 0.6263272762298584), ('来す', 0.5622915029525757), ('すくない', 0.5175493359565735), ('首脳', 0.5147556066513062)]\n",
            "[('陸遜', 0.7475038170814514), ('周瑜', 0.6595892310142517), ('張昭', 0.6433579921722412), ('呉', 0.5949150323867798), ('魯粛', 0.5883411765098572)]\n"
          ]
        }
      ],
      "source": [
        "print(model.wv.most_similar(positive=['諸葛亮','曹操'], negative=['劉備'],topn=5))\n",
        "print(model.wv.most_similar(positive=['諸葛亮','孫権'], negative=['劉備'],topn=5))\n"
      ]
    },
    {
      "cell_type": "markdown",
      "metadata": {
        "id": "6tKBKKceZbIU"
      },
      "source": [
        "■ キーワードリストから「劉備」と「曹操」の数を数える："
      ]
    },
    {
      "cell_type": "code",
      "execution_count": null,
      "metadata": {
        "colab": {
          "base_uri": "https://localhost:8080/"
        },
        "id": "k1Grv2yAZbOk",
        "outputId": "cd555f9d-a470-4acd-f75e-2c2c5930f82d"
      },
      "outputs": [
        {
          "name": "stdout",
          "output_type": "stream",
          "text": [
            "劉備の登場回数： 2656\n",
            "曹操の登場回数： 2856\n"
          ]
        }
      ],
      "source": [
        "import pickle\n",
        "with open('/content/drive/MyDrive/KITERETU/sangokusi_wordlist.pickle', 'rb') as f:\n",
        "  sangokusi_wordlist = pickle.load(f)\n",
        "\n",
        "# ２重のリストをフラット（１重）にする関数\n",
        "def flatten(nested_list):\n",
        "  return [e for inner_list in nested_list for e in inner_list]\n",
        "\n",
        "flat_wordlist = flatten(sangokusi_wordlist)\n",
        "\n",
        "print(\"劉備の登場回数：\", flat_wordlist.count('劉備'))\n",
        "print(\"曹操の登場回数：\", flat_wordlist.count('曹操'))\n"
      ]
    },
    {
      "cell_type": "code",
      "execution_count": null,
      "metadata": {
        "id": "qJ9QHbPyd4Ot"
      },
      "outputs": [],
      "source": []
    }
  ],
  "metadata": {
    "colab": {
      "include_colab_link": true,
      "provenance": []
    },
    "kernelspec": {
      "display_name": "Python 3",
      "name": "python3"
    }
  },
  "nbformat": 4,
  "nbformat_minor": 0
}
