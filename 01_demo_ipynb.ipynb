{
  "nbformat": 4,
  "nbformat_minor": 0,
  "metadata": {
    "colab": {
      "provenance": [],
      "include_colab_link": true
    },
    "kernelspec": {
      "name": "python3",
      "display_name": "Python 3"
    },
    "language_info": {
      "name": "python"
    }
  },
  "cells": [
    {
      "cell_type": "markdown",
      "metadata": {
        "id": "view-in-github",
        "colab_type": "text"
      },
      "source": [
        "<a href=\"https://colab.research.google.com/github/hanpec/test/blob/master/01_demo_ipynb.ipynb\" target=\"_parent\"><img src=\"https://colab.research.google.com/assets/colab-badge.svg\" alt=\"Open In Colab\"/></a>"
      ]
    },
    {
      "cell_type": "markdown",
      "metadata": {
        "id": "8kW_qXJVTjic"
      },
      "source": [
        "# 最初のStreamlitアプリ\n",
        "タイトルを表示するだけのシンプルなStreamlitアプリを作成し、ngrokを使って動作を確認します。"
      ]
    },
    {
      "cell_type": "markdown",
      "source": [
        "## ●ライブラリのインストール\n",
        "Streamlit、およびアプリの動作の確認に使用する「ngrok」をインストールします。"
      ],
      "metadata": {
        "id": "vRJCuxALcgkb"
      }
    },
    {
      "cell_type": "code",
      "execution_count": 8,
      "metadata": {
        "id": "Pbqipzj3nCy4",
        "outputId": "dd268f19-0fb3-48fc-cdb5-75fb4aab23bb",
        "colab": {
          "base_uri": "https://localhost:8080/"
        }
      },
      "outputs": [
        {
          "output_type": "stream",
          "name": "stdout",
          "text": [
            "\u001b[2K     \u001b[90m━━━━━━━━━━━━━━━━━━━━━━━━━━━━━━━━━━━━━━━━\u001b[0m \u001b[32m9.6/9.6 MB\u001b[0m \u001b[31m22.8 MB/s\u001b[0m eta \u001b[36m0:00:00\u001b[0m\n",
            "\u001b[2K     \u001b[90m━━━━━━━━━━━━━━━━━━━━━━━━━━━━━━━━━━━━━━\u001b[0m \u001b[32m164.8/164.8 kB\u001b[0m \u001b[31m16.4 MB/s\u001b[0m eta \u001b[36m0:00:00\u001b[0m\n",
            "\u001b[2K     \u001b[90m━━━━━━━━━━━━━━━━━━━━━━━━━━━━━━━━━━━━━━\u001b[0m \u001b[32m188.5/188.5 kB\u001b[0m \u001b[31m17.8 MB/s\u001b[0m eta \u001b[36m0:00:00\u001b[0m\n",
            "\u001b[2K     \u001b[90m━━━━━━━━━━━━━━━━━━━━━━━━━━━━━━━━━━━━━━━━\u001b[0m \u001b[32m4.8/4.8 MB\u001b[0m \u001b[31m44.3 MB/s\u001b[0m eta \u001b[36m0:00:00\u001b[0m\n",
            "\u001b[2K     \u001b[90m━━━━━━━━━━━━━━━━━━━━━━━━━━━━━━━━━━━━━━━━\u001b[0m \u001b[32m82.1/82.1 kB\u001b[0m \u001b[31m8.3 MB/s\u001b[0m eta \u001b[36m0:00:00\u001b[0m\n",
            "\u001b[2K     \u001b[90m━━━━━━━━━━━━━━━━━━━━━━━━━━━━━━━━━━━━━━━━\u001b[0m \u001b[32m62.7/62.7 kB\u001b[0m \u001b[31m6.6 MB/s\u001b[0m eta \u001b[36m0:00:00\u001b[0m\n",
            "\u001b[?25h  Preparing metadata (setup.py) ... \u001b[?25l\u001b[?25hdone\n",
            "  Building wheel for pyngrok (setup.py) ... \u001b[?25l\u001b[?25hdone\n"
          ]
        }
      ],
      "source": [
        "!pip install streamlit==1.20.0 --quiet\n",
        "!pip install pyngrok==4.1.1 --quiet"
      ]
    },
    {
      "cell_type": "markdown",
      "source": [
        "Streamlit、およびngrokをインポートしておきます。  \n",
        "エラーが発生する場合は、「ランタイム」→「ランタイムを再起動」によりランタイムを再起動し、再びコードセルを上から順に実行しましょう。"
      ],
      "metadata": {
        "id": "husUkYy5dhZ4"
      }
    },
    {
      "cell_type": "code",
      "source": [
        "import streamlit as st\n",
        "from pyngrok import ngrok"
      ],
      "metadata": {
        "id": "OsHcq-kaDwIi"
      },
      "execution_count": 9,
      "outputs": []
    },
    {
      "cell_type": "markdown",
      "source": [
        "## ●シンプルなアプリの作成\n",
        "タイトルおよび表を表示するシンプルなアプリを作成し、ファイルに保存します。  \n",
        "表の表示には、pandasのDataFrameを使います。  \n",
        "`%%writefile`のマジックコマンドを使って、以下のコードを「app.py」に書き込みます。"
      ],
      "metadata": {
        "id": "5fOtVgU5duPe"
      }
    },
    {
      "cell_type": "code",
      "source": [
        "%%writefile app.py\n",
        "# 以下を「app.py」に書き込み\n",
        "import streamlit as st\n",
        "import pandas as pd\n",
        "\n",
        "st.title(\"Hello Streamlit!\")\n",
        "\n",
        "df = pd.DataFrame({\"数学\": [67, 76, 92, 81,57],\n",
        "                   \"英語\": [45, 81, 93, 48, 77],\n",
        "                   \"理科\": [65, 68, 77, 83, 91]})\n",
        "st.dataframe(df)"
      ],
      "metadata": {
        "id": "Ntj_BU3bnJli",
        "outputId": "bb162465-cde6-47b4-919b-2f94f1ea25eb",
        "colab": {
          "base_uri": "https://localhost:8080/"
        }
      },
      "execution_count": 15,
      "outputs": [
        {
          "output_type": "stream",
          "name": "stdout",
          "text": [
            "Overwriting app.py\n"
          ]
        }
      ]
    },
    {
      "cell_type": "markdown",
      "source": [
        "## ●Authtokenの設定\n",
        "ngrokで接続するために必要な「Authtoken」を設定します。  \n",
        "以下のコードの、  \n",
        "`!ngrok authtoken YourAuthtoken`  \n",
        "における  \n",
        "`YourAuthtoken`の箇所を、自分のAuthtokenに置き換えます。  \n",
        "Authtokenは、ngrokのサイトに登録すれば取得することができます。  \n",
        "https://ngrok.com/\n"
      ],
      "metadata": {
        "id": "j03EsJaHh4KK"
      }
    },
    {
      "cell_type": "code",
      "source": [
        "!ngrok authtoken 2UTuObfcX2ov7JQT6LtWWaMR0Mr_3xU8VZaXdmft3HYjSm32h"
      ],
      "metadata": {
        "id": "mTfmORj2Dn7-",
        "outputId": "61387ebd-0622-47b0-8b73-542d6e9f3cba",
        "colab": {
          "base_uri": "https://localhost:8080/"
        }
      },
      "execution_count": 16,
      "outputs": [
        {
          "output_type": "stream",
          "name": "stdout",
          "text": [
            "Authtoken saved to configuration file: /root/.ngrok2/ngrok.yml\n"
          ]
        }
      ]
    },
    {
      "cell_type": "markdown",
      "source": [
        "## ●アプリの起動と動作確認\n",
        "streamlitの`run`コマンドでアプリを起動します。\n"
      ],
      "metadata": {
        "id": "CnobL05MkjB1"
      }
    },
    {
      "cell_type": "code",
      "source": [
        "!streamlit run app.py &>/dev/null&  # 「&>/dev/null&」により、出力を非表示にしてバックグランドジョブとして実行"
      ],
      "metadata": {
        "id": "W0jXlMXWK0vi"
      },
      "execution_count": 17,
      "outputs": []
    },
    {
      "cell_type": "markdown",
      "source": [
        "ngrokのプロセスを終了した上で、新たにポートを指定して接続します。  \n",
        "接続の結果、urlを取得できます。  \n",
        "ngrokの無料プランでは同時に1つのプロセスしか動かせないので、エラーが発生した場合は「ランタイム」→「セッションの管理」で不要なGoogle Colabのセッションを修了しましょう。  "
      ],
      "metadata": {
        "id": "W5RLCJ7Sl2x_"
      }
    },
    {
      "cell_type": "code",
      "source": [
        "ngrok.kill()  # プロセスの修了\n",
        "url = ngrok.connect(port=\"8501\")  # 接続"
      ],
      "metadata": {
        "id": "v23ymsdLK3x7",
        "outputId": "3bb1301c-eab0-44ca-a63a-b2841cf75635",
        "colab": {
          "base_uri": "https://localhost:8080/"
        }
      },
      "execution_count": 19,
      "outputs": [
        {
          "output_type": "stream",
          "name": "stderr",
          "text": [
            "INFO:pyngrok.process:ngrok process starting: 3205\n",
            "2023-08-25 15:18:38.895 INFO    pyngrok.process: ngrok process starting: 3205\n",
            "INFO:pyngrok.process:t=2023-08-25T15:18:38+0000 lvl=info msg=\"no configuration paths supplied\"\n",
            "\n",
            "2023-08-25 15:18:38.919 INFO    pyngrok.process: t=2023-08-25T15:18:38+0000 lvl=info msg=\"no configuration paths supplied\"\n",
            "\n",
            "INFO:pyngrok.process:t=2023-08-25T15:18:38+0000 lvl=info msg=\"using configuration at default config path\" path=/root/.ngrok2/ngrok.yml\n",
            "\n",
            "2023-08-25 15:18:38.927 INFO    pyngrok.process: t=2023-08-25T15:18:38+0000 lvl=info msg=\"using configuration at default config path\" path=/root/.ngrok2/ngrok.yml\n",
            "\n",
            "INFO:pyngrok.process:t=2023-08-25T15:18:38+0000 lvl=info msg=\"open config file\" path=/root/.ngrok2/ngrok.yml err=nil\n",
            "\n",
            "2023-08-25 15:18:38.941 INFO    pyngrok.process: t=2023-08-25T15:18:38+0000 lvl=info msg=\"open config file\" path=/root/.ngrok2/ngrok.yml err=nil\n",
            "\n",
            "INFO:pyngrok.process:t=2023-08-25T15:18:38+0000 lvl=info msg=\"starting web service\" obj=web addr=127.0.0.1:4040\n",
            "\n",
            "2023-08-25 15:18:38.955 INFO    pyngrok.process: t=2023-08-25T15:18:38+0000 lvl=info msg=\"starting web service\" obj=web addr=127.0.0.1:4040\n",
            "\n",
            "INFO:pyngrok.process:t=2023-08-25T15:18:39+0000 lvl=info msg=\"tunnel session started\" obj=tunnels.session\n",
            "\n",
            "2023-08-25 15:18:39.076 INFO    pyngrok.process: t=2023-08-25T15:18:39+0000 lvl=info msg=\"tunnel session started\" obj=tunnels.session\n",
            "\n",
            "INFO:pyngrok.process:t=2023-08-25T15:18:39+0000 lvl=info msg=\"client session established\" obj=csess id=373ae6ed8c9c\n",
            "\n",
            "2023-08-25 15:18:39.086 INFO    pyngrok.process: t=2023-08-25T15:18:39+0000 lvl=info msg=\"client session established\" obj=csess id=373ae6ed8c9c\n",
            "\n",
            "INFO:pyngrok.process:ngrok process has started: http://127.0.0.1:4040\n",
            "2023-08-25 15:18:39.096 INFO    pyngrok.process: ngrok process has started: http://127.0.0.1:4040\n",
            "INFO:pyngrok.process:t=2023-08-25T15:18:39+0000 lvl=info msg=start pg=/api/tunnels id=a2f845b2ffe05cbd\n",
            "\n",
            "2023-08-25 15:18:39.103 INFO    pyngrok.process: t=2023-08-25T15:18:39+0000 lvl=info msg=start pg=/api/tunnels id=a2f845b2ffe05cbd\n",
            "\n",
            "INFO:pyngrok.process:t=2023-08-25T15:18:39+0000 lvl=info msg=end pg=/api/tunnels id=a2f845b2ffe05cbd status=200 dur=355.639µs\n",
            "\n",
            "2023-08-25 15:18:39.111 INFO    pyngrok.process: t=2023-08-25T15:18:39+0000 lvl=info msg=end pg=/api/tunnels id=a2f845b2ffe05cbd status=200 dur=355.639µs\n",
            "\n",
            "INFO:pyngrok.process:t=2023-08-25T15:18:39+0000 lvl=info msg=start pg=/api/tunnels id=e26aafe96c7c99fc\n",
            "\n",
            "2023-08-25 15:18:39.123 INFO    pyngrok.process: t=2023-08-25T15:18:39+0000 lvl=info msg=start pg=/api/tunnels id=e26aafe96c7c99fc\n",
            "\n",
            "INFO:pyngrok.process:t=2023-08-25T15:18:39+0000 lvl=info msg=end pg=/api/tunnels id=e26aafe96c7c99fc status=200 dur=127.848µs\n",
            "\n",
            "2023-08-25 15:18:39.128 INFO    pyngrok.process: t=2023-08-25T15:18:39+0000 lvl=info msg=end pg=/api/tunnels id=e26aafe96c7c99fc status=200 dur=127.848µs\n",
            "\n",
            "INFO:pyngrok.process:t=2023-08-25T15:18:39+0000 lvl=info msg=start pg=/api/tunnels id=728489dae9a2f581\n",
            "\n",
            "2023-08-25 15:18:39.132 INFO    pyngrok.process: t=2023-08-25T15:18:39+0000 lvl=info msg=start pg=/api/tunnels id=728489dae9a2f581\n",
            "\n",
            "INFO:pyngrok.process:t=2023-08-25T15:18:39+0000 lvl=info msg=\"started tunnel\" obj=tunnels name=\"http-8501-d9343032-d6e8-471f-bdcc-b87d950cd8c3 (http)\" addr=http://localhost:8501 url=http://702e-34-23-56-163.ngrok-free.app\n",
            "\n",
            "2023-08-25 15:18:39.191 INFO    pyngrok.process: t=2023-08-25T15:18:39+0000 lvl=info msg=\"started tunnel\" obj=tunnels name=\"http-8501-d9343032-d6e8-471f-bdcc-b87d950cd8c3 (http)\" addr=http://localhost:8501 url=http://702e-34-23-56-163.ngrok-free.app\n",
            "\n",
            "INFO:pyngrok.process:t=2023-08-25T15:18:39+0000 lvl=info msg=\"started tunnel\" obj=tunnels name=http-8501-d9343032-d6e8-471f-bdcc-b87d950cd8c3 addr=http://localhost:8501 url=https://702e-34-23-56-163.ngrok-free.app\n",
            "\n",
            "2023-08-25 15:18:39.198 INFO    pyngrok.process: t=2023-08-25T15:18:39+0000 lvl=info msg=\"started tunnel\" obj=tunnels name=http-8501-d9343032-d6e8-471f-bdcc-b87d950cd8c3 addr=http://localhost:8501 url=https://702e-34-23-56-163.ngrok-free.app\n",
            "\n",
            "INFO:pyngrok.process:t=2023-08-25T15:18:39+0000 lvl=info msg=end pg=/api/tunnels id=728489dae9a2f581 status=201 dur=84.423731ms\n",
            "\n",
            "2023-08-25 15:18:39.201 INFO    pyngrok.process: t=2023-08-25T15:18:39+0000 lvl=info msg=end pg=/api/tunnels id=728489dae9a2f581 status=201 dur=84.423731ms\n",
            "\n"
          ]
        }
      ]
    },
    {
      "cell_type": "markdown",
      "source": [
        "urlを表示し、リンク先でアプリが動作することを確認します。"
      ],
      "metadata": {
        "id": "NZ0O_pNan57t"
      }
    },
    {
      "cell_type": "code",
      "source": [
        "print(url)"
      ],
      "metadata": {
        "id": "MIY7ositLAXC",
        "outputId": "351cfc20-ee0d-4284-8954-3dad0630e37d",
        "colab": {
          "base_uri": "https://localhost:8080/"
        }
      },
      "execution_count": 20,
      "outputs": [
        {
          "output_type": "stream",
          "name": "stdout",
          "text": [
            "http://702e-34-23-56-163.ngrok-free.app\n"
          ]
        }
      ]
    }
  ]
}