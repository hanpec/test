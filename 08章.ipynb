{
  "cells": [
    {
      "cell_type": "markdown",
      "metadata": {
        "id": "K-j9_2_3n40Q"
      },
      "source": [
        "■  GoogleDriveのマウントコマンド："
      ]
    },
    {
      "cell_type": "code",
      "execution_count": null,
      "metadata": {
        "colab": {
          "base_uri": "https://localhost:8080/"
        },
        "id": "SLDbM6CEn0N4",
        "outputId": "7724882b-8720-4119-8670-bdbc2055d943"
      },
      "outputs": [
        {
          "name": "stdout",
          "output_type": "stream",
          "text": [
            "Mounted at /content/drive\n"
          ]
        }
      ],
      "source": [
        "from google.colab import drive\n",
        "drive.mount('/content/drive')"
      ]
    },
    {
      "cell_type": "markdown",
      "metadata": {
        "id": "rAy7sDg_oQF2"
      },
      "source": [
        "■ モデルファイルのダウンロード："
      ]
    },
    {
      "cell_type": "code",
      "execution_count": null,
      "metadata": {
        "colab": {
          "base_uri": "https://localhost:8080/"
        },
        "id": "auicxHNCn4GK",
        "outputId": "b346da1e-21c1-44e7-9a70-0f7a3027e346"
      },
      "outputs": [
        {
          "name": "stdout",
          "output_type": "stream",
          "text": [
            "  % Total    % Received % Xferd  Average Speed   Time    Time     Time  Current\n",
            "                                 Dload  Upload   Total   Spent    Left  Speed\n",
            "100 19.1M  100 19.1M    0     0  17.3M      0  0:00:01  0:00:01 --:--:-- 17.3M\n",
            "  % Total    % Received % Xferd  Average Speed   Time    Time     Time  Current\n",
            "                                 Dload  Upload   Total   Spent    Left  Speed\n",
            "100  179M  100  179M    0     0  38.8M      0  0:00:04  0:00:04 --:--:-- 55.5M\n",
            "  % Total    % Received % Xferd  Average Speed   Time    Time     Time  Current\n",
            "                                 Dload  Upload   Total   Spent    Left  Speed\n",
            "100  179M  100  179M    0     0  34.5M      0  0:00:05  0:00:05 --:--:-- 53.3M\n"
          ]
        }
      ],
      "source": [
        "# KITERETU フォルダをマウントしたGoogleDriveフォルダ(MyDrive)内に作成する\n",
        "!mkdir -p /content/drive/MyDrive/KITERETU\n",
        "# Word2Vecの学習済みモデルをそのフォルダにダウンロードする(3ファイルで1セット:400MB弱ほど)\n",
        "!curl -o /content/drive/MyDrive/KITERETU/gw2v160.model https://storage.googleapis.com/nlp_youwht/w2v/gw2v160.model\n",
        "!curl -o /content/drive/MyDrive/KITERETU/gw2v160.model.trainables.syn1neg.npy https://storage.googleapis.com/nlp_youwht/w2v/gw2v160.model.trainables.syn1neg.npy\n",
        "!curl -o /content/drive/MyDrive/KITERETU/gw2v160.model.wv.vectors.npy https://storage.googleapis.com/nlp_youwht/w2v/gw2v160.model.wv.vectors.npy\n"
      ]
    },
    {
      "cell_type": "markdown",
      "metadata": {
        "id": "QasiDpo8o8ZF"
      },
      "source": [
        "■ コアラの反対側の単語の確認："
      ]
    },
    {
      "cell_type": "code",
      "execution_count": null,
      "metadata": {
        "colab": {
          "base_uri": "https://localhost:8080/"
        },
        "id": "0q5isd8Ro8qR",
        "outputId": "447fe55d-91c9-47ed-cfec-c3c35c2efc22"
      },
      "outputs": [
        {
          "name": "stdout",
          "output_type": "stream",
          "text": [
            "[('勘文', 0.4315894544124603), ('要諦', 0.3936310410499573), ('徳政', 0.37152087688446045), ('綱紀', 0.36845099925994873), ('権威者', 0.35816508531570435), ('請文', 0.3445848822593689), ('理非', 0.34137365221977234)]\n"
          ]
        }
      ],
      "source": [
        "from gensim.models.word2vec import Word2Vec\n",
        "\n",
        "# 学習済みモデルのロード\n",
        "model_file_path = '/content/drive/MyDrive/KITERETU/gw2v160.model'\n",
        "model = Word2Vec.load(model_file_path)\n",
        "\n",
        "# 「似ている」の場合はpositiveであったことを思い出す\n",
        "# out = model.wv.most_similar(positive=[u'群馬'], topn=7)\n",
        "\n",
        "# 「反対の意味」としてnegativeだけを入れてみる\n",
        "out = model.wv.most_similar(negative=[u\"コアラ\"], topn=7)\n",
        "\n",
        "print(out)\n"
      ]
    },
    {
      "cell_type": "markdown",
      "metadata": {
        "id": "2FkNvi7Co8y6"
      },
      "source": [
        "■ コアラの賛成の反対？反対の賛成？："
      ]
    },
    {
      "cell_type": "code",
      "execution_count": null,
      "metadata": {
        "colab": {
          "base_uri": "https://localhost:8080/"
        },
        "id": "kNcY8gmNo87q",
        "outputId": "fe1882e5-aafc-4d7d-da67-af669e83b3bd"
      },
      "outputs": [
        {
          "name": "stdout",
          "output_type": "stream",
          "text": [
            "[('カンガルー', 0.5650547742843628), ('ウォンバット', 0.5431149005889893), ('ライオン', 0.5078734159469604), ('タロンガ', 0.5016540288925171), ('ゴリラ', 0.49797317385673523)]\n",
            "[('ウォンバット', 0.5293771028518677), ('ワラビー', 0.519114077091217), ('洗い熊', 0.5170611143112183), ('背黄青', 0.48218613862991333), ('レッサーパンダ', 0.4773913025856018)]\n"
          ]
        }
      ],
      "source": [
        "out = model.wv.most_similar(positive=[u\"コアラ\", u\"反対\"], negative=[u\"賛成\"], topn=5)\n",
        "print(out)\n",
        "\n",
        "out = model.wv.most_similar(positive=[u\"コアラ\", u\"賛成\"], negative=[u\"反対\"], topn=5)\n",
        "print(out)"
      ]
    },
    {
      "cell_type": "markdown",
      "metadata": {
        "id": "Yp01v9Ypo9Dg"
      },
      "source": [
        "■ 対義語リストのダウンロード：\n"
      ]
    },
    {
      "cell_type": "code",
      "execution_count": null,
      "metadata": {
        "colab": {
          "base_uri": "https://localhost:8080/"
        },
        "id": "UU5itcfFo9LG",
        "outputId": "49afa787-d3d1-474e-ae30-3a565efbb0b3"
      },
      "outputs": [
        {
          "name": "stdout",
          "output_type": "stream",
          "text": [
            "  % Total    % Received % Xferd  Average Speed   Time    Time     Time  Current\n",
            "                                 Dload  Upload   Total   Spent    Left  Speed\n",
            "100  8554  100  8554    0     0  51842      0 --:--:-- --:--:-- --:--:-- 51842\n",
            "アウト,セーフ\n",
            "アクセル,ブレーキ\n",
            "おしゃべり,無口\n",
            "セーフ,アウト\n",
            "ふもと,頂上\n",
            "ブレーキ,アクセル\n",
            "悪,善\n",
            "悪い,良い\n",
            "悪意,善意\n",
            "悪質,良質\n"
          ]
        }
      ],
      "source": [
        "# 対義語リストファイルのダウンロード：\n",
        "!curl -o /content/drive/MyDrive/KITERETU/taigigolist.csv https://storage.googleapis.com/nlp_youwht/taigigo/taigigolist.csv\n",
        "\n",
        "# 冒頭部分を眺めてみる\n",
        "!head \"/content/drive/MyDrive/KITERETU/taigigolist.csv\"\n"
      ]
    },
    {
      "cell_type": "markdown",
      "metadata": {
        "id": "hEajtzI8o9TP"
      },
      "source": [
        "■ 対義語一覧ファイルの読み込み："
      ]
    },
    {
      "cell_type": "code",
      "execution_count": null,
      "metadata": {
        "colab": {
          "base_uri": "https://localhost:8080/"
        },
        "id": "o_TCBvBqo9a0",
        "outputId": "a8f7f60a-cc45-43db-8675-5922e2d4f5f9"
      },
      "outputs": [
        {
          "name": "stdout",
          "output_type": "stream",
          "text": [
            "568\n",
            "[['アウト', 'セーフ'], ['アクセル', 'ブレーキ'], ['おしゃべり', '無口'], ['セーフ', 'アウト'], ['ふもと', '頂上']]\n"
          ]
        }
      ],
      "source": [
        "import csv\n",
        "\n",
        "# 対義語一覧ファイルの読み込み\n",
        "csv_file = open(\"/content/drive/MyDrive/KITERETU/taigigolist.csv\", \"r\", encoding=\"utf8\")\n",
        "\n",
        "# CSVファイルをリスト形式で読み出す\n",
        "csv_reader = csv.reader(csv_file, delimiter=\",\")\n",
        "# csv_readerで１行ずつ読みこまれたデータをリスト形式にする処理\n",
        "TAIGIGO_LIST = [ e for e in csv_reader ]\n",
        "# 読み終わったCSVファイルを閉じる\n",
        "csv_file.close()\n",
        "\n",
        "# 読み込んだリストの長さを表示\n",
        "print(len(TAIGIGO_LIST))\n",
        "# 最初の数例を表示\n",
        "print(TAIGIGO_LIST[0:5])\n"
      ]
    },
    {
      "cell_type": "markdown",
      "metadata": {
        "id": "eTrAiFr5pjHv"
      },
      "source": [
        "■ コアラとの類似度を求める例：\n"
      ]
    },
    {
      "cell_type": "code",
      "execution_count": null,
      "metadata": {
        "colab": {
          "base_uri": "https://localhost:8080/"
        },
        "id": "xFRolkkPpe20",
        "outputId": "fcb853e0-885b-4e07-a73b-7050bd997896"
      },
      "outputs": [
        {
          "name": "stdout",
          "output_type": "stream",
          "text": [
            "-0.11382347\n",
            "0.044115696\n",
            "1.0\n"
          ]
        }
      ],
      "source": [
        "print(model.wv.similarity(\"コアラ\", \"賛成\"))\n",
        "print(model.wv.similarity(\"コアラ\", \"セーフ\"))\n",
        "print(model.wv.similarity(\"コアラ\", \"コアラ\"))\n"
      ]
    },
    {
      "cell_type": "markdown",
      "metadata": {
        "id": "CQHDmWJvph_-"
      },
      "source": [
        "■ 注意したい例＝存在しない単語での演算："
      ]
    },
    {
      "cell_type": "code",
      "execution_count": null,
      "metadata": {
        "colab": {
          "base_uri": "https://localhost:8080/",
          "height": 338
        },
        "id": "d-VtOOSapmq1",
        "outputId": "36fbf929-1fb5-49f8-ddad-176bd7efa63a"
      },
      "outputs": [
        {
          "ename": "KeyError",
          "evalue": "ignored",
          "output_type": "error",
          "traceback": [
            "\u001b[0;31m---------------------------------------------------------------------------\u001b[0m",
            "\u001b[0;31mKeyError\u001b[0m                                  Traceback (most recent call last)",
            "\u001b[0;32m<ipython-input-8-cfe0cc5793e8>\u001b[0m in \u001b[0;36m<module>\u001b[0;34m()\u001b[0m\n\u001b[0;32m----> 1\u001b[0;31m \u001b[0mmodel\u001b[0m\u001b[0;34m.\u001b[0m\u001b[0mwv\u001b[0m\u001b[0;34m.\u001b[0m\u001b[0msimilarity\u001b[0m\u001b[0;34m(\u001b[0m\u001b[0;34m\"コアラ\"\u001b[0m\u001b[0;34m,\u001b[0m \u001b[0;34m\"ぱんだ\"\u001b[0m\u001b[0;34m)\u001b[0m\u001b[0;34m\u001b[0m\u001b[0;34m\u001b[0m\u001b[0m\n\u001b[0m",
            "\u001b[0;32m/usr/local/lib/python3.7/dist-packages/gensim/models/keyedvectors.py\u001b[0m in \u001b[0;36msimilarity\u001b[0;34m(self, w1, w2)\u001b[0m\n\u001b[1;32m    990\u001b[0m \u001b[0;34m\u001b[0m\u001b[0m\n\u001b[1;32m    991\u001b[0m         \"\"\"\n\u001b[0;32m--> 992\u001b[0;31m         \u001b[0;32mreturn\u001b[0m \u001b[0mdot\u001b[0m\u001b[0;34m(\u001b[0m\u001b[0mmatutils\u001b[0m\u001b[0;34m.\u001b[0m\u001b[0munitvec\u001b[0m\u001b[0;34m(\u001b[0m\u001b[0mself\u001b[0m\u001b[0;34m[\u001b[0m\u001b[0mw1\u001b[0m\u001b[0;34m]\u001b[0m\u001b[0;34m)\u001b[0m\u001b[0;34m,\u001b[0m \u001b[0mmatutils\u001b[0m\u001b[0;34m.\u001b[0m\u001b[0munitvec\u001b[0m\u001b[0;34m(\u001b[0m\u001b[0mself\u001b[0m\u001b[0;34m[\u001b[0m\u001b[0mw2\u001b[0m\u001b[0;34m]\u001b[0m\u001b[0;34m)\u001b[0m\u001b[0;34m)\u001b[0m\u001b[0;34m\u001b[0m\u001b[0;34m\u001b[0m\u001b[0m\n\u001b[0m\u001b[1;32m    993\u001b[0m \u001b[0;34m\u001b[0m\u001b[0m\n\u001b[1;32m    994\u001b[0m     \u001b[0;32mdef\u001b[0m \u001b[0mn_similarity\u001b[0m\u001b[0;34m(\u001b[0m\u001b[0mself\u001b[0m\u001b[0;34m,\u001b[0m \u001b[0mws1\u001b[0m\u001b[0;34m,\u001b[0m \u001b[0mws2\u001b[0m\u001b[0;34m)\u001b[0m\u001b[0;34m:\u001b[0m\u001b[0;34m\u001b[0m\u001b[0;34m\u001b[0m\u001b[0m\n",
            "\u001b[0;32m/usr/local/lib/python3.7/dist-packages/gensim/models/keyedvectors.py\u001b[0m in \u001b[0;36m__getitem__\u001b[0;34m(self, entities)\u001b[0m\n\u001b[1;32m    335\u001b[0m         \u001b[0;32mif\u001b[0m \u001b[0misinstance\u001b[0m\u001b[0;34m(\u001b[0m\u001b[0mentities\u001b[0m\u001b[0;34m,\u001b[0m \u001b[0mstring_types\u001b[0m\u001b[0;34m)\u001b[0m\u001b[0;34m:\u001b[0m\u001b[0;34m\u001b[0m\u001b[0;34m\u001b[0m\u001b[0m\n\u001b[1;32m    336\u001b[0m             \u001b[0;31m# allow calls like trained_model['office'], as a shorthand for trained_model[['office']]\u001b[0m\u001b[0;34m\u001b[0m\u001b[0;34m\u001b[0m\u001b[0;34m\u001b[0m\u001b[0m\n\u001b[0;32m--> 337\u001b[0;31m             \u001b[0;32mreturn\u001b[0m \u001b[0mself\u001b[0m\u001b[0;34m.\u001b[0m\u001b[0mget_vector\u001b[0m\u001b[0;34m(\u001b[0m\u001b[0mentities\u001b[0m\u001b[0;34m)\u001b[0m\u001b[0;34m\u001b[0m\u001b[0;34m\u001b[0m\u001b[0m\n\u001b[0m\u001b[1;32m    338\u001b[0m \u001b[0;34m\u001b[0m\u001b[0m\n\u001b[1;32m    339\u001b[0m         \u001b[0;32mreturn\u001b[0m \u001b[0mvstack\u001b[0m\u001b[0;34m(\u001b[0m\u001b[0;34m[\u001b[0m\u001b[0mself\u001b[0m\u001b[0;34m.\u001b[0m\u001b[0mget_vector\u001b[0m\u001b[0;34m(\u001b[0m\u001b[0mentity\u001b[0m\u001b[0;34m)\u001b[0m \u001b[0;32mfor\u001b[0m \u001b[0mentity\u001b[0m \u001b[0;32min\u001b[0m \u001b[0mentities\u001b[0m\u001b[0;34m]\u001b[0m\u001b[0;34m)\u001b[0m\u001b[0;34m\u001b[0m\u001b[0;34m\u001b[0m\u001b[0m\n",
            "\u001b[0;32m/usr/local/lib/python3.7/dist-packages/gensim/models/keyedvectors.py\u001b[0m in \u001b[0;36mget_vector\u001b[0;34m(self, word)\u001b[0m\n\u001b[1;32m    453\u001b[0m \u001b[0;34m\u001b[0m\u001b[0m\n\u001b[1;32m    454\u001b[0m     \u001b[0;32mdef\u001b[0m \u001b[0mget_vector\u001b[0m\u001b[0;34m(\u001b[0m\u001b[0mself\u001b[0m\u001b[0;34m,\u001b[0m \u001b[0mword\u001b[0m\u001b[0;34m)\u001b[0m\u001b[0;34m:\u001b[0m\u001b[0;34m\u001b[0m\u001b[0;34m\u001b[0m\u001b[0m\n\u001b[0;32m--> 455\u001b[0;31m         \u001b[0;32mreturn\u001b[0m \u001b[0mself\u001b[0m\u001b[0;34m.\u001b[0m\u001b[0mword_vec\u001b[0m\u001b[0;34m(\u001b[0m\u001b[0mword\u001b[0m\u001b[0;34m)\u001b[0m\u001b[0;34m\u001b[0m\u001b[0;34m\u001b[0m\u001b[0m\n\u001b[0m\u001b[1;32m    456\u001b[0m \u001b[0;34m\u001b[0m\u001b[0m\n\u001b[1;32m    457\u001b[0m     \u001b[0;32mdef\u001b[0m \u001b[0mwords_closer_than\u001b[0m\u001b[0;34m(\u001b[0m\u001b[0mself\u001b[0m\u001b[0;34m,\u001b[0m \u001b[0mw1\u001b[0m\u001b[0;34m,\u001b[0m \u001b[0mw2\u001b[0m\u001b[0;34m)\u001b[0m\u001b[0;34m:\u001b[0m\u001b[0;34m\u001b[0m\u001b[0;34m\u001b[0m\u001b[0m\n",
            "\u001b[0;32m/usr/local/lib/python3.7/dist-packages/gensim/models/keyedvectors.py\u001b[0m in \u001b[0;36mword_vec\u001b[0;34m(self, word, use_norm)\u001b[0m\n\u001b[1;32m    450\u001b[0m             \u001b[0;32mreturn\u001b[0m \u001b[0mresult\u001b[0m\u001b[0;34m\u001b[0m\u001b[0;34m\u001b[0m\u001b[0m\n\u001b[1;32m    451\u001b[0m         \u001b[0;32melse\u001b[0m\u001b[0;34m:\u001b[0m\u001b[0;34m\u001b[0m\u001b[0;34m\u001b[0m\u001b[0m\n\u001b[0;32m--> 452\u001b[0;31m             \u001b[0;32mraise\u001b[0m \u001b[0mKeyError\u001b[0m\u001b[0;34m(\u001b[0m\u001b[0;34m\"word '%s' not in vocabulary\"\u001b[0m \u001b[0;34m%\u001b[0m \u001b[0mword\u001b[0m\u001b[0;34m)\u001b[0m\u001b[0;34m\u001b[0m\u001b[0;34m\u001b[0m\u001b[0m\n\u001b[0m\u001b[1;32m    453\u001b[0m \u001b[0;34m\u001b[0m\u001b[0m\n\u001b[1;32m    454\u001b[0m     \u001b[0;32mdef\u001b[0m \u001b[0mget_vector\u001b[0m\u001b[0;34m(\u001b[0m\u001b[0mself\u001b[0m\u001b[0;34m,\u001b[0m \u001b[0mword\u001b[0m\u001b[0;34m)\u001b[0m\u001b[0;34m:\u001b[0m\u001b[0;34m\u001b[0m\u001b[0;34m\u001b[0m\u001b[0m\n",
            "\u001b[0;31mKeyError\u001b[0m: \"word 'ぱんだ' not in vocabulary\""
          ]
        }
      ],
      "source": [
        "model.wv.similarity(\"コアラ\", \"ぱんだ\")"
      ]
    },
    {
      "cell_type": "markdown",
      "metadata": {
        "id": "XstqC0ngpm6D"
      },
      "source": [
        "■ 「ぱんだ」と「パンダ」のいるいないを確認する："
      ]
    },
    {
      "cell_type": "code",
      "execution_count": null,
      "metadata": {
        "colab": {
          "base_uri": "https://localhost:8080/"
        },
        "id": "Ch4s-9UBpnBf",
        "outputId": "7bc82865-5194-41dd-ab31-7bd46b71e614"
      },
      "outputs": [
        {
          "name": "stdout",
          "output_type": "stream",
          "text": [
            "NO！「ぱんだ」は居ません\n",
            "YES！「パンダ」は居ますよ\n"
          ]
        }
      ],
      "source": [
        "if \"ぱんだ\" in model.wv.vocab.keys():\n",
        "  print(\"YES！「ぱんだ」はいますよ\")\n",
        "else:\n",
        "  print(\"NO！「ぱんだ」はいません\")\n",
        "\n",
        "if \"パンダ\" in model.wv.vocab.keys():\n",
        "  print(\"YES！「パンダ」はいますよ\")\n",
        "else:\n",
        "  print(\"NO！「パンダ」はいません\")\n"
      ]
    },
    {
      "cell_type": "markdown",
      "metadata": {
        "id": "BZ6lBiVZpnI8"
      },
      "source": [
        "■ 対義語リストと、対象の単語との類似度を出す関数："
      ]
    },
    {
      "cell_type": "code",
      "execution_count": null,
      "metadata": {
        "colab": {
          "base_uri": "https://localhost:8080/"
        },
        "id": "eI232uJbpnQa",
        "outputId": "29045c7d-8525-413f-fbe6-3bceef05d803"
      },
      "outputs": [
        {
          "name": "stdout",
          "output_type": "stream",
          "text": [
            "[['アウト', 'セーフ', 0.090600915, 0.044115696], ['アクセル', 'ブレーキ', -0.033691376, -0.11518881], ['セーフ', 'アウト', 0.044115696, 0.090600915], ['ブレーキ', 'アクセル', -0.11518881, -0.033691376], ['悪', '善', 0.03668707, -0.086812906]]\n"
          ]
        }
      ],
      "source": [
        "def add_similarity_to_taigigo_list(target_word, taigigo_list):\n",
        "  result_list = []\n",
        "  # taigigo_list の各要素は、[\"賛成\",\"反対\"]などの形式であり、\n",
        "  # リストの各要素がリストである二重リスト\n",
        "  for taigigo_pair in taigigo_list:\n",
        "    try:\n",
        "      # 「賛成」と「コアラ」、「反対」と「コアラ」などそれぞれの類似度を得る\n",
        "      sim0 = model.wv.similarity(taigigo_pair[0], target_word)\n",
        "      sim1 = model.wv.similarity(taigigo_pair[1], target_word)\n",
        "      # 結果格納用のリストに、元の各単語、各類似度、を格納する\n",
        "      result_list.append( [taigigo_pair[0], taigigo_pair[1], sim0, sim1] )\n",
        "    except KeyError:\n",
        "      # ある対義語ペアの、どちらかの単語がKeyErrorの場合、何もしないでスキップ\n",
        "      # または、元の入力単語がKeyErrorの場合も、何もしないでスキップ\n",
        "      pass\n",
        "  # 生成された二重リストを返却する。各要素は以下のような形式\n",
        "  # [\"賛成\", \"反対\", \"賛成とコアラの類似度\", \"反対とコアラの類似度\"]\n",
        "  return result_list\n",
        "\n",
        "\n",
        "# コアラと、対義語リストの全単語の類似度を求める。\n",
        "KOARA_TAIGIGO_SIM_LIST = add_similarity_to_taigigo_list(u\"コアラ\",TAIGIGO_LIST)\n",
        "# 最初の５つを表示する\n",
        "print( KOARA_TAIGIGO_SIM_LIST[0:5])\n"
      ]
    },
    {
      "cell_type": "markdown",
      "metadata": {
        "id": "wiLpIgHlpnXG"
      },
      "source": [
        "■ 結局誰が一番「コアラ」に似ているのか？並び替え："
      ]
    },
    {
      "cell_type": "code",
      "execution_count": null,
      "metadata": {
        "colab": {
          "base_uri": "https://localhost:8080/"
        },
        "id": "BhX5yLEnp4rh",
        "outputId": "18aa004f-d27e-4b23-a45c-1c150a5b1ea1"
      },
      "outputs": [
        {
          "name": "stdout",
          "output_type": "stream",
          "text": [
            "[['満腹', '空腹', 0.2346971, 0.19706017], ['本物', '偽物', 0.22309045, 0.1399938], ['男性', '女性', 0.2089082, 0.19897342], ['販売', '購入', 0.20580953, 0.1399232], ['売る', '買う', 0.20547116, 0.057075344]]\n"
          ]
        }
      ],
      "source": [
        "KOARA_TAIGIGO_SIM_LIST.sort(key = lambda x : -x[2])\n",
        "\n",
        "# 最初の５つを表示する\n",
        "print( KOARA_TAIGIGO_SIM_LIST[0:5])\n"
      ]
    },
    {
      "cell_type": "markdown",
      "metadata": {
        "id": "LaZQjPGOp46F"
      },
      "source": [
        "■ コアラと似ている「満腹」との対義語演算："
      ]
    },
    {
      "cell_type": "code",
      "execution_count": null,
      "metadata": {
        "colab": {
          "base_uri": "https://localhost:8080/"
        },
        "id": "Oqcx2zRRp5BW",
        "outputId": "f7dac408-49dc-4ed4-e98f-d6402b4e98af"
      },
      "outputs": [
        {
          "name": "stdout",
          "output_type": "stream",
          "text": [
            "[('ミッフィー', 0.5394263863563538), ('ウォンバット', 0.5337938666343689), ('パンダ', 0.5278213620185852), ('ウーパールーパー', 0.5196086168289185), ('白熊', 0.4782952070236206)]\n",
            "[('プレーリードッグ', 0.5548356771469116), ('縞馬', 0.5465219616889954), ('アメリカグマ', 0.5432994961738586), ('カンガルー', 0.5380684733390808), ('園側', 0.5326305031776428)]\n"
          ]
        }
      ],
      "source": [
        "out = model.wv.most_similar(positive=[u\"コアラ\", u\"満腹\"], negative=[u\"空腹\"], topn=5)\n",
        "print(out)\n",
        "\n",
        "out = model.wv.most_similar(positive=[u\"コアラ\", u\"空腹\"], negative=[u\"満腹\"], topn=5)\n",
        "print(out)"
      ]
    },
    {
      "cell_type": "markdown",
      "metadata": {
        "id": "YsgbgfAQp5Iq"
      },
      "source": [
        "■ 単語を対義語にする関数："
      ]
    },
    {
      "cell_type": "code",
      "execution_count": null,
      "metadata": {
        "colab": {
          "base_uri": "https://localhost:8080/"
        },
        "id": "dFXRaPR6p5QA",
        "outputId": "09d71f69-3727-40bf-abfe-c6491ed43844"
      },
      "outputs": [
        {
          "data": {
            "text/plain": [
              "[('ミッフィー', 0.5394263863563538),\n",
              " ('ウォンバット', 0.5337938666343689),\n",
              " ('パンダ', 0.5278213620185852),\n",
              " ('ウーパールーパー', 0.5196086168289185),\n",
              " ('白熊', 0.4782952070236206),\n",
              " ('プレーリードッグ', 0.5548356771469116),\n",
              " ('縞馬', 0.5465219616889954),\n",
              " ('アメリカグマ', 0.5432994961738586),\n",
              " ('カンガルー', 0.5380684733390808),\n",
              " ('園側', 0.5326305031776428)]"
            ]
          },
          "execution_count": 13,
          "metadata": {
            "tags": []
          },
          "output_type": "execute_result"
        }
      ],
      "source": [
        "def make_taigigo_kouho_list(target_word, taigigo_list):\n",
        "  taigigo_sim_list = add_similarity_to_taigigo_list(target_word, taigigo_list)\n",
        "\n",
        "  # ３番目の要素をキーにして、元のリストの順番を「降順」に並び替える\n",
        "  taigigo_sim_list.sort(key = lambda x : -x[2])\n",
        "\n",
        "  # 結果出力用のリストを初期化\n",
        "  result_list = []\n",
        "\n",
        "  # 並び替えた一位のペア（[0]）の、対義語ペアの各単語を使用する\n",
        "  word0 = taigigo_sim_list[0][0]\n",
        "  word1 = taigigo_sim_list[0][1]\n",
        "  # 対義語の候補リストを生成し、出力結果に書き加える\n",
        "  result_list.extend(model.wv.most_similar(positive=[target_word, word0], negative=[word1], topn=5))\n",
        "  result_list.extend(model.wv.most_similar(positive=[target_word, word1], negative=[word0], topn=5))\n",
        "\n",
        "  return result_list\n",
        "\n",
        "make_taigigo_kouho_list(u\"コアラ\", TAIGIGO_LIST)\n"
      ]
    },
    {
      "cell_type": "markdown",
      "metadata": {
        "id": "gXjafEb8p5W9"
      },
      "source": [
        "■ パンダの対義語をランダムに出力："
      ]
    },
    {
      "cell_type": "code",
      "execution_count": null,
      "metadata": {
        "colab": {
          "base_uri": "https://localhost:8080/"
        },
        "id": "QCrw44Zsp5ex",
        "outputId": "3ea5468e-788c-4e86-917e-51989dde34c2"
      },
      "outputs": [
        {
          "name": "stdout",
          "output_type": "stream",
          "text": [
            "猫\n",
            "レッサーパンダ\n",
            "にゃん\n",
            "猫\n",
            "コアラ\n"
          ]
        }
      ],
      "source": [
        "import random\n",
        "def word2taigigo(input_word):\n",
        "  # Word2Vecのmodelにその単語が含まれているか確認して含まれていれば処理を行う\n",
        "  if input_word in model.wv.vocab.keys():\n",
        "    taigigo_kouho_list = make_taigigo_kouho_list(input_word, TAIGIGO_LIST)\n",
        "    if len(taigigo_kouho_list) > 0 :\n",
        "      # 対義語の候補が複数出ている場合、その中からランダムで選択。\n",
        "      taigigo_kouho = random.choice(taigigo_kouho_list)\n",
        "      # taigigo_kouhoは、('プレーリードッグ', 0.5548356771469116) の形なので\n",
        "      # その最初の要素、[0]に単語自体が含まれており、それを返す\n",
        "      return taigigo_kouho[0]\n",
        "  # 単語が含まれていなかったり、生成できない場合は元の単語を返す\n",
        "  return input_word\n",
        "\n",
        "# 乱数によって結果が変わるため、数回繰り返してみる\n",
        "for n in range(5):\n",
        "  print(word2taigigo(\"パンダ\"))\n"
      ]
    },
    {
      "cell_type": "markdown",
      "metadata": {
        "id": "3rWDhWrjp5l5"
      },
      "source": [
        "■ Janomeのインストール："
      ]
    },
    {
      "cell_type": "code",
      "execution_count": null,
      "metadata": {
        "colab": {
          "base_uri": "https://localhost:8080/"
        },
        "id": "7lb5dvAAp5tk",
        "outputId": "6a25e2a8-722c-473b-e47e-9ee4696be105"
      },
      "outputs": [
        {
          "name": "stdout",
          "output_type": "stream",
          "text": [
            "Collecting janome\n",
            "  Downloading Janome-0.4.1-py2.py3-none-any.whl (19.7 MB)\n",
            "\u001b[K     |████████████████████████████████| 19.7 MB 40 kB/s \n",
            "\u001b[?25hInstalling collected packages: janome\n",
            "Successfully installed janome-0.4.1\n"
          ]
        }
      ],
      "source": [
        "!pip install janome"
      ]
    },
    {
      "cell_type": "markdown",
      "metadata": {
        "id": "AdN3tmeIp50M"
      },
      "source": [
        "■ 文章対義語化関数："
      ]
    },
    {
      "cell_type": "code",
      "execution_count": null,
      "metadata": {
        "colab": {
          "base_uri": "https://localhost:8080/"
        },
        "id": "WKzXZLCDp57k",
        "outputId": "c2e752db-8a67-4cfc-9143-f566c819f9eb"
      },
      "outputs": [
        {
          "name": "stdout",
          "output_type": "stream",
          "text": [
            "赤白の他者\n",
            "赤色の人\n",
            "青色の他者\n",
            "青の妄想\n",
            "青色の人\n"
          ]
        }
      ],
      "source": [
        "# Janomeのロード\n",
        "from janome.tokenizer import Tokenizer\n",
        "\n",
        "# Tokenizerインスタンスの生成\n",
        "tokenizer = Tokenizer()\n",
        "\n",
        "# 日本語を対義語にする関数\n",
        "def taigi_str_henkan(input_str):\n",
        "  # 形態素解析の実施\n",
        "  tokens = tokenizer.tokenize(input_str)\n",
        "\n",
        "  # 各tokenを、対義語変換関数にかけて、その出力を順番につなげる\n",
        "  result_str = \"\"\n",
        "  for token in tokens:\n",
        "    # 名詞か形容詞の場合のみ、変換処理を行うことにする\n",
        "    if token.part_of_speech.split(',')[0] in ['名詞', '形容詞']:\n",
        "      # 入力された単語を対義語に変換\n",
        "      taigigo = word2taigigo(token.surface)\n",
        "      result_str += taigigo\n",
        "    else:\n",
        "      # 変換対象ではない品詞の場合、そのままつなげる\n",
        "      result_str += token.surface\n",
        "\n",
        "  return result_str\n",
        "\n",
        "# ランダム要素が大きいので、５回出力させてみる\n",
        "\n",
        "for n in range(5):\n",
        "  print(taigi_str_henkan(\"赤の他人\"))\n",
        "\n"
      ]
    },
    {
      "cell_type": "code",
      "execution_count": null,
      "metadata": {
        "id": "HsfZSUegrXgo"
      },
      "outputs": [],
      "source": []
    }
  ],
  "metadata": {
    "colab": {
      "include_colab_link": true,
      "provenance": []
    },
    "kernelspec": {
      "display_name": "Python 3",
      "name": "python3"
    }
  },
  "nbformat": 4,
  "nbformat_minor": 0
}
