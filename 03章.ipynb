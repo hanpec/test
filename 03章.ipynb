{
  "nbformat": 4,
  "nbformat_minor": 0,
  "metadata": {
    "colab": {
      "provenance": [],
      "include_colab_link": true
    },
    "kernelspec": {
      "name": "python3",
      "display_name": "Python 3"
    }
  },
  "cells": [
    {
      "cell_type": "markdown",
      "metadata": {
        "id": "view-in-github",
        "colab_type": "text"
      },
      "source": [
        "<a href=\"https://colab.research.google.com/github/hanpec/test/blob/master/03%E7%AB%A0.ipynb\" target=\"_parent\"><img src=\"https://colab.research.google.com/assets/colab-badge.svg\" alt=\"Open In Colab\"/></a>"
      ]
    },
    {
      "cell_type": "code",
      "metadata": {
        "id": "2eMEyyv5qNAl"
      },
      "source": [],
      "execution_count": null,
      "outputs": []
    },
    {
      "cell_type": "markdown",
      "metadata": {
        "id": "ogAbJ_WWqUGp"
      },
      "source": [
        "ここに掲載されているコードは、  \n",
        "『コピペで簡単実行！キテレツおもしろ自然言語処理～PythonとColaboratoryで身につく基礎の基礎』書籍の付録です。    \n",
        "本ファイルの公開用URLや、本ファイル内のコードを、みだりに他の人へ共有しないでください。  \n",
        "\n",
        "本ファイルは、書籍に記載のコードのコピペの手間を省くために作られました。  \n",
        "本ファイルの公開用URLにアクセスすると、  \n",
        "お手元のGoogleアカウントに本ファイルのコピーが作成されます。  \n",
        "（つまり、コレをご覧になっているということは、コピーをご覧になっています）    \n",
        "そのコピーは、あなただけのファイルとして生成されるため、    \n",
        "書籍をお買い求め済みの方は、自由に変更したり実行したり保存したりして問題ありません。   \n",
        "\n",
        "初期状態では、ご参考までに筆者が実行した出力結果を残してあります。  \n",
        "ご自身で実行する際には、「編集」⇒「出力を全て消去」により、  \n",
        "出力結果を消去してから実行なさると良いでしょう。  \n",
        "\n",
        "※注：Googleの公式が作成したファイルではないため、実行時に  \n",
        "「警告: このノートブックは Google が作成したものではありません。」  \n",
        "という警告が出ます。  \n",
        "気になる方は、ご自身の環境に都度コードをコピーして実行しても良いでしょう。\n",
        "\n",
        "\n"
      ]
    },
    {
      "cell_type": "code",
      "metadata": {
        "id": "tpMqaGPeqVzR"
      },
      "source": [],
      "execution_count": null,
      "outputs": []
    },
    {
      "cell_type": "markdown",
      "metadata": {
        "id": "yp2HEwkNqXFS"
      },
      "source": [
        "■ 日本語評価極性辞書のダウンロード："
      ]
    },
    {
      "cell_type": "code",
      "metadata": {
        "colab": {
          "base_uri": "https://localhost:8080/"
        },
        "id": "Bl7uv2U7qsdx",
        "outputId": "f1746467-e734-4114-b9ba-b55b82dde232"
      },
      "source": [
        "! curl http://www.cl.ecei.tohoku.ac.jp/resources/sent_lex/pn.csv.m3.120408.trim > pn.csv"
      ],
      "execution_count": null,
      "outputs": [
        {
          "output_type": "stream",
          "name": "stdout",
          "text": [
            "  % Total    % Received % Xferd  Average Speed   Time    Time     Time  Current\n",
            "                                 Dload  Upload   Total   Spent    Left  Speed\n",
            "100  676k  100  676k    0     0  1230k      0 --:--:-- --:--:-- --:--:-- 1228k\n"
          ]
        }
      ]
    },
    {
      "cell_type": "markdown",
      "metadata": {
        "id": "Sm1dlwrvq0MR"
      },
      "source": [
        "■ ダウンロードしたネガポジ辞書データの読み込み："
      ]
    },
    {
      "cell_type": "code",
      "metadata": {
        "colab": {
          "base_uri": "https://localhost:8080/"
        },
        "id": "zn50Fub0q2RZ",
        "outputId": "cbceaa36-7125-409f-8ac5-19bfe75c23ce"
      },
      "source": [
        "import csv\n",
        "np_dic = {}\n",
        "# utf-8の文字コードを指定してファイルを開く\n",
        "fp = open(\"pn.csv\", \"rt\", encoding=\"utf-8\")\n",
        "# タブ区切り形式でCSVデータを読む\n",
        "reader = csv.reader(fp, delimiter='\\t')\n",
        "# 各行ごとに処理を行う\n",
        "for i, row in enumerate(reader):\n",
        "  # 行ごとのデータは以下の形式であり、\n",
        "  # 愛情\tp\t〜がある・高まる（存在・性質）\n",
        "  # 冒頭の見出し語を name に、\n",
        "  # 次の p or n or e などを result に格納\n",
        "  name = row[0]\n",
        "  result = row[1]\n",
        "  np_dic[name] = result\n",
        "  if i % 1000 == 0: print(i)\n",
        "print(\"ok\")"
      ],
      "execution_count": null,
      "outputs": [
        {
          "output_type": "stream",
          "text": [
            "0\n",
            "1000\n",
            "2000\n",
            "3000\n",
            "4000\n",
            "5000\n",
            "6000\n",
            "7000\n",
            "8000\n",
            "9000\n",
            "10000\n",
            "11000\n",
            "12000\n",
            "13000\n",
            "ok\n"
          ],
          "name": "stdout"
        }
      ]
    },
    {
      "cell_type": "markdown",
      "metadata": {
        "id": "NmYpR-17q8sw"
      },
      "source": [
        "■ 読み込んだ辞書データの確認："
      ]
    },
    {
      "cell_type": "code",
      "metadata": {
        "colab": {
          "base_uri": "https://localhost:8080/"
        },
        "id": "xRWso19Mq4fW",
        "outputId": "8b30ec8f-21c2-4d67-9412-01775c346505"
      },
      "source": [
        "print(np_dic[\"激怒\"])\n",
        "print(np_dic[\"苦情\"])\n",
        "print(np_dic[\"糞\"])\n",
        "print(np_dic[\"喜び\"])\n",
        "print(np_dic[\"勝利\"])\n",
        "print(np_dic[\"上品\"])\n",
        "print(np_dic[\"商品\"])\n",
        "print(np_dic[\"奔走\"])\n",
        "print(np_dic[\"時間\"])\n"
      ],
      "execution_count": null,
      "outputs": [
        {
          "output_type": "stream",
          "text": [
            "n\n",
            "n\n",
            "n\n",
            "p\n",
            "p\n",
            "p\n",
            "e\n",
            "e\n",
            "e\n"
          ],
          "name": "stdout"
        }
      ]
    },
    {
      "cell_type": "markdown",
      "metadata": {
        "id": "ZEVHveTDrB6w"
      },
      "source": [
        "■ Janomeのインストール："
      ]
    },
    {
      "cell_type": "code",
      "metadata": {
        "colab": {
          "base_uri": "https://localhost:8080/"
        },
        "id": "dHCDWT_uq_Fw",
        "outputId": "5230d207-c9d2-469b-c130-3e41278b07e9"
      },
      "source": [
        "!pip install janome"
      ],
      "execution_count": null,
      "outputs": [
        {
          "output_type": "stream",
          "text": [
            "Collecting janome\n",
            "  Downloading Janome-0.4.1-py2.py3-none-any.whl (19.7 MB)\n",
            "\u001b[K     |████████████████████████████████| 19.7 MB 1.3 MB/s \n",
            "\u001b[?25hInstalling collected packages: janome\n",
            "Successfully installed janome-0.4.1\n"
          ],
          "name": "stdout"
        }
      ]
    },
    {
      "cell_type": "markdown",
      "metadata": {
        "id": "AVHCKkzQrExZ"
      },
      "source": [
        "■ 文章に対してネガポジ分析を行うコード：\n"
      ]
    },
    {
      "cell_type": "code",
      "metadata": {
        "colab": {
          "base_uri": "https://localhost:8080/"
        },
        "id": "amG_FlfUrDr2",
        "outputId": "c9c6c3c2-f420-41cf-e98d-b2f26453ab07"
      },
      "source": [
        "# Janomeのロード\n",
        "from janome.tokenizer import Tokenizer\n",
        "\n",
        "# Tokenizerインスタンスの生成\n",
        "tokenizer = Tokenizer()\n",
        "\n",
        "# 入力した文字列に対して、\n",
        "# ポジティブ単語数、ネガティブ単語数、全単語数、の3つを返す\n",
        "def np_rate(input_str):\n",
        "  pos_count  = 0\n",
        "  neg_count  = 0\n",
        "  word_count = 0\n",
        "  tokens = tokenizer.tokenize(input_str)\n",
        "  for token in tokens:\n",
        "    base_form = token.base_form # 原形/基本形\n",
        "    # ネガポジ辞書に存在するか確認して対応する方を1増やす\n",
        "    if base_form in np_dic:\n",
        "      # 単語を辞書のキーとして、そのバリューが p か n か確認する\n",
        "      if np_dic[base_form] == \"p\" :\n",
        "        pos_count += 1\n",
        "        # どんな言葉がポジ判定されてるか確認用（あとでコメントアウト）\n",
        "        print(\"POS:\" + base_form)\n",
        "      if np_dic[base_form] == \"n\" :\n",
        "        neg_count += 1\n",
        "        # どんな言葉がネガ判定されてるか確認用（あとでコメントアウト）\n",
        "        print(\"NEG:\" + base_form)\n",
        "    # 存在しようがしまいが、単語数を1増やす\n",
        "    word_count += 1\n",
        "  return pos_count, neg_count, word_count\n",
        "\n",
        "\n",
        "print(np_rate(\"メロスは激怒した。必ず、かの邪智暴虐の王を除かなければならぬと決意した。\"))\n"
      ],
      "execution_count": null,
      "outputs": [
        {
          "output_type": "stream",
          "text": [
            "NEG:激怒\n",
            "NEG:暴虐\n",
            "(0, 2, 24)\n"
          ],
          "name": "stdout"
        }
      ]
    },
    {
      "cell_type": "markdown",
      "metadata": {
        "id": "o8WAkAASrdHK"
      },
      "source": [
        "【※ ここで付録を参照し、記載のコードを実行してください。】  \n",
        "の、付録のコード  \n",
        "■ 青空文庫からのダウンロード＆加工用共通コード：  "
      ]
    },
    {
      "cell_type": "code",
      "metadata": {
        "colab": {
          "base_uri": "https://localhost:8080/"
        },
        "id": "ysO8GodlrchR",
        "outputId": "686414ba-7fc4-468d-972b-47f0bf45ad7c"
      },
      "source": [
        "# 青空文庫からのダウンロードzip展開＆テキスト抽出\n",
        "\n",
        "import re\n",
        "import zipfile\n",
        "import urllib.request\n",
        "import os.path,glob\n",
        "# 青空文庫のURLから小説テキストデータを得る関数\n",
        "def get_flat_text_from_aozora(zip_url):\n",
        "  # zipファイル名の取得\n",
        "  zip_file_name = re.split(r'/', zip_url)[-1]\n",
        "  print(zip_file_name)\n",
        "\n",
        "  # 既にダウンロード済みか確認後、URLからファイルを取得\n",
        "  if not os.path.exists(zip_file_name):\n",
        "    print('Download URL = ',zip_url)\n",
        "    data = urllib.request.urlopen(zip_url).read()\n",
        "    with open(zip_file_name, mode=\"wb\") as f:\n",
        "      f.write(data)\n",
        "  else:\n",
        "    print('May be already exists')\n",
        "\n",
        "  # 拡張子を除いた名前で、展開用フォルダを作成\n",
        "  dir, ext = os.path.splitext(zip_file_name)\n",
        "  if not os.path.exists(dir):\n",
        "    os.makedirs(dir)\n",
        "\n",
        "  # zipファイルの中身を全て、展開用フォルダに展開\n",
        "  unzipped_data = zipfile.ZipFile(zip_file_name, 'r')\n",
        "  unzipped_data.extractall(dir)\n",
        "  unzipped_data.close()\n",
        "\n",
        "  # zipファイルの削除\n",
        "  os.remove(zip_file_name)\n",
        "  # 注：展開フォルダの削除は入れていない\n",
        "\n",
        "  # テキストファイル(.txt)の抽出\n",
        "  wild_path = os.path.join(dir,'*.txt')\n",
        "  # テキストファイルは原則1つ同梱。最初の1つを取得\n",
        "  txt_file_path = glob.glob(wild_path)[0]\n",
        "\n",
        "  print(txt_file_path)\n",
        "  # 青空文庫はshift_jisのためデコードしてutf8にする\n",
        "  binary_data = open(txt_file_path, 'rb').read()\n",
        "  main_text = binary_data.decode('shift_jis')\n",
        "\n",
        "  # 取得したutf8のテキストデータを返す\n",
        "  return main_text\n",
        "\n",
        "\n",
        "# 青空文庫のデータを加工して扱いやすくするコード\n",
        "\n",
        "# 外字データ変換のための準備\n",
        "# 外字変換のための対応表（jisx0213対応表）のダウンロード\n",
        "# ※事前にダウンロード済みであれば飛ばしてもよい\n",
        "!wget http://x0213.org/codetable/jisx0213-2004-std.txt\n",
        "\n",
        "import re\n",
        "\n",
        "# 外字変換のための対応表（jisx0213対応表）の読み込み\n",
        "with open('jisx0213-2004-std.txt') as f:\n",
        "  #ms = (re.match(r'(\\d-\\w{4})\\s+U\\+(\\w{4})', l) for l in f if l[0] != '#')\n",
        "  # 追加：jisx0213-2004-std.txtには5桁のUnicodeもあるため対応\n",
        "  ms = (re.match(r'(\\d-\\w{4})\\s+U\\+(\\w{4,5})', l) for l in f if l[0] != '#')\n",
        "  gaiji_table = {m[1]: chr(int(m[2], 16)) for m in ms if m}\n",
        "\n",
        "# 外字データの置き換えのための関数\n",
        "def get_gaiji(s):\n",
        "  # ※［＃「弓＋椁のつくり」、第3水準1-84-22］の形式を変換\n",
        "  m = re.search(r'第(\\d)水準\\d-(\\d{1,2})-(\\d{1,2})', s)\n",
        "  if m:\n",
        "    key = f'{m[1]}-{int(m[2])+32:2X}{int(m[3])+32:2X}'\n",
        "    return gaiji_table.get(key, s)\n",
        "  # ※［＃「身＋單」、U+8EC3、56-1］の形式を変換\n",
        "  m = re.search(r'U\\+(\\w{4})', s)\n",
        "  if m:\n",
        "    return chr(int(m[1], 16))\n",
        "  # ※［＃二の字点、1-2-22］、［＃感嘆符二つ、1-8-75］の形式を変換\n",
        "  m = re.search(r'.*?(\\d)-(\\d{1,2})-(\\d{1,2})', s)\n",
        "  if m:\n",
        "    key = f'{int(m[1])+2}-{int(m[2])+32:2X}{int(m[3])+32:2X}'\n",
        "    return gaiji_table.get(key, s)\n",
        "  # 不明な形式の場合、元の文字列をそのまま返す\n",
        "  return s\n",
        "\n",
        "# 青空文庫の外字データ置き換え＆注釈＆ルビ除去などを行う加工関数\n",
        "def flatten_aozora(text):\n",
        "  # textの外字データ表記を漢字に置き換える処理\n",
        "  text = re.sub(r'※［＃.+?］', lambda m: get_gaiji(m[0]), text)\n",
        "  # 注釈文や、ルビなどの除去\n",
        "  text = re.split(r'\\-{5,}', text)[2]\n",
        "  text = re.split(r'底本：', text)[0]\n",
        "  text = re.sub(r'《.+?》', '', text)\n",
        "  text = re.sub(r'［＃.+?］', '', text)\n",
        "  text = text.strip()\n",
        "  return text\n",
        "\n",
        "\n",
        "# 複数ファイルのダウンロードや加工を一括実行する関数\n",
        "\n",
        "import time\n",
        "# ZIP-URLのリストから全てのデータをダウンロード＆加工する関数\n",
        "def get_all_flat_text_from_zip_list(zip_list):\n",
        "  all_flat_text = \"\"\n",
        "  for zip_url in zip_list:\n",
        "    # ダウンロードや解凍の失敗があり得るためTry文を使う\n",
        "    # 十分なデータ量があるため数件の失敗はスキップでよい\n",
        "    try:\n",
        "      # 青空文庫からダウンロードする関数を実行\n",
        "      aozora_dl_text = get_flat_text_from_aozora(zip_url)\n",
        "      # 青空文庫のテキストを加工する関数を実行\n",
        "      flat_text = flatten_aozora(aozora_dl_text)\n",
        "      # 結果を追記して改行。\n",
        "      all_flat_text += flat_text + (\"\\n\")\n",
        "      print(zip_url+\" : 取得＆加工完了\")\n",
        "    except:\n",
        "      # エラー時の詳細ログが出るおまじない\n",
        "      import traceback\n",
        "      traceback.print_exc()\n",
        "      print(zip_url+\" : 取得or解凍エラーのためスキップ\")\n",
        "\n",
        "    # 青空文庫サーバに負荷をかけすぎないように１秒待ってから次の小説へ\n",
        "    time.sleep(1)\n",
        "\n",
        "  # 全部がつながった大きなテキストデータを返す\n",
        "  return all_flat_text\n",
        "\n"
      ],
      "execution_count": null,
      "outputs": [
        {
          "output_type": "stream",
          "text": [
            "--2021-08-14 16:53:42--  http://x0213.org/codetable/jisx0213-2004-std.txt\n",
            "Resolving x0213.org (x0213.org)... 59.106.19.103\n",
            "Connecting to x0213.org (x0213.org)|59.106.19.103|:80... connected.\n",
            "HTTP request sent, awaiting response... 200 OK\n",
            "Length: 311997 (305K) [text/plain]\n",
            "Saving to: ‘jisx0213-2004-std.txt’\n",
            "\n",
            "jisx0213-2004-std.t 100%[===================>] 304.68K   389KB/s    in 0.8s    \n",
            "\n",
            "2021-08-14 16:53:44 (389 KB/s) - ‘jisx0213-2004-std.txt’ saved [311997/311997]\n",
            "\n"
          ],
          "name": "stdout"
        }
      ]
    },
    {
      "cell_type": "markdown",
      "metadata": {
        "id": "uD4cEbf_rhPQ"
      },
      "source": [
        "■ 走れメロスのデータをダウンロード＆加工して使いやすく："
      ]
    },
    {
      "cell_type": "code",
      "metadata": {
        "id": "yZ_5vHVVrSwN",
        "colab": {
          "base_uri": "https://localhost:8080/"
        },
        "outputId": "02c5026e-abb4-496b-e943-640ecd9f243c"
      },
      "source": [
        "# ダウンロードしたいURLを入力する\n",
        "ZIP_URL = 'https://www.aozora.gr.jp/cards/000035/files/1567_ruby_4948.zip'\n",
        "\n",
        "# 青空文庫からダウンロードする関数を実行\n",
        "aozora_dl_text = get_flat_text_from_aozora(ZIP_URL)\n",
        "\n",
        "# 途中経過を見たい場合以下のコメントを解除\n",
        "# 冒頭1000文字を出力\n",
        "# print(aozora_dl_text[0:1000])\n",
        "\n",
        "# 青空文庫のテキストを加工する関数を実行\n",
        "flat_text = flatten_aozora(aozora_dl_text)\n",
        "\n",
        "# 冒頭1000文字を出力\n",
        "print(flat_text[0:1000])\n"
      ],
      "execution_count": null,
      "outputs": [
        {
          "output_type": "stream",
          "text": [
            "1567_ruby_4948.zip\n",
            "Download URL =  https://www.aozora.gr.jp/cards/000035/files/1567_ruby_4948.zip\n",
            "1567_ruby_4948/hashire_merosu.txt\n",
            "メロスは激怒した。必ず、かの邪智暴虐の王を除かなければならぬと決意した。メロスには政治がわからぬ。メロスは、村の牧人である。笛を吹き、羊と遊んで暮して来た。けれども邪悪に対しては、人一倍に敏感であった。きょう未明メロスは村を出発し、野を越え山越え、十里はなれた此のシラクスの市にやって来た。メロスには父も、母も無い。女房も無い。十六の、内気な妹と二人暮しだ。この妹は、村の或る律気な一牧人を、近々、花婿として迎える事になっていた。結婚式も間近かなのである。メロスは、それゆえ、花嫁の衣裳やら祝宴の御馳走やらを買いに、はるばる市にやって来たのだ。先ず、その品々を買い集め、それから都の大路をぶらぶら歩いた。メロスには竹馬の友があった。セリヌンティウスである。今は此のシラクスの市で、石工をしている。その友を、これから訪ねてみるつもりなのだ。久しく逢わなかったのだから、訪ねて行くのが楽しみである。歩いているうちにメロスは、まちの様子を怪しく思った。ひっそりしている。もう既に日も落ちて、まちの暗いのは当りまえだが、けれども、なんだか、夜のせいばかりでは無く、市全体が、やけに寂しい。のんきなメロスも、だんだん不安になって来た。路で逢った若い衆をつかまえて、何かあったのか、二年まえに此の市に来たときは、夜でも皆が歌をうたって、まちは賑やかであった筈だが、と質問した。若い衆は、首を振って答えなかった。しばらく歩いて老爺に逢い、こんどはもっと、語勢を強くして質問した。老爺は答えなかった。メロスは両手で老爺のからだをゆすぶって質問を重ねた。老爺は、あたりをはばかる低声で、わずか答えた。\n",
            "「王様は、人を殺します。」\n",
            "「なぜ殺すのだ。」\n",
            "「悪心を抱いている、というのですが、誰もそんな、悪心を持っては居りませぬ。」\n",
            "「たくさんの人を殺したのか。」\n",
            "「はい、はじめは王様の妹婿さまを。それから、御自身のお世嗣を。それから、妹さまを。それから、妹さまの御子さまを。それから、皇后さまを。それから、賢臣のアレキス様を。」\n",
            "「おどろいた。国王は乱心か。」\n",
            "「いいえ、乱心ではございませぬ。人を、信ずる事が出来ぬ、というのです。このごろは、臣下の心をも、お疑いになり、少しく派手な暮しをしている者には、人質ひとりずつ差し出すことを命じて居ります。御命令を拒めば十字架にかけられて、殺されます。きょうは、\n"
          ],
          "name": "stdout"
        }
      ]
    },
    {
      "cell_type": "markdown",
      "metadata": {
        "id": "RUj7PGvfrxpA"
      },
      "source": [
        "■ 2種類の折れ線グラフを描くコード："
      ]
    },
    {
      "cell_type": "code",
      "metadata": {
        "colab": {
          "base_uri": "https://localhost:8080/",
          "height": 283
        },
        "id": "aJU2OlSArrv0",
        "outputId": "e8cfd444-ef66-4ed6-f541-3dfd7abaf814"
      },
      "source": [
        "%matplotlib inline\n",
        "# ↑グラフを表示するためのおまじない\n",
        "# Colaboratoryで実行する場合はなくても問題ありません\n",
        "\n",
        "import matplotlib.pyplot as plt\n",
        "\n",
        "# X座標\n",
        "x =  [ 1,  2,  3,  4 , 5,  6]\n",
        "# Y座標は２種類\n",
        "y1 = [10, 30, 30, 20, 80, 90]\n",
        "y2 = [20, 10, 30, 50, 60, 50]\n",
        "\n",
        "# グラフのフォーマットを指定してプロット\n",
        "plt.plot(x, y1, marker=\"o\", color = \"red\", linestyle = \"--\")\n",
        "plt.plot(x, y2, marker=\"x\", color = \"blue\",  linestyle = \":\")\n"
      ],
      "execution_count": null,
      "outputs": [
        {
          "output_type": "execute_result",
          "data": {
            "text/plain": [
              "[<matplotlib.lines.Line2D at 0x7fe1d8edf650>]"
            ]
          },
          "metadata": {
            "tags": []
          },
          "execution_count": 8
        },
        {
          "output_type": "display_data",
          "data": {
            "image/png": "[encoded data removed]",
            "text/plain": [
              "<Figure size 432x288 with 1 Axes>"
            ]
          },
          "metadata": {
            "tags": [],
            "needs_background": "light"
          }
        }
      ]
    },
    {
      "cell_type": "markdown",
      "metadata": {
        "id": "wShEwaUkr3qg"
      },
      "source": [
        "■ メロスの感情を時系列でグラフ化するコード："
      ]
    },
    {
      "cell_type": "code",
      "metadata": {
        "colab": {
          "base_uri": "https://localhost:8080/",
          "height": 1000
        },
        "id": "sHnExOzsr0Q1",
        "outputId": "9af574d9-e64b-4ae8-bcdf-f7ec77e1e1c2"
      },
      "source": [
        "# ダウンロードしたいURLを入力する\n",
        "ZIP_URL = 'https://www.aozora.gr.jp/cards/000035/files/1567_ruby_4948.zip'\n",
        "\n",
        "# ダウンロード＆テキスト取得\n",
        "aozora_dl_text = get_flat_text_from_aozora(ZIP_URL)\n",
        "\n",
        "# タグや外字などのデータを加工\n",
        "flat_text = flatten_aozora(aozora_dl_text)\n",
        "\n",
        "# フラットなテキストを「改行コード」で区切ってリスト形式にする\n",
        "mero_list = flat_text.split('\\n')\n",
        "\n",
        "# グラフ作成用のx軸,　y軸\n",
        "# X座標（物語の進行の時間軸として、それまでの単語総数を入れる）\n",
        "x =  []\n",
        "# Y座標は２種類＝y1にポジティブ度合い、y2にネガティブ度合いとする\n",
        "y1 = []\n",
        "y2 = []\n",
        "\n",
        "total_word_count = 0\n",
        "# 作ったリストの各要素に対して処理を行う\n",
        "for mero_str in mero_list:\n",
        "  # リストの中身＝文字列に対してネガポジ分析を行う。\n",
        "  pos_count, neg_count, word_count = np_rate(mero_str)\n",
        "  # 単語数が０となる行があった場合、その行を飛ばす（０除算防止）\n",
        "  if word_count <1 :\n",
        "    continue\n",
        "  # 全単語数に対するポジティブの比率を、リストに追加する\n",
        "  y1.append(pos_count/word_count)\n",
        "  # 全単語数に対するポジティブの比率を、リストに追加する\n",
        "  y2.append(neg_count/word_count)\n",
        "  # これまでに出てきた単語数の合計をX軸とする\n",
        "  total_word_count += word_count\n",
        "  x.append(total_word_count)\n",
        "\n",
        "# グラフのフォーマットを指定してプロット\n",
        "plt.plot(x, y1, marker=\"o\", color = \"red\", linestyle = \"--\")\n",
        "plt.plot(x, y2, marker=\"x\", color = \"blue\",  linestyle = \":\")\n"
      ],
      "execution_count": null,
      "outputs": [
        {
          "output_type": "stream",
          "text": [
            "1567_ruby_4948.zip\n",
            "Download URL =  https://www.aozora.gr.jp/cards/000035/files/1567_ruby_4948.zip\n",
            "1567_ruby_4948/hashire_merosu.txt\n",
            "NEG:激怒\n",
            "NEG:暴虐\n",
            "NEG:邪悪\n",
            "NEG:内気\n",
            "POS:楽しみ\n",
            "NEG:不安\n",
            "POS:賑やか\n",
            "NEG:疑い\n",
            "NEG:激怒\n",
            "NEG:騒ぎ\n",
            "NEG:暴君\n",
            "POS:威厳\n",
            "NEG:蒼白\n",
            "NEG:暴君\n",
            "NEG:憫笑\n",
            "NEG:孤独\n",
            "NEG:悪徳\n",
            "POS:忠誠\n",
            "POS:正当\n",
            "POS:心構え\n",
            "NEG:暴君\n",
            "POS:平和\n",
            "POS:平和\n",
            "POS:地位\n",
            "NEG:嘲笑\n",
            "NEG:罪\n",
            "POS:平和\n",
            "POS:清らか\n",
            "NEG:視線\n",
            "POS:情\n",
            "NEG:暴君\n",
            "NEG:嘘\n",
            "POS:友人\n",
            "POS:友人\n",
            "NEG:残虐\n",
            "NEG:生意気\n",
            "NEG:嘘つき\n",
            "NEG:磔刑\n",
            "POS:正直\n",
            "NEG:罪\n",
            "POS:永遠\n",
            "POS:いのち\n",
            "POS:大事\n",
            "NEG:暴君\n",
            "NEG:急ぎ\n",
            "POS:陽\n",
            "NEG:疲労\n",
            "NEG:困憊\n",
            "NEG:無理\n",
            "POS:綺麗\n",
            "POS:眠り\n",
            "POS:明日\n",
            "POS:明日\n",
            "NEG:不吉\n",
            "POS:陽気\n",
            "POS:喜色\n",
            "POS:華やか\n",
            "POS:一生\n",
            "NEG:未練\n",
            "POS:情\n",
            "NEG:呆然\n",
            "POS:歓喜\n",
            "POS:大切\n",
            "NEG:嘘\n",
            "POS:誇り\n",
            "POS:大丈夫\n",
            "POS:十分\n",
            "POS:信実\n",
            "POS:名誉\n",
            "POS:大丈夫\n",
            "NEG:未練\n",
            "POS:好き\n",
            "NEG:災難\n",
            "NEG:氾濫\n",
            "NEG:破壊\n",
            "NEG:限り\n",
            "NEG:影\n",
            "POS:友達\n",
            "POS:ため\n",
            "NEG:煽り\n",
            "POS:愛\n",
            "POS:誠\n",
            "POS:偉大\n",
            "POS:力\n",
            "POS:発揮\n",
            "POS:力\n",
            "POS:獅子奮迅\n",
            "NEG:哀れ\n",
            "POS:見事\n",
            "NEG:むだ\n",
            "POS:陽\n",
            "NEG:山賊\n",
            "POS:陽\n",
            "POS:いのち\n",
            "POS:命\n",
            "POS:いのち\n",
            "NEG:山賊\n",
            "NEG:気の毒\n",
            "POS:正義\n",
            "POS:ため\n",
            "NEG:一撃\n",
            "NEG:隙\n",
            "NEG:疲労\n",
            "POS:まとも\n",
            "NEG:眩暈\n",
            "NEG:山賊\n",
            "POS:真\n",
            "POS:勇者\n",
            "POS:情\n",
            "NEG:不信\n",
            "POS:前進\n",
            "NEG:疲労\n",
            "POS:勇者\n",
            "POS:根性\n",
            "NEG:不信\n",
            "POS:愛\n",
            "POS:信実\n",
            "POS:大事\n",
            "NEG:不幸\n",
            "NEG:中途\n",
            "NEG:疑惑\n",
            "POS:無心\n",
            "POS:信実\n",
            "NEG:急ぎ\n",
            "NEG:山賊\n",
            "POS:永遠\n",
            "NEG:不名誉\n",
            "POS:一緒\n",
            "NEG:悪徳\n",
            "POS:正義\n",
            "POS:信実\n",
            "POS:愛\n",
            "NEG:裏切り者\n",
            "NEG:勝手\n",
            "POS:清水\n",
            "NEG:疲労\n",
            "POS:希望\n",
            "POS:希望\n",
            "POS:名誉\n",
            "POS:希望\n",
            "POS:光\n",
            "POS:期待\n",
            "POS:命\n",
            "NEG:問題\n",
            "POS:信頼\n",
            "POS:信頼\n",
            "POS:信頼\n",
            "NEG:悪魔\n",
            "NEG:恥\n",
            "POS:真\n",
            "POS:勇者\n",
            "POS:正義\n",
            "POS:陽\n",
            "POS:正直\n",
            "POS:正直\n",
            "NEG:不吉\n",
            "POS:ため\n",
            "POS:愛\n",
            "POS:誠\n",
            "POS:力\n",
            "POS:友達\n",
            "NEG:駄目\n",
            "NEG:むだ\n",
            "POS:助け\n",
            "POS:陽\n",
            "NEG:死刑\n",
            "NEG:うらみ\n",
            "POS:陽\n",
            "POS:命\n",
            "POS:大事\n",
            "POS:平気\n",
            "POS:信念\n",
            "NEG:問題\n",
            "POS:命\n",
            "NEG:問題\n",
            "POS:陽\n",
            "POS:力\n",
            "POS:陽\n",
            "POS:光\n",
            "POS:疾風\n",
            "POS:勇\n",
            "NEG:刑\n",
            "POS:あっぱれ\n",
            "NEG:暴君\n",
            "POS:望み\n",
            "POS:信実\n",
            "NEG:空虚\n",
            "NEG:妄想\n",
            "POS:仲間\n",
            "POS:仲間\n",
            "POS:歓声\n",
            "POS:勇者\n"
          ],
          "name": "stdout"
        },
        {
          "output_type": "execute_result",
          "data": {
            "text/plain": [
              "[<matplotlib.lines.Line2D at 0x7fe1d843fa50>]"
            ]
          },
          "metadata": {
            "tags": []
          },
          "execution_count": 9
        },
        {
          "output_type": "display_data",
          "data": {
            "image/png": "[encoded data removed]",
            "text/plain": [
              "<Figure size 432x288 with 1 Axes>"
            ]
          },
          "metadata": {
            "tags": [],
            "needs_background": "light"
          }
        }
      ]
    },
    {
      "cell_type": "markdown",
      "metadata": {
        "id": "nt3npz1lsFDB"
      },
      "source": [
        "■ 注文の多い料理店：\n",
        "\n",
        "※ZIP_URL を下記に書き換えているのみ。\n",
        "\n",
        "https://www.aozora.gr.jp/cards/000081/files/43754_ruby_17594.zip"
      ]
    },
    {
      "cell_type": "code",
      "metadata": {
        "colab": {
          "base_uri": "https://localhost:8080/",
          "height": 1000
        },
        "id": "oNFX_IoKr6Q6",
        "outputId": "eb7e8577-c5bb-4029-a377-512c699df60f"
      },
      "source": [
        "# ダウンロードしたいURLを入力する\n",
        "ZIP_URL = 'https://www.aozora.gr.jp/cards/000081/files/43754_ruby_17594.zip'\n",
        "\n",
        "# ダウンロード＆テキスト取得\n",
        "aozora_dl_text = get_flat_text_from_aozora(ZIP_URL)\n",
        "\n",
        "# タグや外字などのデータを加工\n",
        "flat_text = flatten_aozora(aozora_dl_text)\n",
        "\n",
        "# フラットなテキストを「改行コード」で区切ってリスト形式にする\n",
        "mero_list = flat_text.split('\\n')\n",
        "\n",
        "# グラフ作成用のx軸,　y軸\n",
        "# X座標（物語の進行の時間軸として、それまでの単語総数を入れる）\n",
        "x =  []\n",
        "# Y座標は２種類＝y1にポジティブ度合い、y2にネガティブ度合いとする\n",
        "y1 = []\n",
        "y2 = []\n",
        "\n",
        "total_word_count = 0\n",
        "# 作ったリストの各要素に対して処理を行う\n",
        "for mero_str in mero_list:\n",
        "  # リストの中身＝文字列に対してネガポジ分析を行う。\n",
        "  pos_count, neg_count, word_count = np_rate(mero_str)\n",
        "  # 単語数が０となる行があった場合、その行を飛ばす（０除算防止）\n",
        "  if word_count <1 :\n",
        "    continue\n",
        "  # 全単語数に対するポジティブの比率を、リストに追加する\n",
        "  y1.append(pos_count/word_count)\n",
        "  # 全単語数に対するポジティブの比率を、リストに追加する\n",
        "  y2.append(neg_count/word_count)\n",
        "  # これまでに出てきた単語数の合計をX軸とする\n",
        "  total_word_count += word_count\n",
        "  x.append(total_word_count)\n",
        "\n",
        "# グラフのフォーマットを指定してプロット\n",
        "plt.plot(x, y1, marker=\"o\", color = \"red\", linestyle = \"--\")\n",
        "plt.plot(x, y2, marker=\"x\", color = \"blue\",  linestyle = \":\")\n"
      ],
      "execution_count": null,
      "outputs": [
        {
          "output_type": "stream",
          "text": [
            "43754_ruby_17594.zip\n",
            "Download URL =  https://www.aozora.gr.jp/cards/000081/files/43754_ruby_17594.zip\n",
            "43754_ruby_17594/chumonno_oi_ryoriten.txt\n",
            "NEG:獣\n",
            "POS:痛快\n",
            "POS:専門\n",
            "NEG:めまい\n",
            "NEG:損害\n",
            "NEG:損害\n",
            "POS:立派\n",
            "POS:立派\n",
            "POS:金\n",
            "POS:意味\n",
            "POS:金\n",
            "POS:歓迎\n",
            "POS:歓迎\n",
            "POS:歓迎\n",
            "NEG:変\n",
            "NEG:泥\n",
            "POS:きれい\n",
            "NEG:泥\n",
            "NEG:否\n",
            "POS:元気\n",
            "NEG:変\n",
            "POS:立派\n",
            "POS:予防\n",
            "POS:周到\n",
            "NEG:風邪\n",
            "NEG:気の毒\n",
            "POS:立派\n",
            "NEG:ご苦労\n",
            "POS:結構\n",
            "POS:おまけ\n",
            "NEG:気の毒\n",
            "NEG:間抜け\n",
            "NEG:骨\n",
            "NEG:嫌い\n",
            "POS:ため\n",
            "POS:元気\n",
            "POS:専門\n",
            "POS:安心\n"
          ],
          "name": "stdout"
        },
        {
          "output_type": "execute_result",
          "data": {
            "text/plain": [
              "[<matplotlib.lines.Line2D at 0x7fe1d815cc50>]"
            ]
          },
          "metadata": {
            "tags": []
          },
          "execution_count": 11
        },
        {
          "output_type": "display_data",
          "data": {
            "image/png": "[encoded data removed]",
            "text/plain": [
              "<Figure size 432x288 with 1 Axes>"
            ]
          },
          "metadata": {
            "tags": [],
            "needs_background": "light"
          }
        }
      ]
    },
    {
      "cell_type": "markdown",
      "metadata": {
        "id": "2egy5UIcsa95"
      },
      "source": [
        "■ 蜘蛛の糸：\n",
        "\n",
        "※ZIP_URL を下記に書き換えているのみ。\n",
        "\n",
        "https://www.aozora.gr.jp/cards/000879/files/92_ruby_164.zip"
      ]
    },
    {
      "cell_type": "code",
      "metadata": {
        "colab": {
          "base_uri": "https://localhost:8080/",
          "height": 1000
        },
        "id": "SMvYqB36sSWl",
        "outputId": "e5dc430b-ef83-4d29-e812-5529d3768439"
      },
      "source": [
        "# ダウンロードしたいURLを入力する\n",
        "ZIP_URL = 'https://www.aozora.gr.jp/cards/000879/files/92_ruby_164.zip'\n",
        "\n",
        "# ダウンロード＆テキスト取得\n",
        "aozora_dl_text = get_flat_text_from_aozora(ZIP_URL)\n",
        "\n",
        "# タグや外字などのデータを加工\n",
        "flat_text = flatten_aozora(aozora_dl_text)\n",
        "\n",
        "# フラットなテキストを「改行コード」で区切ってリスト形式にする\n",
        "mero_list = flat_text.split('\\n')\n",
        "\n",
        "# グラフ作成用のx軸,　y軸\n",
        "# X座標（物語の進行の時間軸として、それまでの単語総数を入れる）\n",
        "x =  []\n",
        "# Y座標は２種類＝y1にポジティブ度合い、y2にネガティブ度合いとする\n",
        "y1 = []\n",
        "y2 = []\n",
        "\n",
        "total_word_count = 0\n",
        "# 作ったリストの各要素に対して処理を行う\n",
        "for mero_str in mero_list:\n",
        "  # リストの中身＝文字列に対してネガポジ分析を行う。\n",
        "  pos_count, neg_count, word_count = np_rate(mero_str)\n",
        "  # 単語数が０となる行があった場合、その行を飛ばす（０除算防止）\n",
        "  if word_count <1 :\n",
        "    continue\n",
        "  # 全単語数に対するポジティブの比率を、リストに追加する\n",
        "  y1.append(pos_count/word_count)\n",
        "  # 全単語数に対するポジティブの比率を、リストに追加する\n",
        "  y2.append(neg_count/word_count)\n",
        "  # これまでに出てきた単語数の合計をX軸とする\n",
        "  total_word_count += word_count\n",
        "  x.append(total_word_count)\n",
        "\n",
        "# グラフのフォーマットを指定してプロット\n",
        "plt.plot(x, y1, marker=\"o\", color = \"red\", linestyle = \"--\")\n",
        "plt.plot(x, y2, marker=\"x\", color = \"blue\",  linestyle = \":\")\n"
      ],
      "execution_count": null,
      "outputs": [
        {
          "output_type": "stream",
          "text": [
            "92_ruby_164.zip\n",
            "Download URL =  https://www.aozora.gr.jp/cards/000879/files/92_ruby_164.zip\n",
            "92_ruby_164/kumono_ito.txt\n",
            "POS:釈迦\n",
            "POS:釈迦\n",
            "NEG:地獄\n",
            "NEG:針\n",
            "POS:景色\n",
            "NEG:覗き\n",
            "NEG:地獄\n",
            "NEG:悪事\n",
            "POS:命\n",
            "POS:命\n",
            "NEG:急\n",
            "POS:釈迦\n",
            "NEG:地獄\n",
            "NEG:地獄\n",
            "POS:幸い\n",
            "POS:翡翠\n",
            "POS:釈迦\n",
            "NEG:地獄\n",
            "NEG:地獄\n",
            "NEG:針\n",
            "NEG:針\n",
            "NEG:墓\n",
            "NEG:地獄\n",
            "POS:力\n",
            "NEG:地獄\n",
            "NEG:針\n",
            "POS:しっかり\n",
            "POS:一生懸命\n",
            "NEG:地獄\n",
            "POS:容易\n",
            "NEG:中途\n",
            "POS:一生懸命\n",
            "NEG:針\n",
            "NEG:地獄\n",
            "NEG:地獄\n",
            "NEG:大変\n",
            "NEG:急\n",
            "NEG:中途\n",
            "POS:釈迦\n",
            "NEG:地獄\n",
            "NEG:無慈悲\n",
            "NEG:罰\n",
            "NEG:地獄\n",
            "POS:釈迦\n",
            "NEG:頓着\n",
            "POS:釈迦\n"
          ],
          "name": "stdout"
        },
        {
          "output_type": "execute_result",
          "data": {
            "text/plain": [
              "[<matplotlib.lines.Line2D at 0x7fe1d80f8a10>]"
            ]
          },
          "metadata": {
            "tags": []
          },
          "execution_count": 12
        },
        {
          "output_type": "display_data",
          "data": {
            "image/png": "[encoded data removed]",
            "text/plain": [
              "<Figure size 432x288 with 1 Axes>"
            ]
          },
          "metadata": {
            "tags": [],
            "needs_background": "light"
          }
        }
      ]
    },
    {
      "cell_type": "code",
      "metadata": {
        "id": "swl6RkTTspF0"
      },
      "source": [],
      "execution_count": null,
      "outputs": []
    }
  ]
}