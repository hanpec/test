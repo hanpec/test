{
  "nbformat": 4,
  "nbformat_minor": 0,
  "metadata": {
    "colab": {
      "provenance": [],
      "include_colab_link": true
    },
    "kernelspec": {
      "name": "python3",
      "display_name": "Python 3"
    }
  },
  "cells": [
    {
      "cell_type": "markdown",
      "metadata": {
        "id": "view-in-github",
        "colab_type": "text"
      },
      "source": [
        "<a href=\"https://colab.research.google.com/github/hanpec/test/blob/master/05%E7%AB%A0.ipynb\" target=\"_parent\"><img src=\"https://colab.research.google.com/assets/colab-badge.svg\" alt=\"Open In Colab\"/></a>"
      ]
    },
    {
      "cell_type": "code",
      "metadata": {
        "id": "rmntgx5enl83"
      },
      "source": [],
      "execution_count": null,
      "outputs": []
    },
    {
      "cell_type": "markdown",
      "metadata": {
        "id": "sQEdzkYUofRq"
      },
      "source": [
        "ここに掲載されているコードは、  \n",
        "『コピペで簡単実行！キテレツおもしろ自然言語処理～PythonとColaboratoryで身につく基礎の基礎』書籍の付録です。    \n",
        "本ファイルの公開用URLや、本ファイル内のコードを、みだりに他の人へ共有しないでください。  \n",
        "\n",
        "本ファイルは、書籍に記載のコードのコピペの手間を省くために作られました。  \n",
        "本ファイルの公開用URLにアクセスすると、  \n",
        "お手元のGoogleアカウントに本ファイルのコピーが作成されます。  \n",
        "（つまり、コレをご覧になっているということは、コピーをご覧になっています）    \n",
        "そのコピーは、あなただけのファイルとして生成されるため、    \n",
        "書籍をお買い求め済みの方は、自由に変更したり実行したり保存したりして問題ありません。   \n",
        "\n",
        "初期状態では、ご参考までに筆者が実行した出力結果を残してあります。  \n",
        "ご自身で実行する際には、「編集」⇒「出力を全て消去」により、  \n",
        "出力結果を消去してから実行なさると良いでしょう。  \n",
        "\n",
        "※注：Googleの公式が作成したファイルではないため、実行時に  \n",
        "「警告: このノートブックは Google が作成したものではありません。」  \n",
        "という警告が出ます。  \n",
        "気になる方は、ご自身の環境に都度コードをコピーして実行しても良いでしょう。\n",
        "\n"
      ]
    },
    {
      "cell_type": "code",
      "metadata": {
        "id": "r1UwAvEpnz-S"
      },
      "source": [],
      "execution_count": null,
      "outputs": []
    },
    {
      "cell_type": "markdown",
      "metadata": {
        "id": "K-j9_2_3n40Q"
      },
      "source": [
        "■  GoogleDriveのマウントコマンド：\n"
      ]
    },
    {
      "cell_type": "code",
      "metadata": {
        "colab": {
          "base_uri": "https://localhost:8080/"
        },
        "id": "SLDbM6CEn0N4",
        "outputId": "453287be-165e-4a35-d5f2-489e567d66ee"
      },
      "source": [
        "from google.colab import drive\n",
        "drive.mount('/content/drive')"
      ],
      "execution_count": null,
      "outputs": [
        {
          "output_type": "stream",
          "text": [
            "Mounted at /content/drive\n"
          ],
          "name": "stdout"
        }
      ]
    },
    {
      "cell_type": "markdown",
      "metadata": {
        "id": "rAy7sDg_oQF2"
      },
      "source": [
        "■ モデルファイルのダウンロード："
      ]
    },
    {
      "cell_type": "code",
      "metadata": {
        "colab": {
          "base_uri": "https://localhost:8080/"
        },
        "id": "auicxHNCn4GK",
        "outputId": "e263d3d4-3e7c-4012-8e6b-21af7e38667f"
      },
      "source": [
        "# KITERETUフォルダをマウントしたGoogleDriveフォルダ(MyDrive)内に作成する\n",
        "!mkdir -p /content/drive/MyDrive/KITERETU\n",
        "# Word2Vecの学習済みモデルをそのフォルダにダウンロードする(3ファイルで1セット:400MB弱ほど)\n",
        "!curl -o /content/drive/MyDrive/KITERETU/gw2v160.model https://storage.googleapis.com/nlp_youwht/w2v/gw2v160.model\n",
        "!curl -o /content/drive/MyDrive/KITERETU/gw2v160.model.trainables.syn1neg.npy https://storage.googleapis.com/nlp_youwht/w2v/gw2v160.model.trainables.syn1neg.npy\n",
        "!curl -o /content/drive/MyDrive/KITERETU/gw2v160.model.wv.vectors.npy https://storage.googleapis.com/nlp_youwht/w2v/gw2v160.model.wv.vectors.npy\n"
      ],
      "execution_count": null,
      "outputs": [
        {
          "output_type": "stream",
          "text": [
            "  % Total    % Received % Xferd  Average Speed   Time    Time     Time  Current\n",
            "                                 Dload  Upload   Total   Spent    Left  Speed\n",
            "100 19.1M  100 19.1M    0     0  34.6M      0 --:--:-- --:--:-- --:--:-- 34.6M\n",
            "  % Total    % Received % Xferd  Average Speed   Time    Time     Time  Current\n",
            "                                 Dload  Upload   Total   Spent    Left  Speed\n",
            "100  179M  100  179M    0     0  49.7M      0  0:00:03  0:00:03 --:--:-- 49.7M\n",
            "  % Total    % Received % Xferd  Average Speed   Time    Time     Time  Current\n",
            "                                 Dload  Upload   Total   Spent    Left  Speed\n",
            "100  179M  100  179M    0     0  49.9M      0  0:00:03  0:00:03 --:--:-- 49.9M\n"
          ],
          "name": "stdout"
        }
      ]
    },
    {
      "cell_type": "markdown",
      "metadata": {
        "id": "QasiDpo8o8ZF"
      },
      "source": [
        "■ モデルのロードと使い方："
      ]
    },
    {
      "cell_type": "code",
      "metadata": {
        "colab": {
          "base_uri": "https://localhost:8080/"
        },
        "id": "0q5isd8Ro8qR",
        "outputId": "58dd0d1e-e3ba-4bc9-e310-a2dec8639e4e"
      },
      "source": [
        "from gensim.models.word2vec import Word2Vec\n",
        "\n",
        "# 学習済みモデルのロード\n",
        "model_file_path = '/content/drive/MyDrive/KITERETU/gw2v160.model'\n",
        "model = Word2Vec.load(model_file_path)\n",
        "\n",
        "# モデル内に登録されている単語リストの長さをlen関数で見る（＝単語数）\n",
        "print(len(model.wv.vocab.keys()))\n",
        "\n",
        "# 「群馬」に似ている単語TOP7を書き出す\n",
        "out = model.wv.most_similar(positive=[u'群馬'], topn=7)\n",
        "print(out)\n"
      ],
      "execution_count": null,
      "outputs": [
        {
          "output_type": "stream",
          "text": [
            "293753\n",
            "[('群馬県', 0.7760873436927795), ('栃木', 0.74561607837677), ('前橋', 0.7389767169952393), ('埼玉', 0.7216979265213013), ('高崎', 0.6891007423400879), ('伊勢崎', 0.6693984866142273), ('茨城', 0.6651454567909241)]\n"
          ],
          "name": "stdout"
        }
      ]
    },
    {
      "cell_type": "markdown",
      "metadata": {
        "id": "2FkNvi7Co8y6"
      },
      "source": [
        "■ カレーに似た単語を表示する："
      ]
    },
    {
      "cell_type": "code",
      "metadata": {
        "colab": {
          "base_uri": "https://localhost:8080/"
        },
        "id": "kNcY8gmNo87q",
        "outputId": "9c450a6e-9e2c-4eee-a8d7-1ae2f4e5c8e4"
      },
      "source": [
        "out = model.wv.most_similar(positive=[u'カレー'], topn=7)\n",
        "print(out)"
      ],
      "execution_count": null,
      "outputs": [
        {
          "output_type": "stream",
          "text": [
            "[('カレーライス', 0.7166545987129211), ('ハヤシライス', 0.6706688404083252), ('ギョーザ', 0.6535394191741943), ('ラーメン', 0.652011513710022), ('焼き蕎麦', 0.6507507562637329), ('ブイヤベース', 0.6458899974822998), ('オムライス', 0.6456515789031982)]\n"
          ],
          "name": "stdout"
        }
      ]
    },
    {
      "cell_type": "markdown",
      "metadata": {
        "id": "Yp01v9Ypo9Dg"
      },
      "source": [
        "■ 群馬の中身を見る："
      ]
    },
    {
      "cell_type": "code",
      "metadata": {
        "colab": {
          "base_uri": "https://localhost:8080/"
        },
        "id": "UU5itcfFo9LG",
        "outputId": "1ad1cdce-1a31-44e3-cbc9-1ace2ff0bd7b"
      },
      "source": [
        "print(model.wv[u'群馬'])"
      ],
      "execution_count": null,
      "outputs": [
        {
          "output_type": "stream",
          "text": [
            "[ 4.2422915   0.27377108  2.51553    -2.0412977   0.54726774 -0.09492437\n",
            "  1.4120865   0.15056664  1.868154   -0.82946914 -2.3557978   4.6696243\n",
            " -3.9061854   3.4738815   1.4537983   0.5705613  -0.8378857  -5.43336\n",
            " -0.85823226  0.9265022  -3.7991753  -1.4526445  -3.7220228   1.1915207\n",
            "  2.0326457  -0.90013945  2.9068265  -1.3539135   0.7292309  -0.34730366\n",
            " -2.0714579  -2.8558996   2.2566583  -0.12137131  4.819004    1.6881152\n",
            "  2.796228   -0.61515385  0.6729764  -4.3078012   4.1530824   1.2621291\n",
            " -2.696101   -1.5939671  -1.7485062  -2.6888402  -3.5065968   0.1406537\n",
            "  2.512527    0.9739599   1.272834    5.602647    0.6786372   0.38951224\n",
            " -0.7604451   2.120089   -4.308792   -2.5173967   1.0616564  -2.7074466\n",
            " -1.4338574   2.2432249  -0.23879015  3.2831643   0.08869346  3.6624124\n",
            " -1.1375351   2.4365537  -0.7146723   1.4951534  -0.40918884 -1.6129446\n",
            "  0.14533193 -1.0891074  -3.0838728   1.8646362   0.5423442   1.5790257\n",
            " -2.8261366  -1.4483175   0.6069773  -2.4653132  -0.5494073  -1.9137746\n",
            " -0.3572741  -1.2155455  -3.2895994  -0.20503922  0.97172445 -2.579692\n",
            " -0.15547913 -1.2495776  -1.5572785  -0.02728371 -0.43851167 -0.27840123\n",
            " -2.8405478   0.2006971  -1.4040825  -1.4764801   0.9429404   1.4788917\n",
            "  0.08491302 -2.432999   -3.1933367  -1.1944622   3.2968638  -0.20673297\n",
            "  1.6269764   2.8694484  -1.6561449   0.68467456 -0.6033949  -2.6223822\n",
            " -2.2336333  -2.4349635  -0.97431976  0.95811045  2.0544965   2.077914\n",
            " -1.2048156  -1.4104863   4.096328   -0.5932494  -1.5620724   3.59603\n",
            "  0.01023742  1.7705898  -3.8168137  -0.97315437  0.1781977   1.1770334\n",
            " -2.5343838   0.23434056 -1.1919469   0.7317758   0.03710952  2.0216126\n",
            "  0.5811609   1.6178602  -0.7121842  -0.19594982 -0.5529003   0.62868845\n",
            " -2.4013534  -1.7821754   2.0707784   0.9138373  -2.0583932   2.3291535\n",
            " -3.9951007   3.570585   -0.90359753  2.544478    0.6980803   3.1440418\n",
            "  0.56930906  3.2954435  -0.58187264 -1.4343321 ]\n"
          ],
          "name": "stdout"
        }
      ]
    },
    {
      "cell_type": "markdown",
      "metadata": {
        "id": "hEajtzI8o9TP"
      },
      "source": [
        "■ 「宇都宮」ー「栃木」＋「群馬」を求める："
      ]
    },
    {
      "cell_type": "code",
      "metadata": {
        "id": "o_TCBvBqo9a0",
        "colab": {
          "base_uri": "https://localhost:8080/"
        },
        "outputId": "94091112-b67e-4ab7-a7f3-9e9145c4d5e4"
      },
      "source": [
        "out = model.wv.most_similar(positive=[u'宇都宮', u'群馬'], negative=[u'栃木'], topn=7)\n",
        "print(out)\n"
      ],
      "execution_count": null,
      "outputs": [
        {
          "output_type": "stream",
          "text": [
            "[('前橋', 0.7003206014633179), ('高崎', 0.6781094074249268), ('上野', 0.6506083607673645), ('伊勢崎', 0.6436746120452881), ('館林', 0.6416027545928955), ('群馬県', 0.5982699990272522), ('川越', 0.5848405361175537)]\n"
          ],
          "name": "stdout"
        }
      ]
    },
    {
      "cell_type": "markdown",
      "metadata": {
        "id": "eTrAiFr5pjHv"
      },
      "source": [
        "■ 「東京」ー 「日本」 ＋ 「フランス」："
      ]
    },
    {
      "cell_type": "code",
      "metadata": {
        "id": "xFRolkkPpe20",
        "colab": {
          "base_uri": "https://localhost:8080/"
        },
        "outputId": "af18a6c1-f467-4822-e254-797790e65ab0"
      },
      "source": [
        "out = model.wv.most_similar(positive=[u'東京', u'フランス'], negative=[u'日本'], topn=7)\n",
        "print(out)"
      ],
      "execution_count": null,
      "outputs": [
        {
          "output_type": "stream",
          "text": [
            "[('パリ', 0.7772352695465088), ('リヨン', 0.667975902557373), ('マルセイユ', 0.6568866968154907), ('トゥールーズ', 0.6452572345733643), ('ストラスブール', 0.6431781649589539), ('ルーアン', 0.6306051015853882), ('アルジェ', 0.6139704585075378)]\n"
          ],
          "name": "stdout"
        }
      ]
    },
    {
      "cell_type": "markdown",
      "metadata": {
        "id": "CQHDmWJvph_-"
      },
      "source": [
        "■ 「税金」ー 「東京」 ＋ 「江戸」："
      ]
    },
    {
      "cell_type": "code",
      "metadata": {
        "id": "d-VtOOSapmq1",
        "colab": {
          "base_uri": "https://localhost:8080/"
        },
        "outputId": "312c0195-54ed-4fff-d22e-fc82fe1e9976"
      },
      "source": [
        "out = model.wv.most_similar(positive=[u'税金', u'江戸'], negative=[u'東京'], topn=7)\n",
        "print(out)\n"
      ],
      "execution_count": null,
      "outputs": [
        {
          "output_type": "stream",
          "text": [
            "[('年貢', 0.5987992882728577), ('税', 0.5629068613052368), ('租税', 0.5464857816696167), ('人頭税', 0.5354717969894409), ('課税', 0.5276181697845459), ('貢租', 0.5268974304199219), ('地税', 0.525383710861206)]\n"
          ],
          "name": "stdout"
        }
      ]
    },
    {
      "cell_type": "markdown",
      "metadata": {
        "id": "XstqC0ngpm6D"
      },
      "source": [
        "■ 「前橋」ー「群馬」、「宇都宮」ー「栃木」：\n"
      ]
    },
    {
      "cell_type": "code",
      "metadata": {
        "colab": {
          "base_uri": "https://localhost:8080/"
        },
        "id": "Ch4s-9UBpnBf",
        "outputId": "ead7f14f-82c1-4a61-a419-f3d3a96d3395"
      },
      "source": [
        "out = model.wv.most_similar(positive=[u'前橋'], negative=[u'群馬'], topn=7)\n",
        "print(out)\n",
        "out = model.wv.most_similar(positive=[u'宇都宮'], negative=[u'栃木'], topn=7)\n",
        "print(out)\n"
      ],
      "execution_count": null,
      "outputs": [
        {
          "output_type": "stream",
          "text": [
            "[('荒町', 0.35945919156074524), ('ツァイル', 0.35932156443595886), ('金融街', 0.3500640094280243), ('リーニエンヴァル', 0.34709176421165466), ('城下町', 0.33925697207450867), ('プリンツィパルマルクト', 0.3359150290489197), ('ドーディコ', 0.3354526162147522)]\n",
            "[('大友', 0.43569180369377136), ('義豊', 0.4274987280368805), ('北条', 0.4223717451095581), ('多功', 0.4213789105415344), ('蘆名', 0.419045090675354), ('当城', 0.4179602265357971), ('上杉', 0.41740721464157104)]\n"
          ],
          "name": "stdout"
        }
      ]
    },
    {
      "cell_type": "markdown",
      "metadata": {
        "id": "BZ6lBiVZpnI8"
      },
      "source": [
        "■ 「カレーライス」ー「カレー」："
      ]
    },
    {
      "cell_type": "code",
      "metadata": {
        "colab": {
          "base_uri": "https://localhost:8080/"
        },
        "id": "eI232uJbpnQa",
        "outputId": "97388fff-8cc2-497c-fc8e-151d248c0604"
      },
      "source": [
        "out = model.wv.most_similar(positive=[u'カレーライス'], negative=[u'カレー'], topn=7)\n",
        "print(out)\n"
      ],
      "execution_count": null,
      "outputs": [
        {
          "output_type": "stream",
          "text": [
            "[('座棺', 0.3411228656768799), ('七厘', 0.33888956904411316), ('秋夕', 0.33209744095802307), ('無文', 0.3278311491012573), ('食事時間', 0.3257192373275757), ('オールドファン', 0.323158860206604), ('最敬礼', 0.3195679187774658)]\n"
          ],
          "name": "stdout"
        }
      ]
    },
    {
      "cell_type": "code",
      "metadata": {
        "id": "HsfZSUegrXgo"
      },
      "source": [],
      "execution_count": null,
      "outputs": []
    }
  ]
}